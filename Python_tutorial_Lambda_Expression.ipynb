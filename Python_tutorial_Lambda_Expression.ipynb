{
  "nbformat": 4,
  "nbformat_minor": 0,
  "metadata": {
    "colab": {
      "name": "Python tutorial Lambda Expression.ipynb",
      "provenance": []
    },
    "kernelspec": {
      "name": "python3",
      "display_name": "Python 3"
    },
    "language_info": {
      "name": "python"
    }
  },
  "cells": [
    {
      "cell_type": "code",
      "execution_count": 8,
      "metadata": {
        "id": "JGKnX5KU8XnM",
        "colab": {
          "base_uri": "https://localhost:8080/"
        },
        "outputId": "ebb891e2-622d-4b8a-db64-ad926b3e98d1"
      },
      "outputs": [
        {
          "output_type": "execute_result",
          "data": {
            "text/plain": [
              "7"
            ]
          },
          "metadata": {},
          "execution_count": 8
        }
      ],
      "source": [
        "def f(x):\n",
        "  return 3*x+1\n",
        "f(2)"
      ]
    },
    {
      "cell_type": "markdown",
      "source": [
        "Anonymous function = Lambda Function"
      ],
      "metadata": {
        "id": "inK5uY3G_pE5"
      }
    },
    {
      "cell_type": "code",
      "source": [
        "lambda x : 3*x+1   #takes x an input and gives back 3x+1 #anonymous function"
      ],
      "metadata": {
        "colab": {
          "base_uri": "https://localhost:8080/"
        },
        "id": "ArWKfJLX_mqt",
        "outputId": "8db7983c-1b09-47ce-ce30-f55a0b916e15"
      },
      "execution_count": 10,
      "outputs": [
        {
          "output_type": "execute_result",
          "data": {
            "text/plain": [
              "<function __main__.<lambda>(x)>"
            ]
          },
          "metadata": {},
          "execution_count": 10
        }
      ]
    },
    {
      "cell_type": "code",
      "source": [
        "g = lambda x : 3*x+1 \n",
        "g(2)"
      ],
      "metadata": {
        "colab": {
          "base_uri": "https://localhost:8080/"
        },
        "id": "6wvD7SpsAUmz",
        "outputId": "c24418eb-faf3-4969-f2b1-3f02700a0253"
      },
      "execution_count": 11,
      "outputs": [
        {
          "output_type": "execute_result",
          "data": {
            "text/plain": [
              "7"
            ]
          },
          "metadata": {},
          "execution_count": 11
        }
      ]
    },
    {
      "cell_type": "markdown",
      "source": [
        "More than ONE INPUT"
      ],
      "metadata": {
        "id": "_WJ6g-Z4Akh_"
      }
    },
    {
      "cell_type": "code",
      "source": [
        "full_name = lambda fn, ln:fn.strip().title() + \" \" + ln.strip().title()\n",
        "full_name(\" eesha\" , \" babar\")"
      ],
      "metadata": {
        "colab": {
          "base_uri": "https://localhost:8080/",
          "height": 36
        },
        "id": "Jj7d-2DCAjx5",
        "outputId": "534e44ed-9195-481e-ac9d-d506aaa7e356"
      },
      "execution_count": 13,
      "outputs": [
        {
          "output_type": "execute_result",
          "data": {
            "text/plain": [
              "'Eesha Babar'"
            ],
            "application/vnd.google.colaboratory.intrinsic+json": {
              "type": "string"
            }
          },
          "metadata": {},
          "execution_count": 13
        }
      ]
    },
    {
      "cell_type": "markdown",
      "source": [
        "A lambda function is a small anonymous function.\n",
        "\n",
        "A lambda function can take any number of arguments, but can only have one expression.\n",
        "\n",
        "Syntax\n",
        "lambda arguments : expression"
      ],
      "metadata": {
        "id": "diRkAz2FBYOw"
      }
    },
    {
      "cell_type": "markdown",
      "source": [
        "We use lambda functions when we require a nameless function for a short period of time. In Python, we generally use it as an argument to a higher-order function (a function that takes in other functions as arguments). Lambda functions are used along with built-in functions like filter() , map() etc."
      ],
      "metadata": {
        "id": "ie8Bx13aBpDA"
      }
    },
    {
      "cell_type": "code",
      "source": [
        "scifi_authors = [\"Ray Bradbury\", \"Isaac Asimov\", \"Heinlein G\", \"Clarke L\", \"Le Guin\"] #sort by last name\n"
      ],
      "metadata": {
        "id": "Si0dJRhqBMM2"
      },
      "execution_count": 14,
      "outputs": []
    },
    {
      "cell_type": "code",
      "source": [
        "help(scifi_authors.sort)"
      ],
      "metadata": {
        "colab": {
          "base_uri": "https://localhost:8080/"
        },
        "id": "bn_E7vnACLVT",
        "outputId": "6fdcdb8d-3eb2-4f76-dda2-976616f318b5"
      },
      "execution_count": 16,
      "outputs": [
        {
          "output_type": "stream",
          "name": "stdout",
          "text": [
            "Help on built-in function sort:\n",
            "\n",
            "sort(*, key=None, reverse=False) method of builtins.list instance\n",
            "    Stable sort *IN PLACE*.\n",
            "\n"
          ]
        }
      ]
    },
    {
      "cell_type": "code",
      "source": [
        "scifi_authors.sort(key = lambda name: name.split(\" \")[-1].lower())\n",
        "scifi_authors "
      ],
      "metadata": {
        "colab": {
          "base_uri": "https://localhost:8080/"
        },
        "id": "qPqZ8YP3CPNr",
        "outputId": "9611d358-2f20-44c3-ee9a-159395951b50"
      },
      "execution_count": 19,
      "outputs": [
        {
          "output_type": "execute_result",
          "data": {
            "text/plain": [
              "['Isaac Asimov', 'Ray Bradbury', 'Heinlein G', 'Le Guin', 'Clarke L']"
            ]
          },
          "metadata": {},
          "execution_count": 19
        }
      ]
    },
    {
      "cell_type": "code",
      "source": [
        "def build_quadratic_functions(a,b,c):\n",
        "  \"\"\"Returns the function ax^2+bx+c\"\"\"\n",
        "  return lambda x: a*x**2 + b*x + c\n",
        "f = build_quadratic_functions(2,3,-5)\n",
        "f(0)"
      ],
      "metadata": {
        "colab": {
          "base_uri": "https://localhost:8080/"
        },
        "id": "GbYMfqnJCk7b",
        "outputId": "6b37f803-7a34-4b8c-b40d-1a3e6ec2f255"
      },
      "execution_count": 25,
      "outputs": [
        {
          "output_type": "execute_result",
          "data": {
            "text/plain": [
              "-5"
            ]
          },
          "metadata": {},
          "execution_count": 25
        }
      ]
    },
    {
      "cell_type": "code",
      "source": [
        "f(1)"
      ],
      "metadata": {
        "colab": {
          "base_uri": "https://localhost:8080/"
        },
        "id": "XhCtkCrwDl9R",
        "outputId": "652ad35e-b70f-4a93-afc9-0061e2f5779c"
      },
      "execution_count": 26,
      "outputs": [
        {
          "output_type": "execute_result",
          "data": {
            "text/plain": [
              "0"
            ]
          },
          "metadata": {},
          "execution_count": 26
        }
      ]
    },
    {
      "cell_type": "code",
      "source": [
        "f(2)"
      ],
      "metadata": {
        "colab": {
          "base_uri": "https://localhost:8080/"
        },
        "id": "cDumrj7TD_l-",
        "outputId": "f23d61f2-052a-4070-e660-0ecc123bd4af"
      },
      "execution_count": 27,
      "outputs": [
        {
          "output_type": "execute_result",
          "data": {
            "text/plain": [
              "9"
            ]
          },
          "metadata": {},
          "execution_count": 27
        }
      ]
    },
    {
      "cell_type": "code",
      "source": [
        "build_quadratic_functions(3,0,1)(2)"
      ],
      "metadata": {
        "colab": {
          "base_uri": "https://localhost:8080/"
        },
        "id": "pc1kldSCEBkg",
        "outputId": "03f9708b-1627-46e7-abae-d0082026fe19"
      },
      "execution_count": 28,
      "outputs": [
        {
          "output_type": "execute_result",
          "data": {
            "text/plain": [
              "13"
            ]
          },
          "metadata": {},
          "execution_count": 28
        }
      ]
    },
    {
      "cell_type": "code",
      "source": [
        ""
      ],
      "metadata": {
        "id": "JP39OlB1EveX"
      },
      "execution_count": null,
      "outputs": []
    }
  ]
}