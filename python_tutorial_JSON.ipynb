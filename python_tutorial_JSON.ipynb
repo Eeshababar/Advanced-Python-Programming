{
  "nbformat": 4,
  "nbformat_minor": 0,
  "metadata": {
    "colab": {
      "provenance": []
    },
    "kernelspec": {
      "name": "python3",
      "display_name": "Python 3"
    },
    "language_info": {
      "name": "python"
    }
  },
  "cells": [
    {
      "cell_type": "markdown",
      "source": [
        "### Java Script object notation: shorter than XML, python JSON Library"
      ],
      "metadata": {
        "id": "lyYMF2GYOmBs"
      }
    },
    {
      "cell_type": "markdown",
      "source": [
        "JSON looks like python dictionaries, keys are string, while value can be anything\n",
        "None = Null\n",
        "True and Falls not capitalize\n"
      ],
      "metadata": {
        "id": "5aFvP_wyO5z9"
      }
    },
    {
      "cell_type": "code",
      "execution_count": 2,
      "metadata": {
        "id": "gKZ0KV2dOj1e",
        "colab": {
          "base_uri": "https://localhost:8080/"
        },
        "outputId": "daef0042-9340-47c8-b2fd-feb4403c1fe6"
      },
      "outputs": [
        {
          "output_type": "execute_result",
          "data": {
            "text/plain": [
              "['JSONDecodeError',\n",
              " 'JSONDecoder',\n",
              " 'JSONEncoder',\n",
              " '__all__',\n",
              " '__author__',\n",
              " '__builtins__',\n",
              " '__cached__',\n",
              " '__doc__',\n",
              " '__file__',\n",
              " '__loader__',\n",
              " '__name__',\n",
              " '__package__',\n",
              " '__path__',\n",
              " '__spec__',\n",
              " '__version__',\n",
              " '_default_decoder',\n",
              " '_default_encoder',\n",
              " 'codecs',\n",
              " 'decoder',\n",
              " 'detect_encoding',\n",
              " 'dump',\n",
              " 'dumps',\n",
              " 'encoder',\n",
              " 'load',\n",
              " 'loads',\n",
              " 'scanner']"
            ]
          },
          "metadata": {},
          "execution_count": 2
        }
      ],
      "source": [
        "import json\n",
        "dir(json)"
      ]
    },
    {
      "cell_type": "markdown",
      "source": [
        "load (load json data from file)\n",
        "loads(load json data from string)\n",
        "dump (Write Json data to file)\n",
        "dumps (Output string in proper json format)"
      ],
      "metadata": {
        "id": "lNXD10K-9MvX"
      }
    },
    {
      "cell_type": "code",
      "source": [
        "json_file = open(\"/content/sample2.json\" , \"r\" , encoding=\"utf-8\") #read only mode"
      ],
      "metadata": {
        "id": "asIrRUN39FGA"
      },
      "execution_count": 7,
      "outputs": []
    },
    {
      "cell_type": "code",
      "source": [
        "movie = json.load(json_file)"
      ],
      "metadata": {
        "id": "LvKGQZPD91Gf"
      },
      "execution_count": 8,
      "outputs": []
    },
    {
      "cell_type": "code",
      "source": [
        "movie"
      ],
      "metadata": {
        "colab": {
          "base_uri": "https://localhost:8080/"
        },
        "id": "gG7GF0Th9-9Q",
        "outputId": "679184c9-0ba7-4d50-8938-8a9f759c483b"
      },
      "execution_count": 9,
      "outputs": [
        {
          "output_type": "execute_result",
          "data": {
            "text/plain": [
              "{'firstName': 'Joe',\n",
              " 'lastName': 'Jackson',\n",
              " 'gender': 'male',\n",
              " 'age': 28,\n",
              " 'address': {'streetAddress': '101', 'city': 'San Diego', 'state': 'CA'},\n",
              " 'phoneNumbers': [{'type': 'home', 'number': '7349282382'}]}"
            ]
          },
          "metadata": {},
          "execution_count": 9
        }
      ]
    },
    {
      "cell_type": "code",
      "source": [
        "type(movie)"
      ],
      "metadata": {
        "colab": {
          "base_uri": "https://localhost:8080/"
        },
        "id": "iMkuNON7-RNA",
        "outputId": "bb3262fc-085d-434b-e3c7-f37e34e1f441"
      },
      "execution_count": 10,
      "outputs": [
        {
          "output_type": "execute_result",
          "data": {
            "text/plain": [
              "dict"
            ]
          },
          "metadata": {},
          "execution_count": 10
        }
      ]
    },
    {
      "cell_type": "markdown",
      "source": [
        "its a dictionary hence can access data by using key"
      ],
      "metadata": {
        "id": "NcepxiEK-XCf"
      }
    },
    {
      "cell_type": "code",
      "source": [
        "value = \"\"\"{\"title\" : \"Tom : Harvey\",\n",
        "             \"Composer\" : \"John : H\",\n",
        "             \"release_year\" : 2010, \n",
        "             \"budget\" : 17000000,\n",
        "             \"actors\" : null,\n",
        "             \"won oscar\" : false\n",
        "             } \"\"\"\n",
        "\n",
        "\n"
      ],
      "metadata": {
        "id": "ZNKLBXVv-UAE"
      },
      "execution_count": 11,
      "outputs": []
    },
    {
      "cell_type": "code",
      "source": [
        "tron = json.loads(value)"
      ],
      "metadata": {
        "id": "3PBBNEzs_D_r"
      },
      "execution_count": 13,
      "outputs": []
    },
    {
      "cell_type": "code",
      "source": [
        "tron"
      ],
      "metadata": {
        "colab": {
          "base_uri": "https://localhost:8080/"
        },
        "id": "AAZSIv9f_JuX",
        "outputId": "ac9706a3-d076-4413-bb96-8489fbc2eac6"
      },
      "execution_count": 14,
      "outputs": [
        {
          "output_type": "execute_result",
          "data": {
            "text/plain": [
              "{'title': 'Tom : Harvey',\n",
              " 'Composer': 'John : H',\n",
              " 'release_year': 2010,\n",
              " 'budget': 17000000,\n",
              " 'actors': None,\n",
              " 'won oscar': False}"
            ]
          },
          "metadata": {},
          "execution_count": 14
        }
      ]
    },
    {
      "cell_type": "code",
      "source": [
        "json.dumps(movie) #converted to JSON format string"
      ],
      "metadata": {
        "colab": {
          "base_uri": "https://localhost:8080/",
          "height": 55
        },
        "id": "F5gnuM_m_P9l",
        "outputId": "bb1d06d6-0294-4abb-ccb6-44a1b37cf01d"
      },
      "execution_count": 15,
      "outputs": [
        {
          "output_type": "execute_result",
          "data": {
            "text/plain": [
              "'{\"firstName\": \"Joe\", \"lastName\": \"Jackson\", \"gender\": \"male\", \"age\": 28, \"address\": {\"streetAddress\": \"101\", \"city\": \"San Diego\", \"state\": \"CA\"}, \"phoneNumbers\": [{\"type\": \"home\", \"number\": \"7349282382\"}]}'"
            ],
            "application/vnd.google.colaboratory.intrinsic+json": {
              "type": "string"
            }
          },
          "metadata": {},
          "execution_count": 15
        }
      ]
    },
    {
      "cell_type": "code",
      "source": [
        "json.dumps(movie, ensure_ascii = False) #non-ascii character preserved"
      ],
      "metadata": {
        "colab": {
          "base_uri": "https://localhost:8080/",
          "height": 55
        },
        "id": "Z8N1U1Vh_Y-I",
        "outputId": "976b3fa9-b83c-47f6-c5f2-f3b7c92f5a49"
      },
      "execution_count": 17,
      "outputs": [
        {
          "output_type": "execute_result",
          "data": {
            "text/plain": [
              "'{\"firstName\": \"Joe\", \"lastName\": \"Jackson\", \"gender\": \"male\", \"age\": 28, \"address\": {\"streetAddress\": \"101\", \"city\": \"San Diego\", \"state\": \"CA\"}, \"phoneNumbers\": [{\"type\": \"home\", \"number\": \"7349282382\"}]}'"
            ],
            "application/vnd.google.colaboratory.intrinsic+json": {
              "type": "string"
            }
          },
          "metadata": {},
          "execution_count": 17
        }
      ]
    },
    {
      "cell_type": "code",
      "source": [
        "movie2 = {}\n",
        "movie2[\"title\"] = \"Minority Report\"\n",
        "movie2[\"Director\"] = \"Adward Lo\"\n",
        "movie2[\"Composer\"] = \"Adat Fang\"\n",
        "movie2[\"actors\"] = [\"Minority Report\", \"Lein half\", \"Howard Geen\"]\n",
        "movie2[\"is_awesome\"] = \"True\"\n",
        "movie2[\"budget\"] = 102000000\n",
        "movie2[\"cinmotographer\"] = \"Jansuz Kami\\u0144ski\""
      ],
      "metadata": {
        "id": "1aXEDJ4c_qix"
      },
      "execution_count": 18,
      "outputs": []
    },
    {
      "cell_type": "code",
      "source": [
        "file2 = open(\"movie.txt\",  \"w\" , encoding = \"utf-8\")\n",
        "json.dump(movie2, file2, ensure_ascii = False)\n"
      ],
      "metadata": {
        "id": "aWv1mzJOApTL"
      },
      "execution_count": 19,
      "outputs": []
    },
    {
      "cell_type": "code",
      "source": [
        "file2.close()"
      ],
      "metadata": {
        "id": "crKd0SXFBGgZ"
      },
      "execution_count": 20,
      "outputs": []
    },
    {
      "cell_type": "code",
      "source": [],
      "metadata": {
        "id": "dcCttGGoBLq0"
      },
      "execution_count": null,
      "outputs": []
    }
  ]
}