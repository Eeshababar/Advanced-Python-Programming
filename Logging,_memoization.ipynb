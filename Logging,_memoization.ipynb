{
  "cells": [
    {
      "cell_type": "code",
      "execution_count": null,
      "metadata": {
        "colab": {
          "base_uri": "https://localhost:8080/"
        },
        "id": "YTJjM2WWaFwW",
        "outputId": "55f85988-ed91-4caf-cd49-ff3dc01d997c"
      },
      "outputs": [
        {
          "name": "stdout",
          "output_type": "stream",
          "text": [
            "Please enter a test string:is\n"
          ]
        }
      ],
      "source": [
        "input1 = input(\"Please enter a test string:\")"
      ]
    },
    {
      "cell_type": "code",
      "execution_count": null,
      "metadata": {
        "colab": {
          "base_uri": "https://localhost:8080/"
        },
        "id": "79sHzpd8aSau",
        "outputId": "91f42fd0-67d3-47f5-989c-ae8f56b5ac4a"
      },
      "outputs": [
        {
          "name": "stdout",
          "output_type": "stream",
          "text": [
            "The length is less than 6\n",
            "Enter a new one\n"
          ]
        }
      ],
      "source": [
        "if len(input1) < 6:\n",
        "  print(\"The length is less than 6\")\n",
        "  print(\"Enter a new one\") #Any size identation works as long as these are matched"
      ]
    },
    {
      "cell_type": "code",
      "execution_count": null,
      "metadata": {
        "colab": {
          "base_uri": "https://localhost:8080/"
        },
        "id": "GQfPW54xan_m",
        "outputId": "1e72d944-4bcb-4d5f-a87a-27eacfecbdd5"
      },
      "outputs": [
        {
          "name": "stdout",
          "output_type": "stream",
          "text": [
            "Please enter a test string:mission\n"
          ]
        }
      ],
      "source": [
        "input2 = input(\"Please enter a test string:\")"
      ]
    },
    {
      "cell_type": "code",
      "execution_count": null,
      "metadata": {
        "id": "TDCjW8aaarvh"
      },
      "outputs": [],
      "source": [
        "if len(input2) < 6:\n",
        "  print(\"The length is less than 6\")\n",
        "  print(\"Enter a new one\")"
      ]
    },
    {
      "cell_type": "code",
      "execution_count": null,
      "metadata": {
        "colab": {
          "base_uri": "https://localhost:8080/"
        },
        "id": "SRl-shv6a8gx",
        "outputId": "e2fbb379-830d-4ce9-f2c9-5056fae9ce31"
      },
      "outputs": [
        {
          "name": "stdout",
          "output_type": "stream",
          "text": [
            "Please enter an interger:3\n"
          ]
        }
      ],
      "source": [
        "input3 = input(\"Please enter an interger:\")\n",
        "number = int(input3)"
      ]
    },
    {
      "cell_type": "code",
      "execution_count": null,
      "metadata": {
        "colab": {
          "base_uri": "https://localhost:8080/"
        },
        "id": "4IMOW3h8p2oJ",
        "outputId": "cd9f02f9-16e7-475e-e6f4-8619393fa367"
      },
      "outputs": [
        {
          "name": "stdout",
          "output_type": "stream",
          "text": [
            "number is odd\n"
          ]
        }
      ],
      "source": [
        "if number % 2 == 0:\n",
        " print(\"number is even\")\n",
        "else:\n",
        " print(\"number is odd\")"
      ]
    },
    {
      "cell_type": "code",
      "execution_count": null,
      "metadata": {
        "colab": {
          "base_uri": "https://localhost:8080/"
        },
        "id": "FOvznyeHqI1Y",
        "outputId": "dcb1a2a1-743d-41de-a5e1-cebbc1af1c40"
      },
      "outputs": [
        {
          "name": "stdout",
          "output_type": "stream",
          "text": [
            "Please enter an interger:4\n"
          ]
        }
      ],
      "source": [
        "input3 = input(\"Please enter an interger:\")\n",
        "number = int(input3)"
      ]
    },
    {
      "cell_type": "code",
      "execution_count": null,
      "metadata": {
        "colab": {
          "base_uri": "https://localhost:8080/"
        },
        "id": "1fj0v6k5qNqP",
        "outputId": "17587132-a3c0-4cdb-d6bd-a2acb01c5827"
      },
      "outputs": [
        {
          "name": "stdout",
          "output_type": "stream",
          "text": [
            "number is even\n"
          ]
        }
      ],
      "source": [
        "if number % 2 == 0:\n",
        " print(\"number is even\")\n",
        "else:\n",
        " print(\"number is odd\")"
      ]
    },
    {
      "cell_type": "code",
      "execution_count": null,
      "metadata": {
        "colab": {
          "base_uri": "https://localhost:8080/",
          "height": 209
        },
        "id": "OtWWpAU7qQua",
        "outputId": "303677cc-6428-4be6-cdaf-dd210b465e85"
      },
      "outputs": [
        {
          "name": "stdout",
          "output_type": "stream",
          "text": [
            "Please enter an interger:Mercurry\n"
          ]
        },
        {
          "ename": "ValueError",
          "evalue": "ignored",
          "output_type": "error",
          "traceback": [
            "\u001b[0;31m---------------------------------------------------------------------------\u001b[0m",
            "\u001b[0;31mValueError\u001b[0m                                Traceback (most recent call last)",
            "\u001b[0;32m<ipython-input-12-b49ff0747565>\u001b[0m in \u001b[0;36m<module>\u001b[0;34m()\u001b[0m\n\u001b[1;32m      1\u001b[0m \u001b[0minput3\u001b[0m \u001b[0;34m=\u001b[0m \u001b[0minput\u001b[0m\u001b[0;34m(\u001b[0m\u001b[0;34m\"Please enter an interger:\"\u001b[0m\u001b[0;34m)\u001b[0m\u001b[0;34m\u001b[0m\u001b[0;34m\u001b[0m\u001b[0m\n\u001b[0;32m----> 2\u001b[0;31m \u001b[0mnumber\u001b[0m \u001b[0;34m=\u001b[0m \u001b[0mint\u001b[0m\u001b[0;34m(\u001b[0m\u001b[0minput3\u001b[0m\u001b[0;34m)\u001b[0m\u001b[0;34m\u001b[0m\u001b[0;34m\u001b[0m\u001b[0m\n\u001b[0m",
            "\u001b[0;31mValueError\u001b[0m: invalid literal for int() with base 10: 'Mercurry'"
          ]
        }
      ],
      "source": [
        "input3 = input(\"Please enter an interger:\")\n",
        "number = int(input3)"
      ]
    },
    {
      "cell_type": "code",
      "execution_count": null,
      "metadata": {
        "colab": {
          "base_uri": "https://localhost:8080/"
        },
        "id": "bgti21bkqU60",
        "outputId": "4f168d09-2fa6-400d-8155-2a7d291ee61e"
      },
      "outputs": [
        {
          "name": "stdout",
          "output_type": "stream",
          "text": [
            "The length of a =2\n",
            "The length of b =2\n",
            "The length of c =3\n"
          ]
        }
      ],
      "source": [
        "a = int(input(\"The length of a =\"))\n",
        "b = int(input(\"The length of b =\"))\n",
        "c = int(input(\"The length of c =\"))"
      ]
    },
    {
      "cell_type": "code",
      "execution_count": null,
      "metadata": {
        "colab": {
          "base_uri": "https://localhost:8080/"
        },
        "id": "r_LmdZHDqr-v",
        "outputId": "d0592f7a-71c5-495e-e4a6-84a4e9082810"
      },
      "outputs": [
        {
          "name": "stdout",
          "output_type": "stream",
          "text": [
            "This is an isosceles trinangle\n"
          ]
        }
      ],
      "source": [
        "if a!=b and b!=c and c!=a:\n",
        "  print(\"This is a scalene triangle\")\n",
        "elif a == b and b == c:\n",
        "  print(\"This is an equilateral trinagle\")\n",
        "else:\n",
        "  print(\"This is an isosceles trinangle\")"
      ]
    },
    {
      "cell_type": "code",
      "execution_count": null,
      "metadata": {
        "colab": {
          "base_uri": "https://localhost:8080/"
        },
        "id": "vN4EmelfrX19",
        "outputId": "475e3c73-a84e-478e-a196-5417535d3551"
      },
      "outputs": [
        {
          "name": "stdout",
          "output_type": "stream",
          "text": [
            "The length of a =8\n",
            "The length of b =10\n",
            "The length of c =11\n",
            "This is a scalene triangle\n"
          ]
        }
      ],
      "source": [
        "a = int(input(\"The length of a =\"))\n",
        "b = int(input(\"The length of b =\"))\n",
        "c = int(input(\"The length of c =\"))\n",
        "if a!=b and b!=c and c!=a:\n",
        "  print(\"This is a scalene triangle\")\n",
        "elif a == b and b == c:\n",
        "  print(\"This is an equilateral trinagle\")\n",
        "else:\n",
        "  print(\"This is an isosceles trinangle\")"
      ]
    },
    {
      "cell_type": "code",
      "execution_count": null,
      "metadata": {
        "colab": {
          "base_uri": "https://localhost:8080/"
        },
        "id": "lAk-ieAtrelh",
        "outputId": "393079d1-67d8-4779-e374-da2229406495"
      },
      "outputs": [
        {
          "name": "stdout",
          "output_type": "stream",
          "text": [
            "The length of a =5\n",
            "The length of b =5\n",
            "The length of c =5\n",
            "This is an equilateral trinagle\n"
          ]
        }
      ],
      "source": [
        "a = int(input(\"The length of a =\"))\n",
        "b = int(input(\"The length of b =\"))\n",
        "c = int(input(\"The length of c =\"))\n",
        "if a!=b and b!=c and c!=a:\n",
        "  print(\"This is a scalene triangle\")\n",
        "elif a == b and b == c:\n",
        "  print(\"This is an equilateral trinagle\")\n",
        "else:\n",
        "  print(\"This is an isosceles trinangle\")"
      ]
    },
    {
      "cell_type": "markdown",
      "metadata": {
        "id": "4D-jHKL5r4Ks"
      },
      "source": [
        "#Functions"
      ]
    },
    {
      "cell_type": "code",
      "execution_count": null,
      "metadata": {
        "colab": {
          "base_uri": "https://localhost:8080/"
        },
        "id": "vUdGgitar1NN",
        "outputId": "4495acff-6e4e-4966-a471-f4a166b7c9dd"
      },
      "outputs": [
        {
          "data": {
            "text/plain": [
              "['In',\n",
              " 'Out',\n",
              " '_',\n",
              " '__',\n",
              " '___',\n",
              " '__builtin__',\n",
              " '__builtins__',\n",
              " '__doc__',\n",
              " '__loader__',\n",
              " '__name__',\n",
              " '__package__',\n",
              " '__spec__',\n",
              " '_dh',\n",
              " '_i',\n",
              " '_i1',\n",
              " '_i10',\n",
              " '_i11',\n",
              " '_i12',\n",
              " '_i13',\n",
              " '_i14',\n",
              " '_i15',\n",
              " '_i16',\n",
              " '_i17',\n",
              " '_i2',\n",
              " '_i3',\n",
              " '_i4',\n",
              " '_i5',\n",
              " '_i6',\n",
              " '_i7',\n",
              " '_i8',\n",
              " '_i9',\n",
              " '_ih',\n",
              " '_ii',\n",
              " '_iii',\n",
              " '_oh',\n",
              " '_sh',\n",
              " 'a',\n",
              " 'b',\n",
              " 'c',\n",
              " 'exit',\n",
              " 'get_ipython',\n",
              " 'input1',\n",
              " 'input2',\n",
              " 'input3',\n",
              " 'number',\n",
              " 'quit']"
            ]
          },
          "execution_count": 17,
          "metadata": {},
          "output_type": "execute_result"
        }
      ],
      "source": [
        "dir()\n"
      ]
    },
    {
      "cell_type": "code",
      "execution_count": null,
      "metadata": {
        "id": "01s95o0brkBS"
      },
      "outputs": [],
      "source": [
        "def f():\n",
        "  pass #skip this line and do nothing"
      ]
    },
    {
      "cell_type": "code",
      "execution_count": null,
      "metadata": {
        "id": "aj6zJe37sMNJ"
      },
      "outputs": [],
      "source": [
        "f()"
      ]
    },
    {
      "cell_type": "code",
      "execution_count": null,
      "metadata": {
        "colab": {
          "base_uri": "https://localhost:8080/"
        },
        "id": "GMylhsA6sPyb",
        "outputId": "d983dd46-27eb-47f6-b798-e7829476e270"
      },
      "outputs": [
        {
          "data": {
            "text/plain": [
              "<function __main__.f>"
            ]
          },
          "execution_count": 20,
          "metadata": {},
          "output_type": "execute_result"
        }
      ],
      "source": [
        "f"
      ]
    },
    {
      "cell_type": "code",
      "execution_count": null,
      "metadata": {
        "colab": {
          "base_uri": "https://localhost:8080/"
        },
        "id": "l3eYYL6msRMH",
        "outputId": "aff3e223-95e9-457d-abcb-e7c2ae0b65f5"
      },
      "outputs": [
        {
          "data": {
            "text/plain": [
              "['In',\n",
              " 'Out',\n",
              " '_',\n",
              " '_17',\n",
              " '_20',\n",
              " '__',\n",
              " '___',\n",
              " '__builtin__',\n",
              " '__builtins__',\n",
              " '__doc__',\n",
              " '__loader__',\n",
              " '__name__',\n",
              " '__package__',\n",
              " '__spec__',\n",
              " '_dh',\n",
              " '_i',\n",
              " '_i1',\n",
              " '_i10',\n",
              " '_i11',\n",
              " '_i12',\n",
              " '_i13',\n",
              " '_i14',\n",
              " '_i15',\n",
              " '_i16',\n",
              " '_i17',\n",
              " '_i18',\n",
              " '_i19',\n",
              " '_i2',\n",
              " '_i20',\n",
              " '_i21',\n",
              " '_i3',\n",
              " '_i4',\n",
              " '_i5',\n",
              " '_i6',\n",
              " '_i7',\n",
              " '_i8',\n",
              " '_i9',\n",
              " '_ih',\n",
              " '_ii',\n",
              " '_iii',\n",
              " '_oh',\n",
              " '_sh',\n",
              " 'a',\n",
              " 'b',\n",
              " 'c',\n",
              " 'exit',\n",
              " 'f',\n",
              " 'get_ipython',\n",
              " 'input1',\n",
              " 'input2',\n",
              " 'input3',\n",
              " 'number',\n",
              " 'quit']"
            ]
          },
          "execution_count": 21,
          "metadata": {},
          "output_type": "execute_result"
        }
      ],
      "source": [
        "dir()"
      ]
    },
    {
      "cell_type": "code",
      "execution_count": null,
      "metadata": {
        "id": "iP9LGzy8sWkt"
      },
      "outputs": [],
      "source": [
        "def ping():\n",
        "  return \"Ping!\""
      ]
    },
    {
      "cell_type": "code",
      "execution_count": null,
      "metadata": {
        "colab": {
          "base_uri": "https://localhost:8080/",
          "height": 36
        },
        "id": "dR8mqMo7sexB",
        "outputId": "80d5b054-fe62-4c71-8758-c996eb1d8f8d"
      },
      "outputs": [
        {
          "data": {
            "application/vnd.google.colaboratory.intrinsic+json": {
              "type": "string"
            },
            "text/plain": [
              "'Ping!'"
            ]
          },
          "execution_count": 23,
          "metadata": {},
          "output_type": "execute_result"
        }
      ],
      "source": [
        "ping()"
      ]
    },
    {
      "cell_type": "code",
      "execution_count": null,
      "metadata": {
        "id": "tT1QKuYJsf9H"
      },
      "outputs": [],
      "source": [
        "x = ping()"
      ]
    },
    {
      "cell_type": "code",
      "execution_count": null,
      "metadata": {
        "colab": {
          "base_uri": "https://localhost:8080/",
          "height": 36
        },
        "id": "7wqh5dctsjwV",
        "outputId": "8bcc42d7-dbaf-41c2-8824-add4eba963fe"
      },
      "outputs": [
        {
          "data": {
            "application/vnd.google.colaboratory.intrinsic+json": {
              "type": "string"
            },
            "text/plain": [
              "'Ping!'"
            ]
          },
          "execution_count": 25,
          "metadata": {},
          "output_type": "execute_result"
        }
      ],
      "source": [
        "x"
      ]
    },
    {
      "cell_type": "code",
      "execution_count": null,
      "metadata": {
        "colab": {
          "base_uri": "https://localhost:8080/"
        },
        "id": "hEAgcQMbskjF",
        "outputId": "a22b4a2c-f522-4526-a307-ff76b391d721"
      },
      "outputs": [
        {
          "data": {
            "text/plain": [
              "['In',\n",
              " 'Out',\n",
              " '_',\n",
              " '_17',\n",
              " '_20',\n",
              " '_21',\n",
              " '_23',\n",
              " '_25',\n",
              " '__',\n",
              " '___',\n",
              " '__builtin__',\n",
              " '__builtins__',\n",
              " '__doc__',\n",
              " '__loader__',\n",
              " '__name__',\n",
              " '__package__',\n",
              " '__spec__',\n",
              " '_dh',\n",
              " '_i',\n",
              " '_i1',\n",
              " '_i10',\n",
              " '_i11',\n",
              " '_i12',\n",
              " '_i13',\n",
              " '_i14',\n",
              " '_i15',\n",
              " '_i16',\n",
              " '_i17',\n",
              " '_i18',\n",
              " '_i19',\n",
              " '_i2',\n",
              " '_i20',\n",
              " '_i21',\n",
              " '_i22',\n",
              " '_i23',\n",
              " '_i24',\n",
              " '_i25',\n",
              " '_i26',\n",
              " '_i3',\n",
              " '_i4',\n",
              " '_i5',\n",
              " '_i6',\n",
              " '_i7',\n",
              " '_i8',\n",
              " '_i9',\n",
              " '_ih',\n",
              " '_ii',\n",
              " '_iii',\n",
              " '_oh',\n",
              " '_sh',\n",
              " 'a',\n",
              " 'b',\n",
              " 'c',\n",
              " 'exit',\n",
              " 'f',\n",
              " 'get_ipython',\n",
              " 'input1',\n",
              " 'input2',\n",
              " 'input3',\n",
              " 'number',\n",
              " 'ping',\n",
              " 'quit',\n",
              " 'x']"
            ]
          },
          "execution_count": 26,
          "metadata": {},
          "output_type": "execute_result"
        }
      ],
      "source": [
        "dir()"
      ]
    },
    {
      "cell_type": "code",
      "execution_count": null,
      "metadata": {
        "id": "_UrfgoTOsls8"
      },
      "outputs": [],
      "source": [
        "import math"
      ]
    },
    {
      "cell_type": "code",
      "execution_count": null,
      "metadata": {
        "colab": {
          "base_uri": "https://localhost:8080/"
        },
        "id": "WNkpCRxysq_I",
        "outputId": "a7a2ce95-bf46-45e8-c75e-450f6cc49c5f"
      },
      "outputs": [
        {
          "data": {
            "text/plain": [
              "['__doc__',\n",
              " '__loader__',\n",
              " '__name__',\n",
              " '__package__',\n",
              " '__spec__',\n",
              " 'acos',\n",
              " 'acosh',\n",
              " 'asin',\n",
              " 'asinh',\n",
              " 'atan',\n",
              " 'atan2',\n",
              " 'atanh',\n",
              " 'ceil',\n",
              " 'copysign',\n",
              " 'cos',\n",
              " 'cosh',\n",
              " 'degrees',\n",
              " 'e',\n",
              " 'erf',\n",
              " 'erfc',\n",
              " 'exp',\n",
              " 'expm1',\n",
              " 'fabs',\n",
              " 'factorial',\n",
              " 'floor',\n",
              " 'fmod',\n",
              " 'frexp',\n",
              " 'fsum',\n",
              " 'gamma',\n",
              " 'gcd',\n",
              " 'hypot',\n",
              " 'inf',\n",
              " 'isclose',\n",
              " 'isfinite',\n",
              " 'isinf',\n",
              " 'isnan',\n",
              " 'ldexp',\n",
              " 'lgamma',\n",
              " 'log',\n",
              " 'log10',\n",
              " 'log1p',\n",
              " 'log2',\n",
              " 'modf',\n",
              " 'nan',\n",
              " 'pi',\n",
              " 'pow',\n",
              " 'radians',\n",
              " 'remainder',\n",
              " 'sin',\n",
              " 'sinh',\n",
              " 'sqrt',\n",
              " 'tan',\n",
              " 'tanh',\n",
              " 'tau',\n",
              " 'trunc']"
            ]
          },
          "execution_count": 28,
          "metadata": {},
          "output_type": "execute_result"
        }
      ],
      "source": [
        "dir(math)"
      ]
    },
    {
      "cell_type": "code",
      "execution_count": null,
      "metadata": {
        "colab": {
          "base_uri": "https://localhost:8080/"
        },
        "id": "xHmCNhPWstMg",
        "outputId": "581f5dd9-226f-4159-d444-e38a1af987d1"
      },
      "outputs": [
        {
          "data": {
            "text/plain": [
              "3.141592653589793"
            ]
          },
          "execution_count": 29,
          "metadata": {},
          "output_type": "execute_result"
        }
      ],
      "source": [
        "math.pi"
      ]
    },
    {
      "cell_type": "code",
      "execution_count": null,
      "metadata": {
        "id": "6LN-X1eVszFK"
      },
      "outputs": [],
      "source": [
        "def volume(r):\n",
        "  \"\"\" Returns the volume\"\"\"\n",
        "  v = (4.0/3.0)*math.pi*r**3\n",
        "  return v\n"
      ]
    },
    {
      "cell_type": "code",
      "execution_count": null,
      "metadata": {
        "colab": {
          "base_uri": "https://localhost:8080/"
        },
        "id": "VXfer-4Hs4AW",
        "outputId": "bd169e8f-2ca9-4f40-bf78-a5c9c99ebd1e"
      },
      "outputs": [
        {
          "data": {
            "text/plain": [
              "33.510321638291124"
            ]
          },
          "execution_count": 33,
          "metadata": {},
          "output_type": "execute_result"
        }
      ],
      "source": [
        "volume(2)"
      ]
    },
    {
      "cell_type": "code",
      "execution_count": null,
      "metadata": {
        "colab": {
          "base_uri": "https://localhost:8080/",
          "height": 172
        },
        "id": "I3cm__JWtb2X",
        "outputId": "5f9b31a4-1fb7-4605-f4f7-81b079fcc985"
      },
      "outputs": [
        {
          "ename": "TypeError",
          "evalue": "ignored",
          "output_type": "error",
          "traceback": [
            "\u001b[0;31m---------------------------------------------------------------------------\u001b[0m",
            "\u001b[0;31mTypeError\u001b[0m                                 Traceback (most recent call last)",
            "\u001b[0;32m<ipython-input-35-2e3c3020f7da>\u001b[0m in \u001b[0;36m<module>\u001b[0;34m()\u001b[0m\n\u001b[0;32m----> 1\u001b[0;31m \u001b[0mvolume\u001b[0m\u001b[0;34m(\u001b[0m\u001b[0;34m)\u001b[0m\u001b[0;34m\u001b[0m\u001b[0;34m\u001b[0m\u001b[0m\n\u001b[0m",
            "\u001b[0;31mTypeError\u001b[0m: volume() missing 1 required positional argument: 'r'"
          ]
        }
      ],
      "source": [
        "volume()"
      ]
    },
    {
      "cell_type": "code",
      "execution_count": null,
      "metadata": {
        "colab": {
          "base_uri": "https://localhost:8080/"
        },
        "id": "nZSB_-HstgLC",
        "outputId": "8da87c2d-a0cf-4f07-a64c-97525b605630"
      },
      "outputs": [
        {
          "name": "stdout",
          "output_type": "stream",
          "text": [
            "Help on function volume in module __main__:\n",
            "\n",
            "volume(r)\n",
            "    Returns the volume\n",
            "\n"
          ]
        }
      ],
      "source": [
        "help(volume)"
      ]
    },
    {
      "cell_type": "code",
      "execution_count": null,
      "metadata": {
        "id": "qQ5R6agTtk6o"
      },
      "outputs": [],
      "source": [
        "def triangle_area(b,h):\n",
        "  \"\"\" Return the area of a triangle with base and height values\"\"\"\n",
        "  return 0.5 * b * h"
      ]
    },
    {
      "cell_type": "code",
      "execution_count": null,
      "metadata": {
        "colab": {
          "base_uri": "https://localhost:8080/"
        },
        "id": "MODB_BUst8lb",
        "outputId": "ed8a59d8-8097-47bc-e8ba-bdcbd584c28e"
      },
      "outputs": [
        {
          "data": {
            "text/plain": [
              "3.0"
            ]
          },
          "execution_count": 38,
          "metadata": {},
          "output_type": "execute_result"
        }
      ],
      "source": [
        "triangle_area(2,3)"
      ]
    },
    {
      "cell_type": "code",
      "execution_count": null,
      "metadata": {
        "id": "KQfH9xAft_Z8"
      },
      "outputs": [],
      "source": [
        "def cm(feet = 0, inches = 0): #default values\n",
        " \"\"\" Convert inches to cm and then feet to cm\"\"\"\n",
        " inches_to_cm = inches * 2.54\n",
        " feet_to_cm = feet * 12 * 2.54\n",
        " return inches_to_cm + feet_to_cm"
      ]
    },
    {
      "cell_type": "code",
      "execution_count": null,
      "metadata": {
        "colab": {
          "base_uri": "https://localhost:8080/"
        },
        "id": "Bfyj1Tlju1bI",
        "outputId": "146731ef-6e90-41f1-ce69-800cc733b42b"
      },
      "outputs": [
        {
          "data": {
            "text/plain": [
              "152.4"
            ]
          },
          "execution_count": 40,
          "metadata": {},
          "output_type": "execute_result"
        }
      ],
      "source": [
        "cm(feet = 5)"
      ]
    },
    {
      "cell_type": "code",
      "execution_count": null,
      "metadata": {
        "colab": {
          "base_uri": "https://localhost:8080/"
        },
        "id": "Yu4dxgO3u9Ko",
        "outputId": "72b88ec7-ea84-488f-ec2d-58344b1f0a50"
      },
      "outputs": [
        {
          "data": {
            "text/plain": [
              "12.7"
            ]
          },
          "execution_count": 41,
          "metadata": {},
          "output_type": "execute_result"
        }
      ],
      "source": [
        "cm(inches = 5)"
      ]
    },
    {
      "cell_type": "code",
      "execution_count": null,
      "metadata": {
        "colab": {
          "base_uri": "https://localhost:8080/"
        },
        "id": "jmd1dAbavAfB",
        "outputId": "e0767b1b-e295-4fc6-dc88-250e75c6e0a3"
      },
      "outputs": [
        {
          "data": {
            "text/plain": [
              "86.36"
            ]
          },
          "execution_count": 42,
          "metadata": {},
          "output_type": "execute_result"
        }
      ],
      "source": [
        "cm(feet = 2, inches = 10)  #= keyword argument, others are required argument"
      ]
    },
    {
      "cell_type": "code",
      "execution_count": null,
      "metadata": {
        "id": "vbTtzqv7vFAl"
      },
      "outputs": [],
      "source": [
        "def g(y, x=0):\n",
        "  return x+y"
      ]
    },
    {
      "cell_type": "code",
      "execution_count": null,
      "metadata": {
        "colab": {
          "base_uri": "https://localhost:8080/"
        },
        "id": "A6xGt28vvVFN",
        "outputId": "56b439d2-4ac3-475c-ebf8-3c4210961575"
      },
      "outputs": [
        {
          "data": {
            "text/plain": [
              "10"
            ]
          },
          "execution_count": 44,
          "metadata": {},
          "output_type": "execute_result"
        }
      ],
      "source": [
        "g(7,x=3)"
      ]
    },
    {
      "cell_type": "code",
      "execution_count": null,
      "metadata": {
        "colab": {
          "base_uri": "https://localhost:8080/",
          "height": 135
        },
        "id": "sFuUUk4bvYoK",
        "outputId": "fb83e528-01d8-4fa5-ca38-79ef38dd8f10"
      },
      "outputs": [
        {
          "ename": "SyntaxError",
          "evalue": "ignored",
          "output_type": "error",
          "traceback": [
            "\u001b[0;36m  File \u001b[0;32m\"<ipython-input-47-f8e3809ae739>\"\u001b[0;36m, line \u001b[0;32m1\u001b[0m\n\u001b[0;31m    def g(x = 0, y):         #non-default argument(keyword) follows default argument\u001b[0m\n\u001b[0m         ^\u001b[0m\n\u001b[0;31mSyntaxError\u001b[0m\u001b[0;31m:\u001b[0m non-default argument follows default argument\n"
          ]
        }
      ],
      "source": [
        "def g(x = 0, y):         #non-default argument(keyword) follows default argument\n",
        "  return x+y"
      ]
    },
    {
      "cell_type": "markdown",
      "metadata": {
        "id": "2pr32thgZ-Qt"
      },
      "source": [
        "#Data structure"
      ]
    },
    {
      "cell_type": "markdown",
      "metadata": {
        "id": "md-tVy5YaCha"
      },
      "source": [
        "### Set : Does not matter frequency or order"
      ]
    },
    {
      "cell_type": "code",
      "execution_count": null,
      "metadata": {
        "id": "teCcxqGLvkis"
      },
      "outputs": [],
      "source": [
        "example = set()"
      ]
    },
    {
      "cell_type": "code",
      "execution_count": null,
      "metadata": {
        "colab": {
          "base_uri": "https://localhost:8080/"
        },
        "id": "7Za2_GKfaK7J",
        "outputId": "12617932-0d98-496e-8cf0-a88795e88395"
      },
      "outputs": [
        {
          "data": {
            "text/plain": [
              "['__and__',\n",
              " '__class__',\n",
              " '__contains__',\n",
              " '__delattr__',\n",
              " '__dir__',\n",
              " '__doc__',\n",
              " '__eq__',\n",
              " '__format__',\n",
              " '__ge__',\n",
              " '__getattribute__',\n",
              " '__gt__',\n",
              " '__hash__',\n",
              " '__iand__',\n",
              " '__init__',\n",
              " '__init_subclass__',\n",
              " '__ior__',\n",
              " '__isub__',\n",
              " '__iter__',\n",
              " '__ixor__',\n",
              " '__le__',\n",
              " '__len__',\n",
              " '__lt__',\n",
              " '__ne__',\n",
              " '__new__',\n",
              " '__or__',\n",
              " '__rand__',\n",
              " '__reduce__',\n",
              " '__reduce_ex__',\n",
              " '__repr__',\n",
              " '__ror__',\n",
              " '__rsub__',\n",
              " '__rxor__',\n",
              " '__setattr__',\n",
              " '__sizeof__',\n",
              " '__str__',\n",
              " '__sub__',\n",
              " '__subclasshook__',\n",
              " '__xor__',\n",
              " 'add',\n",
              " 'clear',\n",
              " 'copy',\n",
              " 'difference',\n",
              " 'difference_update',\n",
              " 'discard',\n",
              " 'intersection',\n",
              " 'intersection_update',\n",
              " 'isdisjoint',\n",
              " 'issubset',\n",
              " 'issuperset',\n",
              " 'pop',\n",
              " 'remove',\n",
              " 'symmetric_difference',\n",
              " 'symmetric_difference_update',\n",
              " 'union',\n",
              " 'update']"
            ]
          },
          "execution_count": 2,
          "metadata": {},
          "output_type": "execute_result"
        }
      ],
      "source": [
        "dir(example)"
      ]
    },
    {
      "cell_type": "code",
      "execution_count": null,
      "metadata": {
        "colab": {
          "base_uri": "https://localhost:8080/"
        },
        "id": "vL_S75feaOxC",
        "outputId": "39f2cf01-672e-4d64-b718-16ce7ace2dd4"
      },
      "outputs": [
        {
          "name": "stdout",
          "output_type": "stream",
          "text": [
            "Help on built-in function add:\n",
            "\n",
            "add(...) method of builtins.set instance\n",
            "    Add an element to a set.\n",
            "    \n",
            "    This has no effect if the element is already present.\n",
            "\n"
          ]
        }
      ],
      "source": [
        "help(example.add)"
      ]
    },
    {
      "cell_type": "code",
      "execution_count": null,
      "metadata": {
        "id": "QGv_jyI4aXdw"
      },
      "outputs": [],
      "source": [
        "example.add(42)\n",
        "example.add(1.2)\n",
        "example.add(\"eesha\")\n"
      ]
    },
    {
      "cell_type": "code",
      "execution_count": null,
      "metadata": {
        "colab": {
          "base_uri": "https://localhost:8080/"
        },
        "id": "OdKgk_Msamqj",
        "outputId": "66d636ea-3ffb-4412-a6b0-344662d501c7"
      },
      "outputs": [
        {
          "data": {
            "text/plain": [
              "{1.2, 42, 'eesha'}"
            ]
          },
          "execution_count": 7,
          "metadata": {},
          "output_type": "execute_result"
        }
      ],
      "source": [
        "example #sequence does not matter"
      ]
    },
    {
      "cell_type": "code",
      "execution_count": null,
      "metadata": {
        "id": "_wBjn_2KanZh"
      },
      "outputs": [],
      "source": [
        "example.add(42)"
      ]
    },
    {
      "cell_type": "code",
      "execution_count": null,
      "metadata": {
        "colab": {
          "base_uri": "https://localhost:8080/"
        },
        "id": "J6BAkk2qauUt",
        "outputId": "4ede90b7-64f0-481b-b998-0e9f5e7f0857"
      },
      "outputs": [
        {
          "data": {
            "text/plain": [
              "{1.2, 42, 'eesha'}"
            ]
          },
          "execution_count": 9,
          "metadata": {},
          "output_type": "execute_result"
        }
      ],
      "source": [
        "example"
      ]
    },
    {
      "cell_type": "code",
      "execution_count": null,
      "metadata": {
        "colab": {
          "base_uri": "https://localhost:8080/"
        },
        "id": "3Ao436m3av8J",
        "outputId": "77547e09-c522-4a7e-e7ad-22d8534fb027"
      },
      "outputs": [
        {
          "data": {
            "text/plain": [
              "3"
            ]
          },
          "execution_count": 10,
          "metadata": {},
          "output_type": "execute_result"
        }
      ],
      "source": [
        "len(example)"
      ]
    },
    {
      "cell_type": "code",
      "execution_count": null,
      "metadata": {
        "colab": {
          "base_uri": "https://localhost:8080/"
        },
        "id": "9E7Lmw6LazAs",
        "outputId": "0b952385-b3dc-4914-cece-97249731f498"
      },
      "outputs": [
        {
          "name": "stdout",
          "output_type": "stream",
          "text": [
            "Help on built-in function remove:\n",
            "\n",
            "remove(...) method of builtins.set instance\n",
            "    Remove an element from a set; it must be a member.\n",
            "    \n",
            "    If the element is not a member, raise a KeyError.\n",
            "\n"
          ]
        }
      ],
      "source": [
        "help(example.remove)"
      ]
    },
    {
      "cell_type": "code",
      "execution_count": null,
      "metadata": {
        "id": "bCgm_HOHa33x"
      },
      "outputs": [],
      "source": [
        "example.remove(42)"
      ]
    },
    {
      "cell_type": "code",
      "execution_count": null,
      "metadata": {
        "colab": {
          "base_uri": "https://localhost:8080/"
        },
        "id": "rWIZR5wnbAsm",
        "outputId": "a121cf2c-9887-446f-fa3f-687d6b565fda"
      },
      "outputs": [
        {
          "data": {
            "text/plain": [
              "{1.2, 'eesha'}"
            ]
          },
          "execution_count": 13,
          "metadata": {},
          "output_type": "execute_result"
        }
      ],
      "source": [
        "example"
      ]
    },
    {
      "cell_type": "code",
      "execution_count": null,
      "metadata": {
        "colab": {
          "base_uri": "https://localhost:8080/",
          "height": 172
        },
        "id": "3iZykBN-bCWq",
        "outputId": "a589cde4-ccc8-414a-96a0-12ee43d3006a"
      },
      "outputs": [
        {
          "ename": "KeyError",
          "evalue": "ignored",
          "output_type": "error",
          "traceback": [
            "\u001b[0;31m---------------------------------------------------------------------------\u001b[0m",
            "\u001b[0;31mKeyError\u001b[0m                                  Traceback (most recent call last)",
            "\u001b[0;32m<ipython-input-14-c3b5ef1d6aec>\u001b[0m in \u001b[0;36m<module>\u001b[0;34m\u001b[0m\n\u001b[0;32m----> 1\u001b[0;31m \u001b[0mexample\u001b[0m\u001b[0;34m.\u001b[0m\u001b[0mremove\u001b[0m\u001b[0;34m(\u001b[0m\u001b[0;36m50\u001b[0m\u001b[0;34m)\u001b[0m\u001b[0;34m\u001b[0m\u001b[0;34m\u001b[0m\u001b[0m\n\u001b[0m",
            "\u001b[0;31mKeyError\u001b[0m: 50"
          ]
        }
      ],
      "source": [
        "example.remove(50)"
      ]
    },
    {
      "cell_type": "code",
      "execution_count": null,
      "metadata": {
        "colab": {
          "base_uri": "https://localhost:8080/"
        },
        "id": "WHv9yHsobFmu",
        "outputId": "f4e6e84e-3f97-4789-9ff5-019f0db471f0"
      },
      "outputs": [
        {
          "name": "stdout",
          "output_type": "stream",
          "text": [
            "Help on built-in function discard:\n",
            "\n",
            "discard(...) method of builtins.set instance\n",
            "    Remove an element from a set if it is a member.\n",
            "    \n",
            "    If the element is not a member, do nothing.\n",
            "\n"
          ]
        }
      ],
      "source": [
        "help(example.discard)"
      ]
    },
    {
      "cell_type": "code",
      "execution_count": null,
      "metadata": {
        "id": "WPOzeubbbJdb"
      },
      "outputs": [],
      "source": [
        "example.discard(50)"
      ]
    },
    {
      "cell_type": "code",
      "execution_count": null,
      "metadata": {
        "id": "19UUD1y0bOKW"
      },
      "outputs": [],
      "source": [
        "example2 = set([\"sitting\" , 2, 45, 9])"
      ]
    },
    {
      "cell_type": "code",
      "execution_count": null,
      "metadata": {
        "colab": {
          "base_uri": "https://localhost:8080/"
        },
        "id": "frnTRIqFbavV",
        "outputId": "37fb6204-e9fa-481f-a4d3-662a926821e8"
      },
      "outputs": [
        {
          "data": {
            "text/plain": [
              "4"
            ]
          },
          "execution_count": 18,
          "metadata": {},
          "output_type": "execute_result"
        }
      ],
      "source": [
        "len(example2)"
      ]
    },
    {
      "cell_type": "code",
      "execution_count": null,
      "metadata": {
        "id": "tjfhwd7LbcoI"
      },
      "outputs": [],
      "source": [
        "example2.clear()"
      ]
    },
    {
      "cell_type": "code",
      "execution_count": null,
      "metadata": {
        "colab": {
          "base_uri": "https://localhost:8080/"
        },
        "id": "OSdYfV4kbgTB",
        "outputId": "84c20a83-c8fd-4771-c1f4-c32dee14849e"
      },
      "outputs": [
        {
          "data": {
            "text/plain": [
              "set()"
            ]
          },
          "execution_count": 22,
          "metadata": {},
          "output_type": "execute_result"
        }
      ],
      "source": [
        "example2"
      ]
    },
    {
      "cell_type": "code",
      "execution_count": null,
      "metadata": {
        "id": "7yynyp7MbjKm"
      },
      "outputs": [],
      "source": [
        "odds = set([1,3,5,7,9])\n",
        "even = set([2,4,6,8,10])\n",
        "prime = set([2,3,5,7])\n",
        "composities = set([4,6,8,9,20])\n",
        "\n"
      ]
    },
    {
      "cell_type": "code",
      "execution_count": null,
      "metadata": {
        "colab": {
          "base_uri": "https://localhost:8080/"
        },
        "id": "_tXGS8dpcMpp",
        "outputId": "0d7cc342-552d-42ff-883e-04b7bb200718"
      },
      "outputs": [
        {
          "data": {
            "text/plain": [
              "{1, 2, 3, 4, 5, 6, 7, 8, 9, 10}"
            ]
          },
          "execution_count": 24,
          "metadata": {},
          "output_type": "execute_result"
        }
      ],
      "source": [
        "odds.union(even)"
      ]
    },
    {
      "cell_type": "code",
      "execution_count": null,
      "metadata": {
        "colab": {
          "base_uri": "https://localhost:8080/"
        },
        "id": "s_9JnwgwcTKa",
        "outputId": "c7b21595-8353-45a7-8ac2-5310e49294f3"
      },
      "outputs": [
        {
          "data": {
            "text/plain": [
              "{1, 2, 3, 4, 5, 6, 7, 8, 9, 10}"
            ]
          },
          "execution_count": 25,
          "metadata": {},
          "output_type": "execute_result"
        }
      ],
      "source": [
        "even.union(odds)"
      ]
    },
    {
      "cell_type": "code",
      "execution_count": null,
      "metadata": {
        "colab": {
          "base_uri": "https://localhost:8080/"
        },
        "id": "hJtGswrPcZaU",
        "outputId": "01b0a339-000a-471b-eafd-716e983d980a"
      },
      "outputs": [
        {
          "data": {
            "text/plain": [
              "{3, 5, 7}"
            ]
          },
          "execution_count": 27,
          "metadata": {},
          "output_type": "execute_result"
        }
      ],
      "source": [
        "odds.intersection(prime)"
      ]
    },
    {
      "cell_type": "code",
      "execution_count": null,
      "metadata": {
        "colab": {
          "base_uri": "https://localhost:8080/"
        },
        "id": "73-WZvAOcgc1",
        "outputId": "3723f098-f64e-4d1e-d4bc-1c4476574181"
      },
      "outputs": [
        {
          "data": {
            "text/plain": [
              "{2}"
            ]
          },
          "execution_count": 29,
          "metadata": {},
          "output_type": "execute_result"
        }
      ],
      "source": [
        "prime.intersection(even)"
      ]
    },
    {
      "cell_type": "code",
      "execution_count": null,
      "metadata": {
        "colab": {
          "base_uri": "https://localhost:8080/"
        },
        "id": "oxVLg1ckcnxR",
        "outputId": "37fd7b54-daf9-407b-f3bd-7f58e7d337b5"
      },
      "outputs": [
        {
          "data": {
            "text/plain": [
              "set()"
            ]
          },
          "execution_count": 30,
          "metadata": {},
          "output_type": "execute_result"
        }
      ],
      "source": [
        "even.intersection(odds)"
      ]
    },
    {
      "cell_type": "code",
      "execution_count": null,
      "metadata": {
        "colab": {
          "base_uri": "https://localhost:8080/"
        },
        "id": "V22THOMXcw8g",
        "outputId": "8d283c1b-b649-49ed-e222-f72714dcd30f"
      },
      "outputs": [
        {
          "data": {
            "text/plain": [
              "True"
            ]
          },
          "execution_count": 31,
          "metadata": {},
          "output_type": "execute_result"
        }
      ],
      "source": [
        "2 in prime"
      ]
    },
    {
      "cell_type": "code",
      "execution_count": null,
      "metadata": {
        "colab": {
          "base_uri": "https://localhost:8080/"
        },
        "id": "S25CWhA6c0j8",
        "outputId": "69d36634-c7f9-4d1b-9352-bc56aa55482a"
      },
      "outputs": [
        {
          "data": {
            "text/plain": [
              "True"
            ]
          },
          "execution_count": 32,
          "metadata": {},
          "output_type": "execute_result"
        }
      ],
      "source": [
        "6 in even"
      ]
    },
    {
      "cell_type": "code",
      "execution_count": null,
      "metadata": {
        "colab": {
          "base_uri": "https://localhost:8080/"
        },
        "id": "8bsf0io2c2c9",
        "outputId": "e4466c20-96b8-4ecf-dc45-615857323e90"
      },
      "outputs": [
        {
          "data": {
            "text/plain": [
              "True"
            ]
          },
          "execution_count": 34,
          "metadata": {},
          "output_type": "execute_result"
        }
      ],
      "source": [
        "9 not in even"
      ]
    },
    {
      "cell_type": "markdown",
      "metadata": {
        "id": "CJiCD-bNdF-2"
      },
      "source": [
        "#Lists: Order matters"
      ]
    },
    {
      "cell_type": "code",
      "execution_count": null,
      "metadata": {
        "id": "q_H0B27Oc5Qy"
      },
      "outputs": [],
      "source": [
        "example = list()\n",
        "example2 = []\n"
      ]
    },
    {
      "cell_type": "code",
      "execution_count": null,
      "metadata": {
        "colab": {
          "base_uri": "https://localhost:8080/"
        },
        "id": "QFGPWJQvdRop",
        "outputId": "b8887f0a-0491-49b3-8c06-e8be4d604b85"
      },
      "outputs": [
        {
          "data": {
            "text/plain": [
              "[2, 3, 5, 7, 10, 11, 17, 19]"
            ]
          },
          "execution_count": 36,
          "metadata": {},
          "output_type": "execute_result"
        }
      ],
      "source": [
        "primes = [2,3,5,7,10,11]\n",
        "primes.append(17)\n",
        "primes.append(19)\n",
        "primes"
      ]
    },
    {
      "cell_type": "code",
      "execution_count": null,
      "metadata": {
        "colab": {
          "base_uri": "https://localhost:8080/"
        },
        "id": "7luqBkRrdctY",
        "outputId": "a7a06ae7-a39e-44c8-a624-3b414b77c67c"
      },
      "outputs": [
        {
          "data": {
            "text/plain": [
              "2"
            ]
          },
          "execution_count": 37,
          "metadata": {},
          "output_type": "execute_result"
        }
      ],
      "source": [
        "primes[0]"
      ]
    },
    {
      "cell_type": "code",
      "execution_count": null,
      "metadata": {
        "colab": {
          "base_uri": "https://localhost:8080/"
        },
        "id": "3BlnUtkTdneW",
        "outputId": "a970736c-053b-4f63-e52c-07707fe7ccc2"
      },
      "outputs": [
        {
          "data": {
            "text/plain": [
              "19"
            ]
          },
          "execution_count": 38,
          "metadata": {},
          "output_type": "execute_result"
        }
      ],
      "source": [
        "primes[-1]"
      ]
    },
    {
      "cell_type": "code",
      "execution_count": null,
      "metadata": {
        "colab": {
          "base_uri": "https://localhost:8080/"
        },
        "id": "NW5tqqBgdvLq",
        "outputId": "682e80be-3c21-4e31-bdfc-d55a5d666c20"
      },
      "outputs": [
        {
          "data": {
            "text/plain": [
              "2"
            ]
          },
          "execution_count": 41,
          "metadata": {},
          "output_type": "execute_result"
        }
      ],
      "source": [
        "primes[-8]"
      ]
    },
    {
      "cell_type": "code",
      "execution_count": null,
      "metadata": {
        "colab": {
          "base_uri": "https://localhost:8080/",
          "height": 172
        },
        "id": "aj-CKdvFdzLp",
        "outputId": "10723c1d-123b-4102-b118-21ec8e4a0f2e"
      },
      "outputs": [
        {
          "ename": "IndexError",
          "evalue": "ignored",
          "output_type": "error",
          "traceback": [
            "\u001b[0;31m---------------------------------------------------------------------------\u001b[0m",
            "\u001b[0;31mIndexError\u001b[0m                                Traceback (most recent call last)",
            "\u001b[0;32m<ipython-input-42-b35b831943c2>\u001b[0m in \u001b[0;36m<module>\u001b[0;34m\u001b[0m\n\u001b[0;32m----> 1\u001b[0;31m \u001b[0mprimes\u001b[0m\u001b[0;34m[\u001b[0m\u001b[0;34m-\u001b[0m\u001b[0;36m9\u001b[0m\u001b[0;34m]\u001b[0m\u001b[0;34m\u001b[0m\u001b[0;34m\u001b[0m\u001b[0m\n\u001b[0m",
            "\u001b[0;31mIndexError\u001b[0m: list index out of range"
          ]
        }
      ],
      "source": [
        "primes[-9]"
      ]
    },
    {
      "cell_type": "code",
      "execution_count": null,
      "metadata": {
        "colab": {
          "base_uri": "https://localhost:8080/"
        },
        "id": "3S85T5bLd6wi",
        "outputId": "302bd931-a0ee-43df-eaf1-45c47b7e1e4a"
      },
      "outputs": [
        {
          "data": {
            "text/plain": [
              "[5, 7, 10]"
            ]
          },
          "execution_count": 43,
          "metadata": {},
          "output_type": "execute_result"
        }
      ],
      "source": [
        "primes[2:5] #beginning include and end excluding"
      ]
    },
    {
      "cell_type": "code",
      "execution_count": null,
      "metadata": {
        "colab": {
          "base_uri": "https://localhost:8080/"
        },
        "id": "ir5THo4weVeX",
        "outputId": "4a3c985c-623a-46fa-8725-4722616b8099"
      },
      "outputs": [
        {
          "data": {
            "text/plain": [
              "[2, 3, 5, 7, 10]"
            ]
          },
          "execution_count": 45,
          "metadata": {},
          "output_type": "execute_result"
        }
      ],
      "source": [
        "primes[0:5] #can contain boolean, string and other #Lists can have duplicate value and data of multiple types\n"
      ]
    },
    {
      "cell_type": "code",
      "execution_count": null,
      "metadata": {
        "id": "DpolKJGXei31"
      },
      "outputs": [],
      "source": [
        "rolls = [2,4,5,7,8,4,2]"
      ]
    },
    {
      "cell_type": "code",
      "execution_count": null,
      "metadata": {
        "colab": {
          "base_uri": "https://localhost:8080/"
        },
        "id": "mBZnELnmeyw0",
        "outputId": "7cd29b70-6c25-4ed6-cdbc-56c5d9016a67"
      },
      "outputs": [
        {
          "data": {
            "text/plain": [
              "[2, 4, 5, 7, 8, 4, 2]"
            ]
          },
          "execution_count": 47,
          "metadata": {},
          "output_type": "execute_result"
        }
      ],
      "source": [
        "rolls"
      ]
    },
    {
      "cell_type": "code",
      "execution_count": null,
      "metadata": {
        "colab": {
          "base_uri": "https://localhost:8080/"
        },
        "id": "jCZMKM_PezRx",
        "outputId": "b3113dea-4665-43c4-9839-4f8493790aeb"
      },
      "outputs": [
        {
          "data": {
            "text/plain": [
              "['a', 'b', 'c', 1, 2, 3]"
            ]
          },
          "execution_count": 50,
          "metadata": {},
          "output_type": "execute_result"
        }
      ],
      "source": [
        "numbers = [1,2,3]\n",
        "letters = ['a' , 'b', 'c']\n",
        "letters + numbers #order matters #concatenations"
      ]
    },
    {
      "cell_type": "code",
      "execution_count": null,
      "metadata": {
        "colab": {
          "base_uri": "https://localhost:8080/"
        },
        "id": "TXfGhYlMfBQk",
        "outputId": "29338e44-61f8-4991-cb87-4c5e33959d18"
      },
      "outputs": [
        {
          "data": {
            "text/plain": [
              "['__add__',\n",
              " '__class__',\n",
              " '__contains__',\n",
              " '__delattr__',\n",
              " '__delitem__',\n",
              " '__dir__',\n",
              " '__doc__',\n",
              " '__eq__',\n",
              " '__format__',\n",
              " '__ge__',\n",
              " '__getattribute__',\n",
              " '__getitem__',\n",
              " '__gt__',\n",
              " '__hash__',\n",
              " '__iadd__',\n",
              " '__imul__',\n",
              " '__init__',\n",
              " '__init_subclass__',\n",
              " '__iter__',\n",
              " '__le__',\n",
              " '__len__',\n",
              " '__lt__',\n",
              " '__mul__',\n",
              " '__ne__',\n",
              " '__new__',\n",
              " '__reduce__',\n",
              " '__reduce_ex__',\n",
              " '__repr__',\n",
              " '__reversed__',\n",
              " '__rmul__',\n",
              " '__setattr__',\n",
              " '__setitem__',\n",
              " '__sizeof__',\n",
              " '__str__',\n",
              " '__subclasshook__',\n",
              " 'append',\n",
              " 'clear',\n",
              " 'copy',\n",
              " 'count',\n",
              " 'extend',\n",
              " 'index',\n",
              " 'insert',\n",
              " 'pop',\n",
              " 'remove',\n",
              " 'reverse',\n",
              " 'sort']"
            ]
          },
          "execution_count": 51,
          "metadata": {},
          "output_type": "execute_result"
        }
      ],
      "source": [
        "dir(rolls)"
      ]
    },
    {
      "cell_type": "code",
      "execution_count": null,
      "metadata": {
        "colab": {
          "base_uri": "https://localhost:8080/"
        },
        "id": "11kxeQM1fLJ9",
        "outputId": "814d906f-791a-46b6-d285-cd5d126db3d3"
      },
      "outputs": [
        {
          "name": "stdout",
          "output_type": "stream",
          "text": [
            "Help on built-in function reverse:\n",
            "\n",
            "reverse() method of builtins.list instance\n",
            "    Reverse *IN PLACE*.\n",
            "\n"
          ]
        }
      ],
      "source": [
        "help(rolls.reverse)"
      ]
    },
    {
      "cell_type": "code",
      "execution_count": null,
      "metadata": {
        "id": "HbZt9wVwfRYa"
      },
      "outputs": [],
      "source": [
        "rolls.reverse()"
      ]
    },
    {
      "cell_type": "code",
      "execution_count": null,
      "metadata": {
        "colab": {
          "base_uri": "https://localhost:8080/"
        },
        "id": "ez1XJ118fUZu",
        "outputId": "26b30835-fb7c-4b95-a98c-4fcceb0c2599"
      },
      "outputs": [
        {
          "data": {
            "text/plain": [
              "[2, 4, 8, 7, 5, 4, 2]"
            ]
          },
          "execution_count": 56,
          "metadata": {},
          "output_type": "execute_result"
        }
      ],
      "source": [
        "rolls"
      ]
    },
    {
      "cell_type": "markdown",
      "metadata": {
        "id": "AXVUi9KoffUj"
      },
      "source": [
        "#Associative array, map, dictionary"
      ]
    },
    {
      "cell_type": "code",
      "execution_count": null,
      "metadata": {
        "id": "jDh3GCY5fV-f"
      },
      "outputs": [],
      "source": [
        "post = {\"user_id\" : 209, \"message\" : \"D4 D5 D6 D7 D8\", \"Language\" : \"English\" , \"datetime\" : \"20651278\", \"location\" : (44.5903, -104)} #keys = input, #values = output"
      ]
    },
    {
      "cell_type": "code",
      "execution_count": null,
      "metadata": {
        "colab": {
          "base_uri": "https://localhost:8080/"
        },
        "id": "xVyy0yX3gb1Y",
        "outputId": "4357f246-e6e7-455f-d84c-9fb562bcb7a5"
      },
      "outputs": [
        {
          "data": {
            "text/plain": [
              "dict"
            ]
          },
          "execution_count": 58,
          "metadata": {},
          "output_type": "execute_result"
        }
      ],
      "source": [
        "type(post)"
      ]
    },
    {
      "cell_type": "code",
      "execution_count": null,
      "metadata": {
        "colab": {
          "base_uri": "https://localhost:8080/"
        },
        "id": "cmFBuR1UgooL",
        "outputId": "b96df3fd-5db6-4f50-fc18-f98a21ea1da2"
      },
      "outputs": [
        {
          "name": "stdout",
          "output_type": "stream",
          "text": [
            "{'message': 'SS Cotopaxi', 'language': 'English'}\n"
          ]
        }
      ],
      "source": [
        "post2 = dict(message = \"SS Cotopaxi\" , language = \"English\")\n",
        "print(post2)"
      ]
    },
    {
      "cell_type": "code",
      "execution_count": null,
      "metadata": {
        "colab": {
          "base_uri": "https://localhost:8080/"
        },
        "id": "krap1fTrg9Ek",
        "outputId": "c9e8621f-ae38-4b7c-d79f-e5df1fc01875"
      },
      "outputs": [
        {
          "data": {
            "text/plain": [
              "{'message': 'SS Cotopaxi',\n",
              " 'language': 'English',\n",
              " 'user_id': 209,\n",
              " 'datetime': '1977790'}"
            ]
          },
          "execution_count": 60,
          "metadata": {},
          "output_type": "execute_result"
        }
      ],
      "source": [
        "post2[\"user_id\"] = 209\n",
        "post2[\"datetime\"] = \"1977790\"\n",
        "post2 #here have to add \"\""
      ]
    },
    {
      "cell_type": "code",
      "execution_count": null,
      "metadata": {
        "colab": {
          "base_uri": "https://localhost:8080/",
          "height": 36
        },
        "id": "rJQ_ZU5ChNzC",
        "outputId": "01c87df4-45b0-4384-96b3-36fa77650ab6"
      },
      "outputs": [
        {
          "data": {
            "application/vnd.google.colaboratory.intrinsic+json": {
              "type": "string"
            },
            "text/plain": [
              "'1977790'"
            ]
          },
          "execution_count": 61,
          "metadata": {},
          "output_type": "execute_result"
        }
      ],
      "source": [
        "post2[\"datetime\"]"
      ]
    },
    {
      "cell_type": "code",
      "execution_count": null,
      "metadata": {
        "colab": {
          "base_uri": "https://localhost:8080/",
          "height": 172
        },
        "id": "_5CjrrjdhZXt",
        "outputId": "dad8d232-5c24-463b-a63d-53d1eb9dd957"
      },
      "outputs": [
        {
          "ename": "KeyError",
          "evalue": "ignored",
          "output_type": "error",
          "traceback": [
            "\u001b[0;31m---------------------------------------------------------------------------\u001b[0m",
            "\u001b[0;31mKeyError\u001b[0m                                  Traceback (most recent call last)",
            "\u001b[0;32m<ipython-input-62-9f3b2d57929d>\u001b[0m in \u001b[0;36m<module>\u001b[0;34m\u001b[0m\n\u001b[0;32m----> 1\u001b[0;31m \u001b[0mpost2\u001b[0m\u001b[0;34m[\u001b[0m\u001b[0;34m\"location\"\u001b[0m\u001b[0;34m]\u001b[0m\u001b[0;34m\u001b[0m\u001b[0;34m\u001b[0m\u001b[0m\n\u001b[0m",
            "\u001b[0;31mKeyError\u001b[0m: 'location'"
          ]
        }
      ],
      "source": [
        "post2[\"location\"]"
      ]
    },
    {
      "cell_type": "code",
      "execution_count": null,
      "metadata": {
        "colab": {
          "base_uri": "https://localhost:8080/"
        },
        "id": "5YC4D2nFhfJ7",
        "outputId": "332d708c-418b-436a-f669-6ac2c1cc161f"
      },
      "outputs": [
        {
          "data": {
            "text/plain": [
              "False"
            ]
          },
          "execution_count": 64,
          "metadata": {},
          "output_type": "execute_result"
        }
      ],
      "source": [
        "'location' in post2"
      ]
    },
    {
      "cell_type": "code",
      "execution_count": null,
      "metadata": {
        "colab": {
          "base_uri": "https://localhost:8080/"
        },
        "id": "gRB7cTwUi9wc",
        "outputId": "9506fbdf-1848-4fad-ccfe-dccfe6b591cc"
      },
      "outputs": [
        {
          "name": "stdout",
          "output_type": "stream",
          "text": [
            "This values does not exist\n"
          ]
        }
      ],
      "source": [
        "try :\n",
        "  print(post2[\"location\"])\n",
        "except KeyError:\n",
        "  print(\"This values does not exist\")"
      ]
    },
    {
      "cell_type": "code",
      "execution_count": null,
      "metadata": {
        "colab": {
          "base_uri": "https://localhost:8080/"
        },
        "id": "eYyHZ_N0jRw2",
        "outputId": "8a0fd574-6499-4829-bb70-86ff0f7cac17"
      },
      "outputs": [
        {
          "data": {
            "text/plain": [
              "['__class__',\n",
              " '__contains__',\n",
              " '__delattr__',\n",
              " '__delitem__',\n",
              " '__dir__',\n",
              " '__doc__',\n",
              " '__eq__',\n",
              " '__format__',\n",
              " '__ge__',\n",
              " '__getattribute__',\n",
              " '__getitem__',\n",
              " '__gt__',\n",
              " '__hash__',\n",
              " '__init__',\n",
              " '__init_subclass__',\n",
              " '__iter__',\n",
              " '__le__',\n",
              " '__len__',\n",
              " '__lt__',\n",
              " '__ne__',\n",
              " '__new__',\n",
              " '__reduce__',\n",
              " '__reduce_ex__',\n",
              " '__repr__',\n",
              " '__setattr__',\n",
              " '__setitem__',\n",
              " '__sizeof__',\n",
              " '__str__',\n",
              " '__subclasshook__',\n",
              " 'clear',\n",
              " 'copy',\n",
              " 'fromkeys',\n",
              " 'get',\n",
              " 'items',\n",
              " 'keys',\n",
              " 'pop',\n",
              " 'popitem',\n",
              " 'setdefault',\n",
              " 'update',\n",
              " 'values']"
            ]
          },
          "execution_count": 73,
          "metadata": {},
          "output_type": "execute_result"
        }
      ],
      "source": [
        "dir(post2)"
      ]
    },
    {
      "cell_type": "code",
      "execution_count": null,
      "metadata": {
        "colab": {
          "base_uri": "https://localhost:8080/"
        },
        "id": "q8clUhwvjXe4",
        "outputId": "8d8c836f-7303-4ef0-e18d-2d7aa474f451"
      },
      "outputs": [
        {
          "name": "stdout",
          "output_type": "stream",
          "text": [
            "Help on built-in function get:\n",
            "\n",
            "get(key, default=None, /) method of builtins.dict instance\n",
            "    Return the value for key if key is in the dictionary, else default.\n",
            "\n"
          ]
        }
      ],
      "source": [
        "help(post2.get)"
      ]
    },
    {
      "cell_type": "code",
      "execution_count": null,
      "metadata": {
        "id": "Q4Sk2lu6jb2S"
      },
      "outputs": [],
      "source": [
        "loc = post2.get('location' , None)"
      ]
    },
    {
      "cell_type": "code",
      "execution_count": null,
      "metadata": {
        "colab": {
          "base_uri": "https://localhost:8080/"
        },
        "id": "tZCWeSZ1jpQv",
        "outputId": "c19ec211-e527-4bf2-f0d3-185a43c4cff6"
      },
      "outputs": [
        {
          "name": "stdout",
          "output_type": "stream",
          "text": [
            "None\n"
          ]
        }
      ],
      "source": [
        "print(loc)"
      ]
    },
    {
      "cell_type": "code",
      "execution_count": null,
      "metadata": {
        "colab": {
          "base_uri": "https://localhost:8080/"
        },
        "id": "JE4qQ6NWjtAM",
        "outputId": "b91a59fd-7ede-467f-cb75-872a5114cd8b"
      },
      "outputs": [
        {
          "name": "stdout",
          "output_type": "stream",
          "text": [
            "user_id  =  209\n",
            "message  =  D4 D5 D6 D7 D8\n",
            "Language  =  English\n",
            "datetime  =  20651278\n",
            "location  =  (44.5903, -104)\n"
          ]
        }
      ],
      "source": [
        "for key in post.keys():\n",
        "  value = post[key]\n",
        "  print(key , \" = \", value) #dictionary is not ordered"
      ]
    },
    {
      "cell_type": "code",
      "execution_count": null,
      "metadata": {
        "colab": {
          "base_uri": "https://localhost:8080/",
          "height": 209
        },
        "id": "YPBh443Dj_VD",
        "outputId": "c0447a8c-5ef3-4046-c6ec-0dbfeb2fa457"
      },
      "outputs": [
        {
          "ename": "AttributeError",
          "evalue": "ignored",
          "output_type": "error",
          "traceback": [
            "\u001b[0;31m---------------------------------------------------------------------------\u001b[0m",
            "\u001b[0;31mAttributeError\u001b[0m                            Traceback (most recent call last)",
            "\u001b[0;32m<ipython-input-79-dd34542f4ea0>\u001b[0m in \u001b[0;36m<module>\u001b[0;34m\u001b[0m\n\u001b[0;32m----> 1\u001b[0;31m \u001b[0;32mfor\u001b[0m \u001b[0ma\u001b[0m \u001b[0;32min\u001b[0m \u001b[0mpost\u001b[0m\u001b[0;34m.\u001b[0m\u001b[0ma\u001b[0m\u001b[0;34m(\u001b[0m\u001b[0;34m)\u001b[0m\u001b[0;34m:\u001b[0m\u001b[0;34m\u001b[0m\u001b[0;34m\u001b[0m\u001b[0m\n\u001b[0m\u001b[1;32m      2\u001b[0m   \u001b[0mb\u001b[0m \u001b[0;34m=\u001b[0m \u001b[0mpost\u001b[0m\u001b[0;34m[\u001b[0m\u001b[0ma\u001b[0m\u001b[0;34m]\u001b[0m\u001b[0;34m\u001b[0m\u001b[0;34m\u001b[0m\u001b[0m\n\u001b[1;32m      3\u001b[0m   \u001b[0mprint\u001b[0m\u001b[0;34m(\u001b[0m\u001b[0ma\u001b[0m \u001b[0;34m,\u001b[0m \u001b[0;34m\" = \"\u001b[0m\u001b[0;34m,\u001b[0m \u001b[0mb\u001b[0m\u001b[0;34m)\u001b[0m\u001b[0;34m\u001b[0m\u001b[0;34m\u001b[0m\u001b[0m\n",
            "\u001b[0;31mAttributeError\u001b[0m: 'dict' object has no attribute 'a'"
          ]
        }
      ],
      "source": [
        "for a in post.a():\n",
        "  b = post[a]\n",
        "  print(a , \" = \", b) "
      ]
    },
    {
      "cell_type": "code",
      "execution_count": null,
      "metadata": {
        "colab": {
          "base_uri": "https://localhost:8080/"
        },
        "id": "8FZP1erJkPp9",
        "outputId": "59ffcf99-a1b1-440a-8567-3529af2dce2e"
      },
      "outputs": [
        {
          "name": "stdout",
          "output_type": "stream",
          "text": [
            "user_id  =  209\n",
            "message  =  D4 D5 D6 D7 D8\n",
            "Language  =  English\n",
            "datetime  =  20651278\n",
            "location  =  (44.5903, -104)\n"
          ]
        }
      ],
      "source": [
        "for key,value in post.items():\n",
        "  print(key , \" = \", value)"
      ]
    },
    {
      "cell_type": "code",
      "execution_count": null,
      "metadata": {
        "colab": {
          "base_uri": "https://localhost:8080/"
        },
        "id": "ZdWz0gh-kjl4",
        "outputId": "eef7fffb-8f97-402e-828b-42b948243a74"
      },
      "outputs": [
        {
          "name": "stdout",
          "output_type": "stream",
          "text": [
            "Help on built-in function pop:\n",
            "\n",
            "pop(...) method of builtins.dict instance\n",
            "    D.pop(k[,d]) -> v, remove specified key and return the corresponding value.\n",
            "    If key is not found, d is returned if given, otherwise KeyError is raised\n",
            "\n"
          ]
        }
      ],
      "source": [
        "help(post.pop)"
      ]
    },
    {
      "cell_type": "code",
      "execution_count": null,
      "metadata": {
        "colab": {
          "base_uri": "https://localhost:8080/",
          "height": 36
        },
        "id": "XL5rg_yxkv3I",
        "outputId": "e5f963c5-d209-4cf0-f6e6-6c1a5d078e85"
      },
      "outputs": [
        {
          "data": {
            "application/vnd.google.colaboratory.intrinsic+json": {
              "type": "string"
            },
            "text/plain": [
              "'D4 D5 D6 D7 D8'"
            ]
          },
          "execution_count": 84,
          "metadata": {},
          "output_type": "execute_result"
        }
      ],
      "source": [
        "post.pop(\"message\")"
      ]
    },
    {
      "cell_type": "code",
      "execution_count": null,
      "metadata": {
        "colab": {
          "base_uri": "https://localhost:8080/"
        },
        "id": "go25wfwlk8vz",
        "outputId": "cd43fccf-c7bb-475d-dc1d-7709556a1b88"
      },
      "outputs": [
        {
          "data": {
            "text/plain": [
              "{'user_id': 209,\n",
              " 'Language': 'English',\n",
              " 'datetime': '20651278',\n",
              " 'location': (44.5903, -104)}"
            ]
          },
          "execution_count": 85,
          "metadata": {},
          "output_type": "execute_result"
        }
      ],
      "source": [
        "post"
      ]
    },
    {
      "cell_type": "code",
      "execution_count": null,
      "metadata": {
        "colab": {
          "base_uri": "https://localhost:8080/"
        },
        "id": "hKXmhF1glA3b",
        "outputId": "58a3ef61-a26f-4241-9ee8-0e5d0d94225e"
      },
      "outputs": [
        {
          "name": "stdout",
          "output_type": "stream",
          "text": [
            "Help on built-in function clear:\n",
            "\n",
            "clear(...) method of builtins.dict instance\n",
            "    D.clear() -> None.  Remove all items from D.\n",
            "\n"
          ]
        }
      ],
      "source": [
        "help(post.clear)"
      ]
    },
    {
      "cell_type": "code",
      "execution_count": null,
      "metadata": {
        "id": "r_LgzTCTlFLy"
      },
      "outputs": [],
      "source": [
        "post.clear()"
      ]
    },
    {
      "cell_type": "code",
      "execution_count": null,
      "metadata": {
        "colab": {
          "base_uri": "https://localhost:8080/"
        },
        "id": "VBxvL8oalIzo",
        "outputId": "9b0fb0e2-abd5-4916-e116-535e579998b1"
      },
      "outputs": [
        {
          "data": {
            "text/plain": [
              "{}"
            ]
          },
          "execution_count": 88,
          "metadata": {},
          "output_type": "execute_result"
        }
      ],
      "source": [
        "post"
      ]
    },
    {
      "cell_type": "markdown",
      "metadata": {
        "id": "dsUekCtCtAK3"
      },
      "source": [
        "#Tuples: Ordered sequence"
      ]
    },
    {
      "cell_type": "code",
      "execution_count": null,
      "metadata": {
        "colab": {
          "base_uri": "https://localhost:8080/"
        },
        "id": "VsFUkUtelJqL",
        "outputId": "be149245-d62c-4318-f082-99422ecfbf72"
      },
      "outputs": [
        {
          "name": "stdout",
          "output_type": "stream",
          "text": [
            "prime 6\n",
            "evens 5\n"
          ]
        }
      ],
      "source": [
        "prime_numbers = [1,3,5,7,9,11]\n",
        "evens = (2,4,6,8,10)\n",
        "print(\"prime\" , len(prime_numbers))\n",
        "print(\"evens\", len(evens) )"
      ]
    },
    {
      "cell_type": "code",
      "execution_count": null,
      "metadata": {
        "colab": {
          "base_uri": "https://localhost:8080/"
        },
        "id": "zt6EXezitivQ",
        "outputId": "edbb54b2-374b-4765-b256-39589f086f77"
      },
      "outputs": [
        {
          "name": "stdout",
          "output_type": "stream",
          "text": [
            "1\n",
            "3\n",
            "5\n",
            "7\n",
            "9\n",
            "11\n"
          ]
        }
      ],
      "source": [
        "for p in prime_numbers:\n",
        "  print(p)"
      ]
    },
    {
      "cell_type": "code",
      "execution_count": null,
      "metadata": {
        "colab": {
          "base_uri": "https://localhost:8080/"
        },
        "id": "G15OB_XZtqbD",
        "outputId": "875b84a4-7e67-423a-eef5-165c4ce4ef83"
      },
      "outputs": [
        {
          "name": "stdout",
          "output_type": "stream",
          "text": [
            "2\n",
            "4\n",
            "6\n",
            "8\n",
            "10\n"
          ]
        }
      ],
      "source": [
        "for e in evens:\n",
        "  print(e)"
      ]
    },
    {
      "cell_type": "code",
      "execution_count": null,
      "metadata": {
        "colab": {
          "base_uri": "https://localhost:8080/"
        },
        "id": "UUD4bipKtvJs",
        "outputId": "44991467-5aaf-4910-ed2d-2e062ab1a048"
      },
      "outputs": [
        {
          "name": "stdout",
          "output_type": "stream",
          "text": [
            "['__add__', '__class__', '__contains__', '__delattr__', '__delitem__', '__dir__', '__doc__', '__eq__', '__format__', '__ge__', '__getattribute__', '__getitem__', '__gt__', '__hash__', '__iadd__', '__imul__', '__init__', '__init_subclass__', '__iter__', '__le__', '__len__', '__lt__', '__mul__', '__ne__', '__new__', '__reduce__', '__reduce_ex__', '__repr__', '__reversed__', '__rmul__', '__setattr__', '__setitem__', '__sizeof__', '__str__', '__subclasshook__', 'append', 'clear', 'copy', 'count', 'extend', 'index', 'insert', 'pop', 'remove', 'reverse', 'sort']\n"
          ]
        }
      ],
      "source": [
        "print(dir(prime_numbers))"
      ]
    },
    {
      "cell_type": "code",
      "execution_count": null,
      "metadata": {
        "colab": {
          "base_uri": "https://localhost:8080/"
        },
        "id": "gY2lwRqVt9nv",
        "outputId": "cb4b4431-a07f-4133-b470-c24ad3ae55f7"
      },
      "outputs": [
        {
          "name": "stdout",
          "output_type": "stream",
          "text": [
            "['__add__', '__class__', '__contains__', '__delattr__', '__dir__', '__doc__', '__eq__', '__format__', '__ge__', '__getattribute__', '__getitem__', '__getnewargs__', '__gt__', '__hash__', '__init__', '__init_subclass__', '__iter__', '__le__', '__len__', '__lt__', '__mul__', '__ne__', '__new__', '__reduce__', '__reduce_ex__', '__repr__', '__rmul__', '__setattr__', '__sizeof__', '__str__', '__subclasshook__', 'count', 'index']\n"
          ]
        }
      ],
      "source": [
        "print(dir(evens))"
      ]
    },
    {
      "cell_type": "markdown",
      "metadata": {
        "id": "0R0BSqbLuHsp"
      },
      "source": [
        "lists has more methods and occupy more space in memory"
      ]
    },
    {
      "cell_type": "code",
      "execution_count": null,
      "metadata": {
        "colab": {
          "base_uri": "https://localhost:8080/"
        },
        "id": "nRUlOLX9uAFD",
        "outputId": "97ac0c5a-d4b9-4ffd-cace-63c46e31ed90"
      },
      "outputs": [
        {
          "name": "stdout",
          "output_type": "stream",
          "text": [
            "['__breakpointhook__', '__displayhook__', '__doc__', '__excepthook__', '__interactivehook__', '__loader__', '__name__', '__package__', '__spec__', '__stderr__', '__stdin__', '__stdout__', '_clear_type_cache', '_current_frames', '_debugmallocstats', '_framework', '_getframe', '_git', '_home', '_xoptions', 'abiflags', 'api_version', 'argv', 'base_exec_prefix', 'base_prefix', 'breakpointhook', 'builtin_module_names', 'byteorder', 'call_tracing', 'callstats', 'copyright', 'displayhook', 'dont_write_bytecode', 'exc_info', 'excepthook', 'exec_prefix', 'executable', 'exit', 'flags', 'float_info', 'float_repr_style', 'get_asyncgen_hooks', 'get_coroutine_origin_tracking_depth', 'get_coroutine_wrapper', 'getallocatedblocks', 'getcheckinterval', 'getdefaultencoding', 'getdlopenflags', 'getfilesystemencodeerrors', 'getfilesystemencoding', 'getprofile', 'getrecursionlimit', 'getrefcount', 'getsizeof', 'getswitchinterval', 'gettrace', 'hash_info', 'hexversion', 'implementation', 'int_info', 'intern', 'is_finalizing', 'last_traceback', 'last_type', 'last_value', 'maxsize', 'maxunicode', 'meta_path', 'modules', 'path', 'path_hooks', 'path_importer_cache', 'platform', 'prefix', 'ps1', 'ps2', 'ps3', 'set_asyncgen_hooks', 'set_coroutine_origin_tracking_depth', 'set_coroutine_wrapper', 'setcheckinterval', 'setdlopenflags', 'setprofile', 'setrecursionlimit', 'setswitchinterval', 'settrace', 'stderr', 'stdin', 'stdout', 'thread_info', 'version', 'version_info', 'warnoptions']\n"
          ]
        }
      ],
      "source": [
        "import sys\n",
        "print(dir(sys))"
      ]
    },
    {
      "cell_type": "code",
      "execution_count": null,
      "metadata": {
        "colab": {
          "base_uri": "https://localhost:8080/"
        },
        "id": "7sf_4YFJuXYW",
        "outputId": "6f47d6e0-fbe6-45d1-8aba-ae32365db05e"
      },
      "outputs": [
        {
          "name": "stdout",
          "output_type": "stream",
          "text": [
            "Help on built-in function getsizeof in module sys:\n",
            "\n",
            "getsizeof(...)\n",
            "    getsizeof(object, default) -> int\n",
            "    \n",
            "    Return the size of object in bytes.\n",
            "\n"
          ]
        }
      ],
      "source": [
        "help(sys.getsizeof)"
      ]
    },
    {
      "cell_type": "code",
      "execution_count": null,
      "metadata": {
        "id": "UpCijnnXufS0"
      },
      "outputs": [],
      "source": [
        "List = [2,4,6,8,10, \"a\" , \"b\" , \"c\" , \"d\"]\n",
        "tuple = (2,4,6,8,10, \"a\" , \"b\" , \"c\" , \"d\")"
      ]
    },
    {
      "cell_type": "code",
      "execution_count": null,
      "metadata": {
        "colab": {
          "base_uri": "https://localhost:8080/"
        },
        "id": "qVQcuIEDuuw6",
        "outputId": "05acf02c-8952-4753-cc08-7cf0006d98d9"
      },
      "outputs": [
        {
          "name": "stdout",
          "output_type": "stream",
          "text": [
            "Listsize 144\n",
            "tuplesize 128\n"
          ]
        }
      ],
      "source": [
        "print(\"Listsize\" , sys.getsizeof(List))\n",
        "print(\"tuplesize\" , sys.getsizeof(tuple)) #size of list is more than tuple. list are mutable while tuples are not immutable, tuple making is fast"
      ]
    },
    {
      "cell_type": "code",
      "execution_count": null,
      "metadata": {
        "colab": {
          "base_uri": "https://localhost:8080/"
        },
        "id": "BVKMFVkjvNnw",
        "outputId": "6724c56d-36be-4937-fcc9-006f53ef9343"
      },
      "outputs": [
        {
          "name": "stdout",
          "output_type": "stream",
          "text": [
            "0.08978757800014137\n",
            "0.012941525999849546\n"
          ]
        }
      ],
      "source": [
        "import timeit\n",
        "list_test = timeit.timeit(stmt = \"[1,2,3,4,5,6]\" , number = 1000000)\n",
        "tuple_test = timeit.timeit(stmt = \"(1,2,3,4,5,6)\" , number = 1000000)\n",
        "print(list_test)\n",
        "print(tuple_test)"
      ]
    },
    {
      "cell_type": "code",
      "execution_count": null,
      "metadata": {
        "colab": {
          "base_uri": "https://localhost:8080/"
        },
        "id": "ZR1CQJtuwBty",
        "outputId": "3486bb6c-9a35-49db-e041-8d8e46aa9dd4"
      },
      "outputs": [
        {
          "name": "stdout",
          "output_type": "stream",
          "text": [
            "()\n",
            "a\n",
            "('a', 'b')\n",
            "('a', 'b', 'c', 'd')\n"
          ]
        }
      ],
      "source": [
        "empty_tuple = ()\n",
        "test1 = (\"a\")\n",
        "test2 = (\"a\" , \"b\")\n",
        "test3 = (\"a\" , \"b\" , \"c\" , \"d\")\n",
        "print(empty_tuple)\n",
        "print(test1)\n",
        "print(test2)\n",
        "print(test3)"
      ]
    },
    {
      "cell_type": "code",
      "execution_count": null,
      "metadata": {
        "colab": {
          "base_uri": "https://localhost:8080/"
        },
        "id": "5bYrrhC1wfKT",
        "outputId": "44fd18f5-bc5b-4403-9312-0aa5ea68e16c"
      },
      "outputs": [
        {
          "name": "stdout",
          "output_type": "stream",
          "text": [
            "()\n",
            "('a',)\n",
            "('a', 'b')\n",
            "('a', 'b', 'c', 'd')\n"
          ]
        }
      ],
      "source": [
        "empty_tuple = ()\n",
        "test1 = (\"a\",)\n",
        "test2 = (\"a\" , \"b\")\n",
        "test3 = (\"a\" , \"b\" , \"c\" , \"d\")\n",
        "print(empty_tuple)\n",
        "print(test1)\n",
        "print(test2)\n",
        "print(test3)"
      ]
    },
    {
      "cell_type": "code",
      "execution_count": null,
      "metadata": {
        "id": "mUEoRfwCwnLa"
      },
      "outputs": [],
      "source": [
        "test1 = 1,\n",
        "test2 = 2,3\n",
        "test3 = 2,3,4"
      ]
    },
    {
      "cell_type": "code",
      "execution_count": null,
      "metadata": {
        "colab": {
          "base_uri": "https://localhost:8080/"
        },
        "id": "fCivJlXHwywI",
        "outputId": "00e01fb8-ae65-4067-8979-74570240e2af"
      },
      "outputs": [
        {
          "name": "stdout",
          "output_type": "stream",
          "text": [
            "(1,) <class 'tuple'>\n",
            "(2, 3) <class 'tuple'>\n",
            "(2, 3, 4) <class 'tuple'>\n"
          ]
        }
      ],
      "source": [
        "print(test1, type(test1))\n",
        "print(test2, type(test2))\n",
        "print(test3, type(test3))"
      ]
    },
    {
      "cell_type": "code",
      "execution_count": null,
      "metadata": {
        "colab": {
          "base_uri": "https://localhost:8080/"
        },
        "id": "DeGZv5nKw7Hx",
        "outputId": "8dd6a5e1-8b3a-480c-9740-4cc259aea833"
      },
      "outputs": [
        {
          "data": {
            "text/plain": [
              "24"
            ]
          },
          "execution_count": 107,
          "metadata": {},
          "output_type": "execute_result"
        }
      ],
      "source": [
        "survey = (24, \"boy\" , 2,0)\n",
        "survey[0]"
      ]
    },
    {
      "cell_type": "code",
      "execution_count": null,
      "metadata": {
        "id": "QEVt2s-yxHPJ"
      },
      "outputs": [],
      "source": [
        "survey2 = (21, \"USA\" , True)\n",
        "age , country, knows_python = survey2"
      ]
    },
    {
      "cell_type": "code",
      "execution_count": null,
      "metadata": {
        "colab": {
          "base_uri": "https://localhost:8080/"
        },
        "id": "KKW-WHvGxjTf",
        "outputId": "de61be53-61e0-4cb7-f910-ee7770a8841a"
      },
      "outputs": [
        {
          "name": "stdout",
          "output_type": "stream",
          "text": [
            "21\n"
          ]
        }
      ],
      "source": [
        "print(age)"
      ]
    },
    {
      "cell_type": "code",
      "execution_count": null,
      "metadata": {
        "colab": {
          "base_uri": "https://localhost:8080/"
        },
        "id": "76IXpHKPxrNf",
        "outputId": "efe970c7-d00f-451c-a5a0-64524c1ec6cf"
      },
      "outputs": [
        {
          "name": "stdout",
          "output_type": "stream",
          "text": [
            "USA\n"
          ]
        }
      ],
      "source": [
        "country = (\"USA\")\n",
        "print(country)"
      ]
    },
    {
      "cell_type": "code",
      "execution_count": null,
      "metadata": {
        "colab": {
          "base_uri": "https://localhost:8080/"
        },
        "id": "AZjHQg9-x1Dz",
        "outputId": "6071dc89-1e22-4431-d1fd-98b9bff85b82"
      },
      "outputs": [
        {
          "name": "stdout",
          "output_type": "stream",
          "text": [
            "('USA',)\n"
          ]
        }
      ],
      "source": [
        "country = (\"USA\",)\n",
        "print(country)"
      ]
    },
    {
      "cell_type": "code",
      "execution_count": null,
      "metadata": {
        "colab": {
          "base_uri": "https://localhost:8080/",
          "height": 172
        },
        "id": "OjkH6qrsx5sm",
        "outputId": "040b1171-fb5e-48c7-d2bd-c868bae869f2"
      },
      "outputs": [
        {
          "ename": "ValueError",
          "evalue": "ignored",
          "output_type": "error",
          "traceback": [
            "\u001b[0;31m---------------------------------------------------------------------------\u001b[0m",
            "\u001b[0;31mValueError\u001b[0m                                Traceback (most recent call last)",
            "\u001b[0;32m<ipython-input-112-07c82baef207>\u001b[0m in \u001b[0;36m<module>\u001b[0;34m\u001b[0m\n\u001b[0;32m----> 1\u001b[0;31m \u001b[0ma\u001b[0m\u001b[0;34m,\u001b[0m\u001b[0mb\u001b[0m\u001b[0;34m,\u001b[0m\u001b[0mc\u001b[0m \u001b[0;34m=\u001b[0m \u001b[0;34m(\u001b[0m\u001b[0;36m1\u001b[0m\u001b[0;34m,\u001b[0m\u001b[0;36m2\u001b[0m\u001b[0;34m,\u001b[0m\u001b[0;36m3\u001b[0m\u001b[0;34m,\u001b[0m\u001b[0;36m4\u001b[0m\u001b[0;34m,\u001b[0m\u001b[0;36m5\u001b[0m\u001b[0;34m)\u001b[0m\u001b[0;34m\u001b[0m\u001b[0;34m\u001b[0m\u001b[0m\n\u001b[0m",
            "\u001b[0;31mValueError\u001b[0m: too many values to unpack (expected 3)"
          ]
        }
      ],
      "source": [
        "a,b,c = (1,2,3,4,5)"
      ]
    },
    {
      "cell_type": "code",
      "execution_count": null,
      "metadata": {
        "colab": {
          "base_uri": "https://localhost:8080/",
          "height": 172
        },
        "id": "-sy1khPLx9qB",
        "outputId": "15744259-9edd-420b-dd9e-6885c5f4c53e"
      },
      "outputs": [
        {
          "ename": "ValueError",
          "evalue": "ignored",
          "output_type": "error",
          "traceback": [
            "\u001b[0;31m---------------------------------------------------------------------------\u001b[0m",
            "\u001b[0;31mValueError\u001b[0m                                Traceback (most recent call last)",
            "\u001b[0;32m<ipython-input-114-6f419fd02ba5>\u001b[0m in \u001b[0;36m<module>\u001b[0;34m\u001b[0m\n\u001b[0;32m----> 1\u001b[0;31m \u001b[0mx\u001b[0m\u001b[0;34m,\u001b[0m\u001b[0my\u001b[0m\u001b[0;34m,\u001b[0m\u001b[0mz\u001b[0m \u001b[0;34m=\u001b[0m \u001b[0;34m(\u001b[0m\u001b[0;36m1\u001b[0m\u001b[0;34m,\u001b[0m\u001b[0;36m2\u001b[0m\u001b[0;34m)\u001b[0m\u001b[0;34m\u001b[0m\u001b[0;34m\u001b[0m\u001b[0m\n\u001b[0m",
            "\u001b[0;31mValueError\u001b[0m: not enough values to unpack (expected 3, got 2)"
          ]
        }
      ],
      "source": [
        "x,y,z = (1,2)"
      ]
    },
    {
      "cell_type": "markdown",
      "metadata": {
        "id": "NoCPFtO9yS5c"
      },
      "source": [
        "#Logging : Debug, info, warning, error, critical"
      ]
    },
    {
      "cell_type": "code",
      "execution_count": null,
      "metadata": {
        "id": "DJHC4NLNyBug"
      },
      "outputs": [],
      "source": [
        "import logging"
      ]
    },
    {
      "cell_type": "code",
      "execution_count": null,
      "metadata": {
        "colab": {
          "base_uri": "https://localhost:8080/"
        },
        "id": "BCtt_ueYym7M",
        "outputId": "087b70cf-d478-4fe8-cd04-0e529256c875"
      },
      "outputs": [
        {
          "data": {
            "text/plain": [
              "['BASIC_FORMAT',\n",
              " 'BufferingFormatter',\n",
              " 'CRITICAL',\n",
              " 'DEBUG',\n",
              " 'ERROR',\n",
              " 'FATAL',\n",
              " 'FileHandler',\n",
              " 'Filter',\n",
              " 'Filterer',\n",
              " 'Formatter',\n",
              " 'Handler',\n",
              " 'INFO',\n",
              " 'LogRecord',\n",
              " 'Logger',\n",
              " 'LoggerAdapter',\n",
              " 'Manager',\n",
              " 'NOTSET',\n",
              " 'NullHandler',\n",
              " 'PercentStyle',\n",
              " 'PlaceHolder',\n",
              " 'RootLogger',\n",
              " 'StrFormatStyle',\n",
              " 'StreamHandler',\n",
              " 'StringTemplateStyle',\n",
              " 'Template',\n",
              " 'WARN',\n",
              " 'WARNING',\n",
              " '_STYLES',\n",
              " '_StderrHandler',\n",
              " '__all__',\n",
              " '__author__',\n",
              " '__builtins__',\n",
              " '__cached__',\n",
              " '__date__',\n",
              " '__doc__',\n",
              " '__file__',\n",
              " '__loader__',\n",
              " '__name__',\n",
              " '__package__',\n",
              " '__path__',\n",
              " '__spec__',\n",
              " '__status__',\n",
              " '__version__',\n",
              " '_acquireLock',\n",
              " '_addHandlerRef',\n",
              " '_after_at_fork_child_reinit_locks',\n",
              " '_at_fork_reinit_lock_weakset',\n",
              " '_checkLevel',\n",
              " '_defaultFormatter',\n",
              " '_defaultLastResort',\n",
              " '_handlerList',\n",
              " '_handlers',\n",
              " '_levelToName',\n",
              " '_lock',\n",
              " '_logRecordFactory',\n",
              " '_loggerClass',\n",
              " '_nameToLevel',\n",
              " '_register_at_fork_reinit_lock',\n",
              " '_releaseLock',\n",
              " '_removeHandlerRef',\n",
              " '_showwarning',\n",
              " '_srcfile',\n",
              " '_startTime',\n",
              " '_warnings_showwarning',\n",
              " 'addLevelName',\n",
              " 'atexit',\n",
              " 'basicConfig',\n",
              " 'captureWarnings',\n",
              " 'collections',\n",
              " 'critical',\n",
              " 'currentframe',\n",
              " 'debug',\n",
              " 'disable',\n",
              " 'error',\n",
              " 'exception',\n",
              " 'fatal',\n",
              " 'getLevelName',\n",
              " 'getLogRecordFactory',\n",
              " 'getLogger',\n",
              " 'getLoggerClass',\n",
              " 'handlers',\n",
              " 'info',\n",
              " 'io',\n",
              " 'lastResort',\n",
              " 'log',\n",
              " 'logMultiprocessing',\n",
              " 'logProcesses',\n",
              " 'logThreads',\n",
              " 'makeLogRecord',\n",
              " 'os',\n",
              " 'raiseExceptions',\n",
              " 'root',\n",
              " 'setLogRecordFactory',\n",
              " 'setLoggerClass',\n",
              " 'shutdown',\n",
              " 'sys',\n",
              " 'threading',\n",
              " 'time',\n",
              " 'traceback',\n",
              " 'warn',\n",
              " 'warning',\n",
              " 'warnings',\n",
              " 'weakref']"
            ]
          },
          "execution_count": 117,
          "metadata": {},
          "output_type": "execute_result"
        }
      ],
      "source": [
        "dir(logging)"
      ]
    },
    {
      "cell_type": "markdown",
      "metadata": {
        "id": "k4PXg9zty7-Y"
      },
      "source": [
        "All caps are constant, all the begineening with small are methods, capatilized are classes"
      ]
    },
    {
      "cell_type": "code",
      "execution_count": null,
      "metadata": {
        "id": "CseeWhGhyrPE"
      },
      "outputs": [],
      "source": [
        "import logging"
      ]
    },
    {
      "cell_type": "code",
      "execution_count": null,
      "metadata": {
        "id": "IYsulykgzUAt"
      },
      "outputs": [],
      "source": [
        "LOG_FORMAT = \"%(LEVELname)s %(asctime)s - %(message)s\"\n",
        "logging.basicConfig(filename = \"/tmp/python.log\", level = logging.DEBUG, formet = LOG_FORMAT)\n"
      ]
    },
    {
      "cell_type": "code",
      "execution_count": null,
      "metadata": {
        "id": "kX_u4cizzrDa"
      },
      "outputs": [],
      "source": [
        "logger = logging.getLogger()"
      ]
    },
    {
      "cell_type": "code",
      "execution_count": null,
      "metadata": {
        "id": "V4Kfqrhvz30g"
      },
      "outputs": [],
      "source": [
        "logger.info(\"Our first message\")"
      ]
    },
    {
      "cell_type": "code",
      "execution_count": null,
      "metadata": {
        "colab": {
          "base_uri": "https://localhost:8080/"
        },
        "id": "XgbEZ7co0Dsf",
        "outputId": "5dd6cf40-b263-40ed-d5cf-29130b06c823"
      },
      "outputs": [
        {
          "name": "stdout",
          "output_type": "stream",
          "text": [
            "30\n"
          ]
        }
      ],
      "source": [
        "print(logger.level)"
      ]
    },
    {
      "cell_type": "markdown",
      "metadata": {
        "id": "5dyTak3i5DHz"
      },
      "source": [
        "#Fibonacci sequence and Memoization\n",
        "##1,1,2,3,5,8,..."
      ]
    },
    {
      "cell_type": "code",
      "execution_count": null,
      "metadata": {
        "id": "we8e7x-D0Mir"
      },
      "outputs": [],
      "source": [
        "def fibonacci(n):\n",
        "  if n == 1:\n",
        "    return 1\n",
        "  elif n == 2:\n",
        "    return 1\n",
        "  elif n > 2:\n",
        "    return fibonacci(n-1) + fibonacci(n-2)\n"
      ]
    },
    {
      "cell_type": "code",
      "execution_count": null,
      "metadata": {
        "colab": {
          "base_uri": "https://localhost:8080/"
        },
        "id": "rQu7dS0u5_XY",
        "outputId": "ec72c6ca-7b8d-400d-99c0-608f09eb77c0"
      },
      "outputs": [
        {
          "name": "stdout",
          "output_type": "stream",
          "text": [
            "Result is: 1\n",
            "Result is: 1\n",
            "Result is: 2\n",
            "Result is: 3\n",
            "Result is: 5\n",
            "Result is: 8\n",
            "Result is: 13\n",
            "Result is: 21\n",
            "Result is: 34\n",
            "Result is: 55\n"
          ]
        }
      ],
      "source": [
        "for n in range(1,11):\n",
        "  print(\"Result is:\", fibonacci(n))\n"
      ]
    },
    {
      "cell_type": "code",
      "execution_count": null,
      "metadata": {
        "colab": {
          "base_uri": "https://localhost:8080/"
        },
        "id": "bmGXolRB6J-v",
        "outputId": "7ea44ffa-1a45-4c67-a521-c9f7903c76b1"
      },
      "outputs": [
        {
          "name": "stdout",
          "output_type": "stream",
          "text": [
            "Result is: 1\n",
            "Result is: 1\n",
            "Result is: 2\n",
            "Result is: 3\n",
            "Result is: 5\n",
            "Result is: 8\n",
            "Result is: 13\n",
            "Result is: 21\n",
            "Result is: 34\n"
          ]
        }
      ],
      "source": [
        "for n in range(1,10):\n",
        "  print(\"Result is:\", fibonacci(n))"
      ]
    },
    {
      "cell_type": "markdown",
      "metadata": {
        "id": "Vaob2GR56hGV"
      },
      "source": [
        "slow process, we need fast method hence use memoization"
      ]
    },
    {
      "cell_type": "code",
      "execution_count": null,
      "metadata": {
        "id": "53D0r_r46W7v"
      },
      "outputs": [],
      "source": [
        "fabinacci_cach = {}\n",
        "def fabinacci(n):\n",
        "  if n in fabinacci_cach:\n",
        "    return fabinacci_cach[n]\n",
        "  if n == 1:\n",
        "    return 1\n",
        "  elif n == 2:\n",
        "    return 1\n",
        "  elif n > 2:\n",
        "    return fibonacci(n-1) + fibonacci(n-2)\n",
        "  fabinacci_cach[n] = value\n",
        "  return value"
      ]
    },
    {
      "cell_type": "code",
      "execution_count": null,
      "metadata": {
        "colab": {
          "base_uri": "https://localhost:8080/"
        },
        "id": "8hmiwTZA7iND",
        "outputId": "dbe94e38-9757-4957-a480-601a7b14cdfa"
      },
      "outputs": [
        {
          "name": "stdout",
          "output_type": "stream",
          "text": [
            "Result is: 1\n",
            "Result is: 1\n",
            "Result is: 2\n",
            "Result is: 3\n",
            "Result is: 5\n",
            "Result is: 8\n",
            "Result is: 13\n",
            "Result is: 21\n",
            "Result is: 34\n"
          ]
        }
      ],
      "source": [
        "for n in range(1,10):\n",
        "  print(\"Result is:\", fibonacci(n))"
      ]
    },
    {
      "cell_type": "markdown",
      "metadata": {
        "id": "N71waZPa-M63"
      },
      "source": [
        "This is faster but not too much"
      ]
    },
    {
      "cell_type": "code",
      "execution_count": null,
      "metadata": {
        "id": "qqQxtNA_-J4V"
      },
      "outputs": [],
      "source": [
        "from functools import lru_cache\n",
        "@lru_cache(maxsize=1000)\n",
        "\n",
        "def fibonacci(n):\n",
        "    if n == 1:\n",
        "      return 1\n",
        "    elif n == 2:\n",
        "      return 1\n",
        "    elif n > 2:\n",
        "      return fibonacci(n-1) + fibonacci(n-2)"
      ]
    },
    {
      "cell_type": "code",
      "execution_count": null,
      "metadata": {
        "colab": {
          "base_uri": "https://localhost:8080/"
        },
        "id": "VX3VXvwmEjJX",
        "outputId": "e324fc39-4ab0-4229-83bb-e9ce1dd603eb"
      },
      "outputs": [
        {
          "name": "stdout",
          "output_type": "stream",
          "text": [
            "Result is: 1\n",
            "Result is: 1\n",
            "Result is: 2\n",
            "Result is: 3\n",
            "Result is: 5\n",
            "Result is: 8\n",
            "Result is: 13\n",
            "Result is: 21\n",
            "Result is: 34\n"
          ]
        }
      ],
      "source": [
        "for n in range(1,10):\n",
        "  print(\"Result is:\", fibonacci(n))"
      ]
    },
    {
      "cell_type": "code",
      "execution_count": null,
      "metadata": {
        "colab": {
          "base_uri": "https://localhost:8080/",
          "height": 264
        },
        "id": "VUlyeh8MEqPT",
        "outputId": "c409872b-94ad-4201-b23b-d4ca22a0322b"
      },
      "outputs": [
        {
          "ename": "TypeError",
          "evalue": "ignored",
          "output_type": "error",
          "traceback": [
            "\u001b[0;31m---------------------------------------------------------------------------\u001b[0m",
            "\u001b[0;31mTypeError\u001b[0m                                 Traceback (most recent call last)",
            "\u001b[0;32m<ipython-input-153-9447520c72b8>\u001b[0m in \u001b[0;36m<module>\u001b[0;34m\u001b[0m\n\u001b[0;32m----> 1\u001b[0;31m \u001b[0mfibonacci\u001b[0m\u001b[0;34m(\u001b[0m\u001b[0;36m2.1\u001b[0m\u001b[0;34m)\u001b[0m\u001b[0;34m\u001b[0m\u001b[0;34m\u001b[0m\u001b[0m\n\u001b[0m",
            "\u001b[0;32m<ipython-input-150-0a7f04c60884>\u001b[0m in \u001b[0;36mfibonacci\u001b[0;34m(n)\u001b[0m\n\u001b[1;32m      8\u001b[0m       \u001b[0;32mreturn\u001b[0m \u001b[0;36m1\u001b[0m\u001b[0;34m\u001b[0m\u001b[0;34m\u001b[0m\u001b[0m\n\u001b[1;32m      9\u001b[0m     \u001b[0;32melif\u001b[0m \u001b[0mn\u001b[0m \u001b[0;34m>\u001b[0m \u001b[0;36m2\u001b[0m\u001b[0;34m:\u001b[0m\u001b[0;34m\u001b[0m\u001b[0;34m\u001b[0m\u001b[0m\n\u001b[0;32m---> 10\u001b[0;31m       \u001b[0;32mreturn\u001b[0m \u001b[0mfibonacci\u001b[0m\u001b[0;34m(\u001b[0m\u001b[0mn\u001b[0m\u001b[0;34m-\u001b[0m\u001b[0;36m1\u001b[0m\u001b[0;34m)\u001b[0m \u001b[0;34m+\u001b[0m \u001b[0mfibonacci\u001b[0m\u001b[0;34m(\u001b[0m\u001b[0mn\u001b[0m\u001b[0;34m-\u001b[0m\u001b[0;36m2\u001b[0m\u001b[0;34m)\u001b[0m\u001b[0;34m\u001b[0m\u001b[0;34m\u001b[0m\u001b[0m\n\u001b[0m",
            "\u001b[0;31mTypeError\u001b[0m: unsupported operand type(s) for +: 'NoneType' and 'NoneType'"
          ]
        }
      ],
      "source": [
        "fibonacci(2.1)"
      ]
    },
    {
      "cell_type": "code",
      "execution_count": null,
      "metadata": {
        "id": "vPSYnQRtEv0p"
      },
      "outputs": [],
      "source": [
        "fibonacci(-1)"
      ]
    },
    {
      "cell_type": "code",
      "execution_count": null,
      "metadata": {
        "colab": {
          "background_save": true,
          "base_uri": "https://localhost:8080/"
        },
        "id": "cY_EgwyuE8D4",
        "outputId": "2219f0dc-b36a-4aa6-f5ec-8e93e096ff1a"
      },
      "outputs": [
        {
          "name": "stdout",
          "output_type": "stream",
          "text": [
            "1.0\n",
            "2.0\n",
            "1.5\n",
            "1.6666666666666667\n",
            "1.6\n",
            "1.625\n",
            "1.6153846153846154\n",
            "1.619047619047619\n",
            "1.6176470588235294\n",
            "1.6181818181818182\n",
            "1.6179775280898876\n",
            "1.6180555555555556\n",
            "1.6180257510729614\n",
            "1.6180371352785146\n",
            "1.618032786885246\n",
            "1.618034447821682\n",
            "1.6180338134001253\n",
            "1.618034055727554\n",
            "1.6180339631667064\n",
            "1.6180339985218033\n",
            "1.618033985017358\n",
            "1.6180339901755971\n",
            "1.618033988205325\n",
            "1.618033988957902\n",
            "1.6180339886704431\n",
            "1.6180339887802426\n",
            "1.618033988738303\n",
            "1.6180339887543225\n",
            "1.6180339887482036\n",
            "1.6180339887505408\n",
            "1.6180339887496482\n",
            "1.618033988749989\n",
            "1.618033988749859\n",
            "1.6180339887499087\n",
            "1.6180339887498896\n",
            "1.618033988749897\n",
            "1.618033988749894\n",
            "1.6180339887498951\n",
            "1.6180339887498947\n",
            "1.618033988749895\n",
            "1.618033988749895\n",
            "1.618033988749895\n",
            "1.618033988749895\n",
            "1.618033988749895\n",
            "1.618033988749895\n"
          ]
        }
      ],
      "source": [
        "def fibonacci(n):\n",
        "    if type(n) != int:\n",
        "      raise TypeError(\"The input should be integer\")\n",
        "    if n < 0:\n",
        "      raise TypeError(\"The input should be positive integer\")\n",
        "    if n == 1:\n",
        "      return 1\n",
        "    elif n == 2:\n",
        "      return 1\n",
        "    elif n > 2:\n",
        "      return fibonacci(n-1) + fibonacci(n-2)\n",
        "for n in range(1,51):\n",
        "  print(fibonacci (n+1) / fibonacci(n))"
      ]
    },
    {
      "cell_type": "code",
      "execution_count": null,
      "metadata": {
        "id": "h-6M_flYF1fJ"
      },
      "outputs": [],
      "source": [
        ""
      ]
    }
  ],
  "metadata": {
    "colab": {
      "name": "Logging, memoization.ipynb",
      "provenance": []
    },
    "kernelspec": {
      "display_name": "Python 3",
      "name": "python3"
    },
    "language_info": {
      "name": "python"
    }
  },
  "nbformat": 4,
  "nbformat_minor": 0
}