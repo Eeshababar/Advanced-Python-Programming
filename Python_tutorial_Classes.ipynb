{
  "nbformat": 4,
  "nbformat_minor": 0,
  "metadata": {
    "colab": {
      "provenance": []
    },
    "kernelspec": {
      "name": "python3",
      "display_name": "Python 3"
    },
    "language_info": {
      "name": "python"
    }
  },
  "cells": [
    {
      "cell_type": "markdown",
      "source": [
        "Classes are fundamental tool\n",
        "A template which helps to create objects of related data and\n",
        "Functions that do interested things with data\n"
      ],
      "metadata": {
        "id": "NeSqQUsGCVl7"
      }
    },
    {
      "cell_type": "code",
      "execution_count": null,
      "metadata": {
        "id": "rLHN8H-JCRP0"
      },
      "outputs": [],
      "source": [
        "class User: #class keyword and recommended to capitalize the name of Class\n",
        "  pass #one difining class needs atleast one line #doing nothing here"
      ]
    },
    {
      "cell_type": "code",
      "source": [
        "user1 = User()                           #user1 is instance of class User #user1 is object\n",
        "user1.first_name = \"Dave\"                #first_name and last_name are fields, associate data with object\n",
        "user1.last_name = \"Bowman\"\n",
        "print(user1.first_name) #user1 is object and first_name is a field "
      ],
      "metadata": {
        "colab": {
          "base_uri": "https://localhost:8080/"
        },
        "id": "IYszP0pXCuzb",
        "outputId": "a377d279-8810-49f9-bdb6-c1d1bfe94ebf"
      },
      "execution_count": null,
      "outputs": [
        {
          "output_type": "stream",
          "name": "stdout",
          "text": [
            "Dave\n"
          ]
        }
      ]
    },
    {
      "cell_type": "code",
      "source": [
        "print(user1.last_name)  #do not capitalize the field #separate the words by _"
      ],
      "metadata": {
        "colab": {
          "base_uri": "https://localhost:8080/"
        },
        "id": "Cl_4BdGuDOkC",
        "outputId": "d84af676-ece7-4c0a-fa05-94fd91bd67b3"
      },
      "execution_count": null,
      "outputs": [
        {
          "output_type": "stream",
          "name": "stdout",
          "text": [
            "Bowman\n"
          ]
        }
      ]
    },
    {
      "cell_type": "code",
      "source": [
        "first_name = \"Arthur\"     #first_name, last_name, standolne\n",
        "last_name = \"Clark\"\n",
        "print(first_name,last_name)\n",
        "\n"
      ],
      "metadata": {
        "colab": {
          "base_uri": "https://localhost:8080/"
        },
        "id": "PI7fSo4mDavR",
        "outputId": "13ddc8e2-7d42-475e-accd-167f8ea37980"
      },
      "execution_count": null,
      "outputs": [
        {
          "output_type": "stream",
          "name": "stdout",
          "text": [
            "Arthur Clark\n"
          ]
        }
      ]
    },
    {
      "cell_type": "code",
      "source": [
        "print(user1.first_name, user1.last_name)"
      ],
      "metadata": {
        "colab": {
          "base_uri": "https://localhost:8080/"
        },
        "id": "nP-MwaoUD1gS",
        "outputId": "b731f73c-33f6-4fca-e150-da45d73093a8"
      },
      "execution_count": null,
      "outputs": [
        {
          "output_type": "stream",
          "name": "stdout",
          "text": [
            "Dave Bowman\n"
          ]
        }
      ]
    },
    {
      "cell_type": "markdown",
      "source": [
        "#with classes their is no limit to objects number"
      ],
      "metadata": {
        "id": "r4KRXXX0EAZz"
      }
    },
    {
      "cell_type": "code",
      "source": [
        "user2 = User()                           #user1 is instance of class User\n",
        "user2.first_name = \"Frank\"\n",
        "user2.last_name = \"Pool\"\n",
        "print(user2.first_name) #user1 is object and first_name is a field"
      ],
      "metadata": {
        "colab": {
          "base_uri": "https://localhost:8080/"
        },
        "id": "pYryyAv4D8MY",
        "outputId": "1904dffc-ed0f-4c52-90fb-2e0f361c9cc1"
      },
      "execution_count": null,
      "outputs": [
        {
          "output_type": "stream",
          "name": "stdout",
          "text": [
            "Frank\n"
          ]
        }
      ]
    },
    {
      "cell_type": "code",
      "source": [
        "user1.age = 23 #field does not have to be strings\n",
        "user2.favourite_book = \"Kitaab\""
      ],
      "metadata": {
        "id": "-fbzK6epEPYV"
      },
      "execution_count": null,
      "outputs": []
    },
    {
      "cell_type": "code",
      "source": [
        "print(user1.age) #user2 does not have age"
      ],
      "metadata": {
        "colab": {
          "base_uri": "https://localhost:8080/"
        },
        "id": "Bz4AAfGzEeow",
        "outputId": "fc7fb7e3-fa1d-4df8-f925-ed2bb1bc6b35"
      },
      "execution_count": null,
      "outputs": [
        {
          "output_type": "stream",
          "name": "stdout",
          "text": [
            "23\n"
          ]
        }
      ]
    },
    {
      "cell_type": "code",
      "source": [
        "print(user2.age)"
      ],
      "metadata": {
        "colab": {
          "base_uri": "https://localhost:8080/",
          "height": 172
        },
        "id": "3eD9xFu9Egx_",
        "outputId": "0cea57e0-410a-49ab-c531-cbe81c7e5850"
      },
      "execution_count": null,
      "outputs": [
        {
          "output_type": "error",
          "ename": "AttributeError",
          "evalue": "ignored",
          "traceback": [
            "\u001b[0;31m---------------------------------------------------------------------------\u001b[0m",
            "\u001b[0;31mAttributeError\u001b[0m                            Traceback (most recent call last)",
            "\u001b[0;32m<ipython-input-11-70a04e80a25b>\u001b[0m in \u001b[0;36m<module>\u001b[0;34m\u001b[0m\n\u001b[0;32m----> 1\u001b[0;31m \u001b[0mprint\u001b[0m\u001b[0;34m(\u001b[0m\u001b[0muser2\u001b[0m\u001b[0;34m.\u001b[0m\u001b[0mage\u001b[0m\u001b[0;34m)\u001b[0m\u001b[0;34m\u001b[0m\u001b[0;34m\u001b[0m\u001b[0m\n\u001b[0m",
            "\u001b[0;31mAttributeError\u001b[0m: 'User' object has no attribute 'age'"
          ]
        }
      ]
    },
    {
      "cell_type": "markdown",
      "source": [
        "Methods (Additionally feature of classes)"
      ],
      "metadata": {
        "id": "1XENDBRpEwrN"
      }
    },
    {
      "cell_type": "code",
      "source": [
        "class User:\n",
        "    def __init__(self, full_name, birthday): #init method, short of initialization #called when make new instance of class\n",
        "\n",
        "      self.name = full_name                                    #store full_name in field name\n",
        "                                                                #store value birthday in birthday field\n",
        "      self.birthday = birthday ##yyyymmd\n",
        "      #Extract first and last name\n",
        "      name_pieces = full_name.split(\" \")\n",
        "      self.first_name = name_pieces[0]\n",
        "      last_name = name_pieces[-1]\n"
      ],
      "metadata": {
        "id": "m2kWLnsTEuqJ"
      },
      "execution_count": null,
      "outputs": []
    },
    {
      "cell_type": "code",
      "source": [
        "user = User(\"Dave Bowman\" , \"19790312\")\n",
        "print(user.name)\n",
        "print(user.birthday)"
      ],
      "metadata": {
        "colab": {
          "base_uri": "https://localhost:8080/"
        },
        "id": "FYcUO2OdFoXJ",
        "outputId": "63afd40d-7819-4ad9-884e-ac48bbf9ecf3"
      },
      "execution_count": null,
      "outputs": [
        {
          "output_type": "stream",
          "name": "stdout",
          "text": [
            "Dave Bowman\n",
            "19790312\n"
          ]
        }
      ]
    },
    {
      "cell_type": "code",
      "source": [
        "print(user.name)\n",
        "print(user.first_name)\n",
        "print(user.last_name)   #since self is not with lastname #did not attach the last_name to object\n",
        "print(user.birthday)  #attribute error with last name"
      ],
      "metadata": {
        "colab": {
          "base_uri": "https://localhost:8080/",
          "height": 264
        },
        "id": "WEmGf-tpGcs5",
        "outputId": "fb94d367-b9f3-49a2-d4e3-e088a3ad0073"
      },
      "execution_count": null,
      "outputs": [
        {
          "output_type": "stream",
          "name": "stdout",
          "text": [
            "Dave Bowman\n",
            "Dave\n"
          ]
        },
        {
          "output_type": "error",
          "ename": "AttributeError",
          "evalue": "ignored",
          "traceback": [
            "\u001b[0;31m---------------------------------------------------------------------------\u001b[0m",
            "\u001b[0;31mAttributeError\u001b[0m                            Traceback (most recent call last)",
            "\u001b[0;32m<ipython-input-17-420c00c2042a>\u001b[0m in \u001b[0;36m<module>\u001b[0;34m\u001b[0m\n\u001b[1;32m      1\u001b[0m \u001b[0mprint\u001b[0m\u001b[0;34m(\u001b[0m\u001b[0muser\u001b[0m\u001b[0;34m.\u001b[0m\u001b[0mname\u001b[0m\u001b[0;34m)\u001b[0m\u001b[0;34m\u001b[0m\u001b[0;34m\u001b[0m\u001b[0m\n\u001b[1;32m      2\u001b[0m \u001b[0mprint\u001b[0m\u001b[0;34m(\u001b[0m\u001b[0muser\u001b[0m\u001b[0;34m.\u001b[0m\u001b[0mfirst_name\u001b[0m\u001b[0;34m)\u001b[0m\u001b[0;34m\u001b[0m\u001b[0;34m\u001b[0m\u001b[0m\n\u001b[0;32m----> 3\u001b[0;31m \u001b[0mprint\u001b[0m\u001b[0;34m(\u001b[0m\u001b[0muser\u001b[0m\u001b[0;34m.\u001b[0m\u001b[0mlast_name\u001b[0m\u001b[0;34m)\u001b[0m\u001b[0;34m\u001b[0m\u001b[0;34m\u001b[0m\u001b[0m\n\u001b[0m\u001b[1;32m      4\u001b[0m \u001b[0mprint\u001b[0m\u001b[0;34m(\u001b[0m\u001b[0muser\u001b[0m\u001b[0;34m.\u001b[0m\u001b[0mbirthday\u001b[0m\u001b[0;34m)\u001b[0m\u001b[0;34m\u001b[0m\u001b[0;34m\u001b[0m\u001b[0m\n",
            "\u001b[0;31mAttributeError\u001b[0m: 'User' object has no attribute 'last_name'"
          ]
        }
      ]
    },
    {
      "cell_type": "code",
      "source": [
        "class User:\n",
        "    def __init__(self, full_name, birthday):\n",
        "      self.name = full_name\n",
        "      self.birthday = birthday ##yyyymmd\n",
        "      #Extract first and last name\n",
        "      name_pieces = full_name.split(\" \")\n",
        "      self.first_name = name_pieces[0]\n",
        "      self.last_name = name_pieces[-1]"
      ],
      "metadata": {
        "id": "pdI3Kz4iHOJq"
      },
      "execution_count": null,
      "outputs": []
    },
    {
      "cell_type": "code",
      "source": [
        "user = User(\"Dave Bowman\" , \"19790312\")\n",
        "print(user.name)\n",
        "print(user.birthday)"
      ],
      "metadata": {
        "colab": {
          "base_uri": "https://localhost:8080/"
        },
        "id": "WN-2b96FHYdL",
        "outputId": "0e78a9ec-923d-4cd3-e1d1-729cc2b9bf34"
      },
      "execution_count": null,
      "outputs": [
        {
          "output_type": "stream",
          "name": "stdout",
          "text": [
            "Dave Bowman\n",
            "19790312\n"
          ]
        }
      ]
    },
    {
      "cell_type": "code",
      "source": [
        "print(user.name)\n",
        "print(user.first_name)\n",
        "print(user.last_name)\n",
        "print(user.birthday)"
      ],
      "metadata": {
        "colab": {
          "base_uri": "https://localhost:8080/"
        },
        "id": "msS5Fzr1Hbnp",
        "outputId": "eb8e4599-3174-4bb9-ee3e-1c093080e327"
      },
      "execution_count": null,
      "outputs": [
        {
          "output_type": "stream",
          "name": "stdout",
          "text": [
            "Dave Bowman\n",
            "Dave\n",
            "Bowman\n",
            "19790312\n"
          ]
        }
      ]
    },
    {
      "cell_type": "code",
      "source": [
        "class User:\n",
        "      \"\"\" A doctring explaining class having fullname and birthday\"\"\"  #please be careful of identation #Add help text \n",
        "      def __init__(self, full_name, birthday):                          #def and \"\"\" should have same identation\n",
        "          self.name = full_name\n",
        "          self.birthday = birthday ##yyyymmd\n",
        "          #Extract first and last name \n",
        "          name_pieces = full_name.split(\" \")\n",
        "          self.first_name = name_pieces[0] \n",
        "          self.last_name = name_pieces[-1]"
      ],
      "metadata": {
        "id": "fR951B0eHeVB"
      },
      "execution_count": null,
      "outputs": []
    },
    {
      "cell_type": "code",
      "source": [
        "help(User)"
      ],
      "metadata": {
        "colab": {
          "base_uri": "https://localhost:8080/"
        },
        "id": "cLCeWqhmILyH",
        "outputId": "0000eb26-74bf-4c59-ce6c-af134f87ffb5"
      },
      "execution_count": null,
      "outputs": [
        {
          "output_type": "stream",
          "name": "stdout",
          "text": [
            "Help on class User in module __main__:\n",
            "\n",
            "class User(builtins.object)\n",
            " |  User(full_name, birthday)\n",
            " |  \n",
            " |  A doctring explaining class having fullname and birthday\n",
            " |  \n",
            " |  Methods defined here:\n",
            " |  \n",
            " |  __init__(self, full_name, birthday)\n",
            " |      Initialize self.  See help(type(self)) for accurate signature.\n",
            " |  \n",
            " |  ----------------------------------------------------------------------\n",
            " |  Data descriptors defined here:\n",
            " |  \n",
            " |  __dict__\n",
            " |      dictionary for instance variables (if defined)\n",
            " |  \n",
            " |  __weakref__\n",
            " |      list of weak references to the object (if defined)\n",
            "\n"
          ]
        }
      ]
    },
    {
      "cell_type": "code",
      "source": [
        "import datetime\n",
        "class User:\n",
        "      \"\"\" A doctring explaining class having fullname and birthday\"\"\"  #please be careful of identation\n",
        "      def __init__(self, full_name, birthday):   \n",
        "          self.name = full_name\n",
        "          self.birthday = birthday ##yyyymmd\n",
        "          #Extract first and last name \n",
        "          name_pieces = full_name.split(\" \")\n",
        "          self.first_name = name_pieces[0] \n",
        "          self.last_name = name_pieces[-1]\n",
        "      def age(self):                               #another method\n",
        "          \"\"\" Compute age of user\"\"\"\n",
        "          today = datetime.date(2015,1,2)\n",
        "          yyyy = int(self.birthday[0:4])\n",
        "          mm = int(self.birthday[4:6])\n",
        "          dd = int(self.birthday[6:8])\n",
        "          dob = datetime.date(yyyy,mm,dd)\n",
        "          age_in_days = (today-dob).days #time delta object\n",
        "          age_in_years = age_in_days/365\n",
        "          return int(age_in_years)"
      ],
      "metadata": {
        "id": "0K2oS3NSISF2"
      },
      "execution_count": null,
      "outputs": []
    },
    {
      "cell_type": "code",
      "source": [
        "user = User(\"Dave Bowman\" , \"19790312\")\n",
        "print(user.age()) #self keyboard only used when writing a method"
      ],
      "metadata": {
        "colab": {
          "base_uri": "https://localhost:8080/"
        },
        "id": "dIm_mlZ9LPtK",
        "outputId": "6a8ee4d5-e809-4350-9cb3-034b6aa87ad4"
      },
      "execution_count": null,
      "outputs": [
        {
          "output_type": "stream",
          "name": "stdout",
          "text": [
            "35\n"
          ]
        }
      ]
    },
    {
      "cell_type": "code",
      "source": [
        "help(User)"
      ],
      "metadata": {
        "colab": {
          "base_uri": "https://localhost:8080/"
        },
        "id": "zQiRiIzeLf5s",
        "outputId": "b02f397c-8e68-4116-808c-2106c7a43847"
      },
      "execution_count": null,
      "outputs": [
        {
          "output_type": "stream",
          "name": "stdout",
          "text": [
            "Help on class User in module __main__:\n",
            "\n",
            "class User(builtins.object)\n",
            " |  User(full_name, birthday)\n",
            " |  \n",
            " |  A doctring explaining class having fullname and birthday\n",
            " |  \n",
            " |  Methods defined here:\n",
            " |  \n",
            " |  __init__(self, full_name, birthday)\n",
            " |      Initialize self.  See help(type(self)) for accurate signature.\n",
            " |  \n",
            " |  age(self)\n",
            " |      Compute age of user\n",
            " |  \n",
            " |  ----------------------------------------------------------------------\n",
            " |  Data descriptors defined here:\n",
            " |  \n",
            " |  __dict__\n",
            " |      dictionary for instance variables (if defined)\n",
            " |  \n",
            " |  __weakref__\n",
            " |      list of weak references to the object (if defined)\n",
            "\n"
          ]
        }
      ]
    },
    {
      "cell_type": "markdown",
      "source": [
        "Classes empowers us to group together data which called fields\n",
        "And related functions called methods and in a fuctory which we called instances"
      ],
      "metadata": {
        "id": "qBjCASc9OBRH"
      }
    },
    {
      "cell_type": "code",
      "source": [],
      "metadata": {
        "id": "1F8-gANPLmXk"
      },
      "execution_count": null,
      "outputs": []
    }
  ]
}