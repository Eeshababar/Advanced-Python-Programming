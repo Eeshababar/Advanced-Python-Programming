{
  "nbformat": 4,
  "nbformat_minor": 0,
  "metadata": {
    "colab": {
      "name": "List_Comprehension.ipynb",
      "provenance": []
    },
    "kernelspec": {
      "name": "python3",
      "display_name": "Python 3"
    },
    "language_info": {
      "name": "python"
    }
  },
  "cells": [
    {
      "cell_type": "code",
      "execution_count": 2,
      "metadata": {
        "colab": {
          "base_uri": "https://localhost:8080/"
        },
        "id": "nFssG3EYTHWF",
        "outputId": "4c0c853d-a953-4539-fbd8-fc865d630875"
      },
      "outputs": [
        {
          "output_type": "stream",
          "name": "stdout",
          "text": [
            "[1, 4, 9, 16, 25, 36, 49, 64, 81, 100, 121, 144, 169, 196, 225, 256, 289, 324, 361, 400, 441, 484, 529, 576, 625, 676, 729, 784, 841, 900, 961, 1024, 1089, 1156, 1225, 1296, 1369, 1444, 1521, 1600, 1681, 1764, 1849, 1936, 2025, 2116, 2209, 2304, 2401, 2500, 2601, 2704, 2809, 2916, 3025, 3136, 3249, 3364, 3481, 3600, 3721, 3844, 3969, 4096, 4225, 4356, 4489, 4624, 4761, 4900, 5041, 5184, 5329, 5476, 5625, 5776, 5929, 6084, 6241, 6400, 6561, 6724, 6889, 7056, 7225, 7396, 7569, 7744, 7921, 8100, 8281, 8464, 8649, 8836, 9025, 9216, 9409, 9604, 9801, 10000]\n"
          ]
        }
      ],
      "source": [
        "squares = []\n",
        "for i in range(1, 101):\n",
        "  squares.append(i**2)\n",
        "print(squares)"
      ]
    },
    {
      "cell_type": "code",
      "source": [
        "squares2 = [i**2 for i in range(1,101)]\n",
        "print(squares2)"
      ],
      "metadata": {
        "colab": {
          "base_uri": "https://localhost:8080/"
        },
        "id": "Kr0NFeCRTkPe",
        "outputId": "31b8a5be-bf75-47ca-b936-85d9a2a9d71d"
      },
      "execution_count": 4,
      "outputs": [
        {
          "output_type": "stream",
          "name": "stdout",
          "text": [
            "[1, 4, 9, 16, 25, 36, 49, 64, 81, 100, 121, 144, 169, 196, 225, 256, 289, 324, 361, 400, 441, 484, 529, 576, 625, 676, 729, 784, 841, 900, 961, 1024, 1089, 1156, 1225, 1296, 1369, 1444, 1521, 1600, 1681, 1764, 1849, 1936, 2025, 2116, 2209, 2304, 2401, 2500, 2601, 2704, 2809, 2916, 3025, 3136, 3249, 3364, 3481, 3600, 3721, 3844, 3969, 4096, 4225, 4356, 4489, 4624, 4761, 4900, 5041, 5184, 5329, 5476, 5625, 5776, 5929, 6084, 6241, 6400, 6561, 6724, 6889, 7056, 7225, 7396, 7569, 7744, 7921, 8100, 8281, 8464, 8649, 8836, 9025, 9216, 9409, 9604, 9801, 10000]\n"
          ]
        }
      ]
    },
    {
      "cell_type": "code",
      "source": [
        "squares3 = [i**2 % 5 for i in range(1,101)] #only 3 perfect squares mod5\n",
        "print(squares3)"
      ],
      "metadata": {
        "colab": {
          "base_uri": "https://localhost:8080/"
        },
        "id": "HFjHAoTITwqh",
        "outputId": "3ca10eba-df2b-4d2f-95cb-8741455551c8"
      },
      "execution_count": 7,
      "outputs": [
        {
          "output_type": "stream",
          "name": "stdout",
          "text": [
            "[1, 4, 4, 1, 0, 1, 4, 4, 1, 0, 1, 4, 4, 1, 0, 1, 4, 4, 1, 0, 1, 4, 4, 1, 0, 1, 4, 4, 1, 0, 1, 4, 4, 1, 0, 1, 4, 4, 1, 0, 1, 4, 4, 1, 0, 1, 4, 4, 1, 0, 1, 4, 4, 1, 0, 1, 4, 4, 1, 0, 1, 4, 4, 1, 0, 1, 4, 4, 1, 0, 1, 4, 4, 1, 0, 1, 4, 4, 1, 0, 1, 4, 4, 1, 0, 1, 4, 4, 1, 0, 1, 4, 4, 1, 0, 1, 4, 4, 1, 0]\n"
          ]
        }
      ]
    },
    {
      "cell_type": "code",
      "source": [
        "squares4 = [i**2 % 11 for i in range(1,101)]  #0,1,4,5,9,3\n",
        "print(squares4)"
      ],
      "metadata": {
        "colab": {
          "base_uri": "https://localhost:8080/"
        },
        "id": "eapjWTI4T9tz",
        "outputId": "db90c0d6-7052-4dd7-e5c1-50a4ab3f9e33"
      },
      "execution_count": 9,
      "outputs": [
        {
          "output_type": "stream",
          "name": "stdout",
          "text": [
            "[1, 4, 9, 5, 3, 3, 5, 9, 4, 1, 0, 1, 4, 9, 5, 3, 3, 5, 9, 4, 1, 0, 1, 4, 9, 5, 3, 3, 5, 9, 4, 1, 0, 1, 4, 9, 5, 3, 3, 5, 9, 4, 1, 0, 1, 4, 9, 5, 3, 3, 5, 9, 4, 1, 0, 1, 4, 9, 5, 3, 3, 5, 9, 4, 1, 0, 1, 4, 9, 5, 3, 3, 5, 9, 4, 1, 0, 1, 4, 9, 5, 3, 3, 5, 9, 4, 1, 0, 1, 4, 9, 5, 3, 3, 5, 9, 4, 1, 0, 1]\n"
          ]
        }
      ]
    },
    {
      "cell_type": "code",
      "source": [
        "squares5 = [i**2 % 11 for i in range(1,11)] \n",
        "print(squares5)"
      ],
      "metadata": {
        "colab": {
          "base_uri": "https://localhost:8080/"
        },
        "id": "lGgKgzExUU-U",
        "outputId": "3091b827-e450-44f5-833e-af9287597280"
      },
      "execution_count": 11,
      "outputs": [
        {
          "output_type": "stream",
          "name": "stdout",
          "text": [
            "[1, 4, 9, 5, 3, 3, 5, 9, 4, 1]\n"
          ]
        }
      ]
    },
    {
      "cell_type": "code",
      "source": [
        "len(squares5)"
      ],
      "metadata": {
        "colab": {
          "base_uri": "https://localhost:8080/"
        },
        "id": "O_MEsyNcUlgM",
        "outputId": "46db6a95-e35c-4893-a04e-42a09617b8cc"
      },
      "execution_count": 12,
      "outputs": [
        {
          "output_type": "execute_result",
          "data": {
            "text/plain": [
              "10"
            ]
          },
          "metadata": {},
          "execution_count": 12
        }
      ]
    },
    {
      "cell_type": "code",
      "source": [
        "movies = [\"Goat\", \"Harry_Potter\", \"Narnia\", \"Genuine\"]\n",
        "gmovies = []\n",
        "for movie in movies:\n",
        "  if movie.startswith(\"G\"):\n",
        "   gmovies.append(movie)\n",
        "print(gmovies)"
      ],
      "metadata": {
        "colab": {
          "base_uri": "https://localhost:8080/"
        },
        "id": "MN7dSMB2VHym",
        "outputId": "631197b0-ea87-4879-ac89-7c17679f1b7c"
      },
      "execution_count": 15,
      "outputs": [
        {
          "output_type": "stream",
          "name": "stdout",
          "text": [
            "['Goat', 'Genuine']\n"
          ]
        }
      ]
    },
    {
      "cell_type": "code",
      "source": [
        "gmovies = [movie for movie in movies if movie.startswith(\"G\")] #List Comprehension\n",
        "print(gmovies)"
      ],
      "metadata": {
        "colab": {
          "base_uri": "https://localhost:8080/"
        },
        "id": "8B59QnUCV-rl",
        "outputId": "854907ee-c4f7-4270-aa04-928c58d065d0"
      },
      "execution_count": 17,
      "outputs": [
        {
          "output_type": "stream",
          "name": "stdout",
          "text": [
            "['Goat', 'Genuine']\n"
          ]
        }
      ]
    },
    {
      "cell_type": "code",
      "source": [
        "movies = [(\"Goat\", 1941), (\"Harry_Potter\", 2003), (\"Narnia\", 1998), (\"Genuine\", 1991)] #Movies Year\n",
        "moviesyear = [movie for (movie,year) in movies if year < 2000]\n",
        "print(moviesyear)"
      ],
      "metadata": {
        "colab": {
          "base_uri": "https://localhost:8080/"
        },
        "id": "xR-e74saWf-L",
        "outputId": "3c0670b0-fb95-4f20-e8da-e12b0e15908f"
      },
      "execution_count": 20,
      "outputs": [
        {
          "output_type": "stream",
          "name": "stdout",
          "text": [
            "['Goat', 'Narnia', 'Genuine']\n"
          ]
        }
      ]
    },
    {
      "cell_type": "code",
      "source": [
        "v = [2,3,-2] #vector\n",
        "4*v  #concatenation not multiple by 4"
      ],
      "metadata": {
        "colab": {
          "base_uri": "https://localhost:8080/"
        },
        "id": "S7U2DC8_XJy8",
        "outputId": "2ab3f219-e222-48a1-ccc4-98c8f15b8cfe"
      },
      "execution_count": 21,
      "outputs": [
        {
          "output_type": "execute_result",
          "data": {
            "text/plain": [
              "[2, 3, -2, 2, 3, -2, 2, 3, -2, 2, 3, -2]"
            ]
          },
          "metadata": {},
          "execution_count": 21
        }
      ]
    },
    {
      "cell_type": "code",
      "source": [
        "w = [4*x for x in v]\n",
        "print(w)"
      ],
      "metadata": {
        "colab": {
          "base_uri": "https://localhost:8080/"
        },
        "id": "-EulPfbGXYqW",
        "outputId": "d9af31cf-f37e-424e-bd73-50abe5b94de7"
      },
      "execution_count": 23,
      "outputs": [
        {
          "output_type": "stream",
          "name": "stdout",
          "text": [
            "[8, 12, -8]\n"
          ]
        }
      ]
    },
    {
      "cell_type": "markdown",
      "source": [
        "#Cartesian Product"
      ],
      "metadata": {
        "id": "aRqk7_0yXpi1"
      }
    },
    {
      "cell_type": "code",
      "source": [
        "A = [1,3,5,7]\n",
        "B = [2,4,6,8]\n",
        "cartesian_product = [(a,b) for a in A for b in B] #16 possible combination\n",
        "print(cartesian_product)"
      ],
      "metadata": {
        "colab": {
          "base_uri": "https://localhost:8080/"
        },
        "id": "rjg_z1pdXjHh",
        "outputId": "1c7fe9d2-66d8-488d-c613-3af0bb11f887"
      },
      "execution_count": 24,
      "outputs": [
        {
          "output_type": "stream",
          "name": "stdout",
          "text": [
            "[(1, 2), (1, 4), (1, 6), (1, 8), (3, 2), (3, 4), (3, 6), (3, 8), (5, 2), (5, 4), (5, 6), (5, 8), (7, 2), (7, 4), (7, 6), (7, 8)]\n"
          ]
        }
      ]
    },
    {
      "cell_type": "markdown",
      "source": [
        "#Prime Number, 1 is neither prime nor composite"
      ],
      "metadata": {
        "id": "E5jHwJWiaCtG"
      }
    },
    {
      "cell_type": "code",
      "source": [
        "def is_prime_V1(n):\n",
        "  \"\"\" Return True if n is a prime number, False otherwise\"\"\"\n",
        "  if n == 1:\n",
        "    return False\n",
        "  for d in range(2,n):\n",
        "    if (n%d == 0):\n",
        "      return False\n",
        "  return True\n",
        "for n in range(1,21):\n",
        "  print(n,is_prime_V1(n))"
      ],
      "metadata": {
        "colab": {
          "base_uri": "https://localhost:8080/"
        },
        "id": "DS3iKMffYDzg",
        "outputId": "04483391-e354-4c00-9a9f-ae9a1a0bf06f"
      },
      "execution_count": 25,
      "outputs": [
        {
          "output_type": "stream",
          "name": "stdout",
          "text": [
            "1 False\n",
            "2 True\n",
            "3 True\n",
            "4 False\n",
            "5 True\n",
            "6 False\n",
            "7 True\n",
            "8 False\n",
            "9 False\n",
            "10 False\n",
            "11 True\n",
            "12 False\n",
            "13 True\n",
            "14 False\n",
            "15 False\n",
            "16 False\n",
            "17 True\n",
            "18 False\n",
            "19 True\n",
            "20 False\n"
          ]
        }
      ]
    },
    {
      "cell_type": "code",
      "source": [
        "import time\n",
        "def is_prime_V1(n):\n",
        "  \"\"\" Return True if n is a prime number, False otherwise\"\"\"\n",
        "  if n == 1:\n",
        "    return False\n",
        "  for d in range(2,n):\n",
        "    if (n%d == 0):\n",
        "      return False\n",
        "  return True\n",
        "for n in range(1,21):\n",
        "  print(n,is_prime_V1(n))\n",
        "t0 = time.time()\n",
        "for n in range(1,100000):\n",
        "  is_prime_V1(n)\n",
        "t1 = time.time()\n",
        "print(\"Time required\" ,  t1-t0)\n"
      ],
      "metadata": {
        "colab": {
          "base_uri": "https://localhost:8080/"
        },
        "id": "A_WNGc2ebB0l",
        "outputId": "6a36abd2-9929-40f9-98e8-996fd70b4636"
      },
      "execution_count": 27,
      "outputs": [
        {
          "output_type": "stream",
          "name": "stdout",
          "text": [
            "1 False\n",
            "2 True\n",
            "3 True\n",
            "4 False\n",
            "5 True\n",
            "6 False\n",
            "7 True\n",
            "8 False\n",
            "9 False\n",
            "10 False\n",
            "11 True\n",
            "12 False\n",
            "13 True\n",
            "14 False\n",
            "15 False\n",
            "16 False\n",
            "17 True\n",
            "18 False\n",
            "19 True\n",
            "20 False\n",
            "Time required 39.74717330932617\n"
          ]
        }
      ]
    },
    {
      "cell_type": "code",
      "source": [
        "import math\n",
        "def is_prime_V2(n):\n",
        "  \"\"\" Return True if n is a prime number, False otherwise\"\"\"\n",
        "  if n == 1:\n",
        "    return False\n",
        "  max_divisor = math.floor(math.sqrt(n))\n",
        "  for d in range(2,1+ max_divisor):\n",
        "    if (n%d == 0):\n",
        "      return False\n",
        "  return True\n",
        "\n",
        "t0 = time.time()\n",
        "for n in range(1,100000):\n",
        "  is_prime_V2(n)\n",
        "t1 = time.time()\n",
        "print(\"Time required\" ,  t1-t0) #much better"
      ],
      "metadata": {
        "colab": {
          "base_uri": "https://localhost:8080/"
        },
        "id": "M4Ev4IGubwRs",
        "outputId": "b29dcf21-90ac-410a-ebba-4bb0ba1ecede"
      },
      "execution_count": 30,
      "outputs": [
        {
          "output_type": "stream",
          "name": "stdout",
          "text": [
            "Time required 0.25902557373046875\n"
          ]
        }
      ]
    },
    {
      "cell_type": "code",
      "source": [
        "import math\n",
        "def is_prime_V3(n):\n",
        "  \"\"\" Return True if n is a prime number, False otherwise\"\"\"\n",
        "  if n == 1:\n",
        "    return False\n",
        "  if n == 2:\n",
        "    return True\n",
        "  if n > 2 and n % 2 == 0:\n",
        "    return False\n",
        "  max_divisor = math.floor(math.sqrt(n))\n",
        "  for d in range(3,1+ max_divisor,2):\n",
        "    if (n%d == 0):\n",
        "      return False\n",
        "  return True\n",
        "\n",
        "t0 = time.time()\n",
        "for n in range(1,100000):\n",
        "  is_prime_V3(n)\n",
        "t1 = time.time()\n",
        "print(\"Time required\" ,  t1-t0) #much better"
      ],
      "metadata": {
        "colab": {
          "base_uri": "https://localhost:8080/"
        },
        "id": "S1wvldJhdDKi",
        "outputId": "88f8d52b-1810-4530-f511-6da677d52770"
      },
      "execution_count": 32,
      "outputs": [
        {
          "output_type": "stream",
          "name": "stdout",
          "text": [
            "Time required 0.14493823051452637\n"
          ]
        }
      ]
    },
    {
      "cell_type": "code",
      "source": [
        ""
      ],
      "metadata": {
        "id": "jzPtIR-Jfstp"
      },
      "execution_count": null,
      "outputs": []
    }
  ]
}