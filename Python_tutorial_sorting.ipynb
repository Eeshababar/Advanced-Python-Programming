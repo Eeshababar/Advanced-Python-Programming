{
  "nbformat": 4,
  "nbformat_minor": 0,
  "metadata": {
    "colab": {
      "name": "Python tutorial sorting.ipynb",
      "provenance": []
    },
    "kernelspec": {
      "name": "python3",
      "display_name": "Python 3"
    },
    "language_info": {
      "name": "python"
    }
  },
  "cells": [
    {
      "cell_type": "code",
      "execution_count": 1,
      "metadata": {
        "id": "ea6ZjDKTLguK"
      },
      "outputs": [],
      "source": [
        "Alkaline_earth_metals = [\"Beryllium\", \"Magnesium\" , \"Calcium\", \"Strontium\" , \"Barium\" , \"Radium\"]"
      ]
    },
    {
      "cell_type": "code",
      "source": [
        "Alkaline_earth_metals.sort()"
      ],
      "metadata": {
        "id": "kvJJKGQmMNK9"
      },
      "execution_count": 2,
      "outputs": []
    },
    {
      "cell_type": "code",
      "source": [
        "Alkaline_earth_metals #Ascending order"
      ],
      "metadata": {
        "colab": {
          "base_uri": "https://localhost:8080/"
        },
        "id": "ldezFKeSMRjr",
        "outputId": "cb1de7d1-f3f2-4c57-fdd3-df556318aea3"
      },
      "execution_count": 4,
      "outputs": [
        {
          "output_type": "execute_result",
          "data": {
            "text/plain": [
              "['Barium', 'Beryllium', 'Calcium', 'Magnesium', 'Radium', 'Strontium']"
            ]
          },
          "metadata": {},
          "execution_count": 4
        }
      ]
    },
    {
      "cell_type": "code",
      "source": [
        "Alkaline_earth_metals.sort(reverse=True)"
      ],
      "metadata": {
        "id": "O4lpCc7PMTqa"
      },
      "execution_count": 5,
      "outputs": []
    },
    {
      "cell_type": "code",
      "source": [
        "Alkaline_earth_metals"
      ],
      "metadata": {
        "colab": {
          "base_uri": "https://localhost:8080/"
        },
        "id": "2VILJr6mMoRz",
        "outputId": "2bb36c50-802f-47f3-b4de-1201a0a2d668"
      },
      "execution_count": 6,
      "outputs": [
        {
          "output_type": "execute_result",
          "data": {
            "text/plain": [
              "['Strontium', 'Radium', 'Magnesium', 'Calcium', 'Beryllium', 'Barium']"
            ]
          },
          "metadata": {},
          "execution_count": 6
        }
      ]
    },
    {
      "cell_type": "code",
      "source": [
        "earth_metal = (\"Beryllium\", \"Magnesium\" , \"Calcium\", \"Strontium\" , \"Barium\" , \"Radium\")"
      ],
      "metadata": {
        "id": "JPXRPbzrMsDb"
      },
      "execution_count": 7,
      "outputs": []
    },
    {
      "cell_type": "code",
      "source": [
        "earth_metal.sort() #Tuple immutable cant be changed"
      ],
      "metadata": {
        "colab": {
          "base_uri": "https://localhost:8080/",
          "height": 172
        },
        "id": "PQPCmm0yMzvT",
        "outputId": "3062ae55-7d81-46c0-c88a-bcb67ac4bdbb"
      },
      "execution_count": 8,
      "outputs": [
        {
          "output_type": "error",
          "ename": "AttributeError",
          "evalue": "ignored",
          "traceback": [
            "\u001b[0;31m---------------------------------------------------------------------------\u001b[0m",
            "\u001b[0;31mAttributeError\u001b[0m                            Traceback (most recent call last)",
            "\u001b[0;32m<ipython-input-8-4f3c1b064cc9>\u001b[0m in \u001b[0;36m<module>\u001b[0;34m\u001b[0m\n\u001b[0;32m----> 1\u001b[0;31m \u001b[0mearth_metal\u001b[0m\u001b[0;34m.\u001b[0m\u001b[0msort\u001b[0m\u001b[0;34m(\u001b[0m\u001b[0;34m)\u001b[0m\u001b[0;34m\u001b[0m\u001b[0;34m\u001b[0m\u001b[0m\n\u001b[0m",
            "\u001b[0;31mAttributeError\u001b[0m: 'tuple' object has no attribute 'sort'"
          ]
        }
      ]
    },
    {
      "cell_type": "code",
      "source": [
        "help(list.sort) #changes list itself"
      ],
      "metadata": {
        "colab": {
          "base_uri": "https://localhost:8080/"
        },
        "id": "QEBj_DlcM4ap",
        "outputId": "da80f016-3f9d-487d-a721-8137d54722e1"
      },
      "execution_count": 9,
      "outputs": [
        {
          "output_type": "stream",
          "name": "stdout",
          "text": [
            "Help on method_descriptor:\n",
            "\n",
            "sort(self, /, *, key=None, reverse=False)\n",
            "    Stable sort *IN PLACE*.\n",
            "\n"
          ]
        }
      ]
    },
    {
      "cell_type": "code",
      "source": [
        "Planets = [(\"Mercury\", 2440, 9.1, 2), (\"Venus\", 3310, 9.8, 3), (\"Earth\" , 2100, 13, 1), (\"Mars\" , 2300, 15, 2.0)]"
      ],
      "metadata": {
        "id": "bI45FZXzNCY6"
      },
      "execution_count": 10,
      "outputs": []
    },
    {
      "cell_type": "code",
      "source": [
        "size = lambda planet : planet[1]\n",
        "Planets.sort(key=size, reverse = True) #Arranged by second element, radius"
      ],
      "metadata": {
        "id": "zlTehMcjN1et"
      },
      "execution_count": 13,
      "outputs": []
    },
    {
      "cell_type": "code",
      "source": [
        "Planets"
      ],
      "metadata": {
        "colab": {
          "base_uri": "https://localhost:8080/"
        },
        "id": "pJbXCi9rONf6",
        "outputId": "22b87b22-9310-4eaf-e572-f9c0440f614c"
      },
      "execution_count": 12,
      "outputs": [
        {
          "output_type": "execute_result",
          "data": {
            "text/plain": [
              "[('Venus', 3310, 9.8, 3),\n",
              " ('Mercury', 2440, 9.1, 2),\n",
              " ('Mars', 2300, 15, 2.0),\n",
              " ('Earth', 2100, 13, 1)]"
            ]
          },
          "metadata": {},
          "execution_count": 12
        }
      ]
    },
    {
      "cell_type": "code",
      "source": [
        "density = lambda planet : planet[2]\n",
        "Planets.sort(key=density, reverse = True)\n",
        "Planets #sorted by second element\n"
      ],
      "metadata": {
        "colab": {
          "base_uri": "https://localhost:8080/"
        },
        "id": "31dNiXrkOQB2",
        "outputId": "8ed3bb69-32ec-4d92-fa4d-d47a980fbd9b"
      },
      "execution_count": 16,
      "outputs": [
        {
          "output_type": "execute_result",
          "data": {
            "text/plain": [
              "[('Mars', 2300, 15, 2.0),\n",
              " ('Earth', 2100, 13, 1),\n",
              " ('Venus', 3310, 9.8, 3),\n",
              " ('Mercury', 2440, 9.1, 2)]"
            ]
          },
          "metadata": {},
          "execution_count": 16
        }
      ]
    },
    {
      "cell_type": "code",
      "source": [
        "help(sorted) #list, tuple, or any iterable"
      ],
      "metadata": {
        "colab": {
          "base_uri": "https://localhost:8080/"
        },
        "id": "zvg6XRcLOiqq",
        "outputId": "f9fdd7f3-6596-45ef-853c-e8dcbb972022"
      },
      "execution_count": 18,
      "outputs": [
        {
          "output_type": "stream",
          "name": "stdout",
          "text": [
            "Help on built-in function sorted in module builtins:\n",
            "\n",
            "sorted(iterable, /, *, key=None, reverse=False)\n",
            "    Return a new list containing all items from the iterable in ascending order.\n",
            "    \n",
            "    A custom key function can be supplied to customize the sort order, and the\n",
            "    reverse flag can be set to request the result in descending order.\n",
            "\n"
          ]
        }
      ]
    },
    {
      "cell_type": "code",
      "source": [
        "Alkaline_earth_metals = [\"Beryllium\", \"Magnesium\" , \"Calcium\", \"Strontium\" , \"Barium\" , \"Radium\"]\n",
        "sorted_earth_metals = sorted(Alkaline_earth_metals)\n",
        "sorted_earth_metals"
      ],
      "metadata": {
        "colab": {
          "base_uri": "https://localhost:8080/"
        },
        "id": "25M1VO9LOvEC",
        "outputId": "7dbc9254-a475-487b-b865-16f551af13d4"
      },
      "execution_count": 20,
      "outputs": [
        {
          "output_type": "execute_result",
          "data": {
            "text/plain": [
              "['Barium', 'Beryllium', 'Calcium', 'Magnesium', 'Radium', 'Strontium']"
            ]
          },
          "metadata": {},
          "execution_count": 20
        }
      ]
    },
    {
      "cell_type": "code",
      "source": [
        "Alkaline_earth_metals #original list unaltered"
      ],
      "metadata": {
        "colab": {
          "base_uri": "https://localhost:8080/"
        },
        "id": "A5DJvbbOPE1r",
        "outputId": "c5c36b21-bcc0-4355-d254-29ab91ccafeb"
      },
      "execution_count": 21,
      "outputs": [
        {
          "output_type": "execute_result",
          "data": {
            "text/plain": [
              "['Beryllium', 'Magnesium', 'Calcium', 'Strontium', 'Barium', 'Radium']"
            ]
          },
          "metadata": {},
          "execution_count": 21
        }
      ]
    },
    {
      "cell_type": "code",
      "source": [
        "\n",
        "data = (2,1,10,9,8,3,6,7,8,0)\n",
        "sorted(data) #input tuple and output list"
      ],
      "metadata": {
        "colab": {
          "base_uri": "https://localhost:8080/"
        },
        "id": "TXtPfE8PPM2h",
        "outputId": "a4f8a7a2-745d-4434-d174-337323016a1c"
      },
      "execution_count": 22,
      "outputs": [
        {
          "output_type": "execute_result",
          "data": {
            "text/plain": [
              "[0, 1, 2, 3, 6, 7, 8, 8, 9, 10]"
            ]
          },
          "metadata": {},
          "execution_count": 22
        }
      ]
    },
    {
      "cell_type": "code",
      "source": [
        "sorted(\"Alphabetically\") #string is also iteratable, can iterate over string character by character"
      ],
      "metadata": {
        "colab": {
          "base_uri": "https://localhost:8080/"
        },
        "id": "uwv0UcmVPdVo",
        "outputId": "0baaeace-f58d-46cd-fedd-aad409621745"
      },
      "execution_count": 24,
      "outputs": [
        {
          "output_type": "execute_result",
          "data": {
            "text/plain": [
              "['A', 'a', 'a', 'b', 'c', 'e', 'h', 'i', 'l', 'l', 'l', 'p', 't', 'y']"
            ]
          },
          "metadata": {},
          "execution_count": 24
        }
      ]
    },
    {
      "cell_type": "markdown",
      "source": [
        "sort method changes list, does not work on tuple\n",
        "sorted method does not change list and also works on tuple"
      ],
      "metadata": {
        "id": "hFOt8VrKP1TP"
      }
    },
    {
      "cell_type": "code",
      "source": [
        ""
      ],
      "metadata": {
        "id": "zICQ-AaYPoP6"
      },
      "execution_count": null,
      "outputs": []
    }
  ]
}