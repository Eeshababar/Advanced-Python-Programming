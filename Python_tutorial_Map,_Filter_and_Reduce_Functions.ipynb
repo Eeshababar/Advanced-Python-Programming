{
  "nbformat": 4,
  "nbformat_minor": 0,
  "metadata": {
    "colab": {
      "name": "Python tutorial Map, Filter and Reduce Functions.ipynb",
      "provenance": []
    },
    "kernelspec": {
      "name": "python3",
      "display_name": "Python 3"
    },
    "language_info": {
      "name": "python"
    }
  },
  "cells": [
    {
      "cell_type": "code",
      "execution_count": 5,
      "metadata": {
        "id": "8VR2ieuhE1KE"
      },
      "outputs": [],
      "source": [
        "import math\n"
      ]
    },
    {
      "cell_type": "code",
      "source": [
        "def area(r):\n",
        "  \"\"\" Area of circle \"\"\"\n",
        "  return math.pi * (r ** 2)"
      ],
      "metadata": {
        "id": "8R_7IDXJFfDd"
      },
      "execution_count": 6,
      "outputs": []
    },
    {
      "cell_type": "code",
      "source": [
        "radii = [2,4,6.1,3,3.9]\n",
        "areas = []\n",
        "for r in radii:\n",
        "  a = area(r)\n",
        "  areas.append(a)\n",
        "print(areas)\n"
      ],
      "metadata": {
        "colab": {
          "base_uri": "https://localhost:8080/"
        },
        "id": "3iKJ-Ou-Frsp",
        "outputId": "ea947a9c-2ba5-48dd-d31a-651457ff5742"
      },
      "execution_count": 8,
      "outputs": [
        {
          "output_type": "stream",
          "name": "stdout",
          "text": [
            "[12.566370614359172, 50.26548245743669, 116.89866264007618, 28.274333882308138, 47.78362426110075]\n"
          ]
        }
      ]
    },
    {
      "cell_type": "code",
      "source": [
        "map(area,radii)"
      ],
      "metadata": {
        "colab": {
          "base_uri": "https://localhost:8080/"
        },
        "id": "uyy1W9eDGC-g",
        "outputId": "f2d14678-7db8-4f71-b757-1efd559c550f"
      },
      "execution_count": 9,
      "outputs": [
        {
          "output_type": "execute_result",
          "data": {
            "text/plain": [
              "<map at 0x7f72bf93e150>"
            ]
          },
          "metadata": {},
          "execution_count": 9
        }
      ]
    },
    {
      "cell_type": "code",
      "source": [
        "list(map(area,radii)) #map(f,data)"
      ],
      "metadata": {
        "colab": {
          "base_uri": "https://localhost:8080/"
        },
        "id": "zNNmWj05GX28",
        "outputId": "6614c21c-8b54-447c-a01c-86fdbbd9c427"
      },
      "execution_count": 11,
      "outputs": [
        {
          "output_type": "execute_result",
          "data": {
            "text/plain": [
              "[12.566370614359172,\n",
              " 50.26548245743669,\n",
              " 116.89866264007618,\n",
              " 28.274333882308138,\n",
              " 47.78362426110075]"
            ]
          },
          "metadata": {},
          "execution_count": 11
        }
      ]
    },
    {
      "cell_type": "code",
      "source": [
        "temps = [(\"Lahore\", 32), (\"Delhi\", 98), (\"Tokyo\", 54), (\"London\", 22), (\"Irvine\", 21)]"
      ],
      "metadata": {
        "id": "eirl_j0sGcQ6"
      },
      "execution_count": 12,
      "outputs": []
    },
    {
      "cell_type": "code",
      "source": [
        "c_to_f = lambda data:(data[0],(9/5) * data[1] + 32)"
      ],
      "metadata": {
        "id": "4o-T-DjyG50r"
      },
      "execution_count": 13,
      "outputs": []
    },
    {
      "cell_type": "code",
      "source": [
        "list(map(c_to_f ,temps))"
      ],
      "metadata": {
        "colab": {
          "base_uri": "https://localhost:8080/"
        },
        "id": "Zgauwy4CHOWa",
        "outputId": "75f360e3-8e0c-41a5-db6b-7ddc393fa4e7"
      },
      "execution_count": 14,
      "outputs": [
        {
          "output_type": "execute_result",
          "data": {
            "text/plain": [
              "[('Lahore', 89.6),\n",
              " ('Delhi', 208.4),\n",
              " ('Tokyo', 129.2),\n",
              " ('London', 71.6),\n",
              " ('Irvine', 69.80000000000001)]"
            ]
          },
          "metadata": {},
          "execution_count": 14
        }
      ]
    },
    {
      "cell_type": "markdown",
      "source": [
        "Filter function: Filters the data which you dont need"
      ],
      "metadata": {
        "id": "XO9E7VvfHd6H"
      }
    },
    {
      "cell_type": "code",
      "source": [
        "import statistics"
      ],
      "metadata": {
        "id": "OFHBpVuxHXLb"
      },
      "execution_count": 15,
      "outputs": []
    },
    {
      "cell_type": "code",
      "source": [
        "data = [2,7,9,9,10,11,13]"
      ],
      "metadata": {
        "id": "59bZYXWJHkH2"
      },
      "execution_count": 16,
      "outputs": []
    },
    {
      "cell_type": "code",
      "source": [
        "avg = statistics.mean(data)"
      ],
      "metadata": {
        "id": "2G1G46yqHnbm"
      },
      "execution_count": 17,
      "outputs": []
    },
    {
      "cell_type": "code",
      "source": [
        "avg"
      ],
      "metadata": {
        "colab": {
          "base_uri": "https://localhost:8080/"
        },
        "id": "MLIOwhXcHtXM",
        "outputId": "bb591425-67e6-4a63-eaab-54e6bdd38331"
      },
      "execution_count": 18,
      "outputs": [
        {
          "output_type": "execute_result",
          "data": {
            "text/plain": [
              "8.714285714285714"
            ]
          },
          "metadata": {},
          "execution_count": 18
        }
      ]
    },
    {
      "cell_type": "code",
      "source": [
        "filter(lambda x: x > avg, data)"
      ],
      "metadata": {
        "colab": {
          "base_uri": "https://localhost:8080/"
        },
        "id": "qzIlxkFVHvko",
        "outputId": "d7615b4b-c512-4ec1-87f2-8e99a96534f5"
      },
      "execution_count": 19,
      "outputs": [
        {
          "output_type": "execute_result",
          "data": {
            "text/plain": [
              "<filter at 0x7f72b8241e10>"
            ]
          },
          "metadata": {},
          "execution_count": 19
        }
      ]
    },
    {
      "cell_type": "code",
      "source": [
        "list(filter(lambda x: x > avg, data))"
      ],
      "metadata": {
        "colab": {
          "base_uri": "https://localhost:8080/"
        },
        "id": "j1sK4ssNH8oE",
        "outputId": "9a3d3597-0dbe-486f-ea93-176e0d80ac60"
      },
      "execution_count": 21,
      "outputs": [
        {
          "output_type": "execute_result",
          "data": {
            "text/plain": [
              "[9, 9, 10, 11, 13]"
            ]
          },
          "metadata": {},
          "execution_count": 21
        }
      ]
    },
    {
      "cell_type": "code",
      "source": [
        "list(filter(lambda x: x < avg, data))"
      ],
      "metadata": {
        "colab": {
          "base_uri": "https://localhost:8080/"
        },
        "id": "ZDBBe_TfIDDp",
        "outputId": "ecfec2a7-0d54-4568-d91a-5e0bc0bc2a14"
      },
      "execution_count": 22,
      "outputs": [
        {
          "output_type": "execute_result",
          "data": {
            "text/plain": [
              "[2, 7]"
            ]
          },
          "metadata": {},
          "execution_count": 22
        }
      ]
    },
    {
      "cell_type": "code",
      "source": [
        "countries = [\"\", \"Pakistan\", \"India\" , \"Argentina\", \"\", \"United Kingdom\", \"\", \"Italy\"] #remove missing values\n",
        "list(filter(None,countries))"
      ],
      "metadata": {
        "colab": {
          "base_uri": "https://localhost:8080/"
        },
        "id": "mJQSPAJEIMzc",
        "outputId": "c54d83b2-98c5-4421-f01a-f7f90a2a43ab"
      },
      "execution_count": 24,
      "outputs": [
        {
          "output_type": "execute_result",
          "data": {
            "text/plain": [
              "['Pakistan', 'India', 'Argentina', 'United Kingdom', 'Italy']"
            ]
          },
          "metadata": {},
          "execution_count": 24
        }
      ]
    },
    {
      "cell_type": "markdown",
      "source": [
        "Reduce Function"
      ],
      "metadata": {
        "id": "aVB1czo1KJSO"
      }
    },
    {
      "cell_type": "code",
      "source": [
        "from IPython.core.compilerop import functools\n",
        "from functools import reduce\n",
        "data = [2,3,5,7,11,13,17,19,23,29]\n",
        "multiplier = lambda x,y : x*y\n",
        "reduce(multiplier,data)"
      ],
      "metadata": {
        "colab": {
          "base_uri": "https://localhost:8080/"
        },
        "id": "K29vEP6MJ-5O",
        "outputId": "78a95f0d-5d67-4c03-e417-6a0bee15c0b7"
      },
      "execution_count": 25,
      "outputs": [
        {
          "output_type": "execute_result",
          "data": {
            "text/plain": [
              "6469693230"
            ]
          },
          "metadata": {},
          "execution_count": 25
        }
      ]
    },
    {
      "cell_type": "code",
      "source": [
        "product = 1\n",
        "for x in data:\n",
        "  product = product * x\n",
        "product"
      ],
      "metadata": {
        "colab": {
          "base_uri": "https://localhost:8080/"
        },
        "id": "kEdTPk1EK4oY",
        "outputId": "1f913fa3-6519-4fa6-a3f5-902b4a7d28a7"
      },
      "execution_count": 26,
      "outputs": [
        {
          "output_type": "execute_result",
          "data": {
            "text/plain": [
              "6469693230"
            ]
          },
          "metadata": {},
          "execution_count": 26
        }
      ]
    },
    {
      "cell_type": "markdown",
      "source": [
        "Python's reduce() is a function that implements a mathematical technique called folding or reduction. reduce() is useful when you need to apply a function to an iterable and reduce it to a single cumulative value."
      ],
      "metadata": {
        "id": "Jp4fDZGDLOmz"
      }
    },
    {
      "cell_type": "code",
      "source": [
        ""
      ],
      "metadata": {
        "id": "-THShwi3LEuY"
      },
      "execution_count": null,
      "outputs": []
    }
  ]
}