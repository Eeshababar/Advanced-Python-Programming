{
  "nbformat": 4,
  "nbformat_minor": 0,
  "metadata": {
    "colab": {
      "provenance": []
    },
    "kernelspec": {
      "name": "python3",
      "display_name": "Python 3"
    },
    "language_info": {
      "name": "python"
    }
  },
  "cells": [
    {
      "cell_type": "markdown",
      "source": [
        "Here is how a generator function differs from a normal function.\n",
        "\n",
        "Generator function contains one or more yield statements.\n",
        "When called, it returns an object (iterator) but does not start execution immediately.\n",
        "Methods like __iter__() and __next__() are implemented automatically. So we can iterate through the items using next().\n",
        "Once the function yields, the function is paused and the control is transferred to the caller.\n",
        "Local variables and their states are remembered between successive calls.\n",
        "Finally, when the function terminates, StopIteration is raised automatically on further calls."
      ],
      "metadata": {
        "id": "KFtw4pdZsJiC"
      }
    },
    {
      "cell_type": "code",
      "execution_count": 1,
      "metadata": {
        "id": "F5hygmB5mjCE"
      },
      "outputs": [],
      "source": [
        "def f():\n",
        "  return 1\n",
        "  return 2\n",
        "  return 3\n",
        "  "
      ]
    },
    {
      "cell_type": "code",
      "source": [
        "print(f()) #done its job"
      ],
      "metadata": {
        "colab": {
          "base_uri": "https://localhost:8080/"
        },
        "id": "_MvNwsd6m-VF",
        "outputId": "003c2b7d-e757-4e59-c62c-8cd49e414c5c"
      },
      "execution_count": 3,
      "outputs": [
        {
          "output_type": "stream",
          "name": "stdout",
          "text": [
            "1\n"
          ]
        }
      ]
    },
    {
      "cell_type": "code",
      "source": [
        "def g():\n",
        "  yield 1\n",
        "  yield 2\n",
        "  yield 3\n",
        "  "
      ],
      "metadata": {
        "id": "AzfE8LLonAoK"
      },
      "execution_count": 4,
      "outputs": []
    },
    {
      "cell_type": "code",
      "source": [
        "print(g()) #does not return a number, just return a generator object"
      ],
      "metadata": {
        "colab": {
          "base_uri": "https://localhost:8080/"
        },
        "id": "gxTebTrrnf9L",
        "outputId": "64be591f-737b-45d8-88e8-48e00b7f25a4"
      },
      "execution_count": 6,
      "outputs": [
        {
          "output_type": "stream",
          "name": "stdout",
          "text": [
            "<generator object g at 0x7f8bd066d7d0>\n"
          ]
        }
      ]
    },
    {
      "cell_type": "code",
      "source": [
        "for x in g(): #generator is an iterator\n",
        "  print(x)"
      ],
      "metadata": {
        "colab": {
          "base_uri": "https://localhost:8080/"
        },
        "id": "3R_UfIR4nTS8",
        "outputId": "2c44bf3b-3bf3-4765-c9bb-c4e8aed82313"
      },
      "execution_count": 7,
      "outputs": [
        {
          "output_type": "stream",
          "name": "stdout",
          "text": [
            "1\n",
            "2\n",
            "3\n"
          ]
        }
      ]
    },
    {
      "cell_type": "code",
      "source": [
        "import string\n",
        "def letters():\n",
        "  for c in string.ascii_lowercase:\n",
        "    yield c"
      ],
      "metadata": {
        "id": "cRVWWxrinY1a"
      },
      "execution_count": 8,
      "outputs": []
    },
    {
      "cell_type": "code",
      "source": [
        "for letter in letters():\n",
        "  print(letter)"
      ],
      "metadata": {
        "colab": {
          "base_uri": "https://localhost:8080/"
        },
        "id": "BMum2EXzn8r_",
        "outputId": "fe64a94a-584f-4e78-de76-5442ea6cf47a"
      },
      "execution_count": 11,
      "outputs": [
        {
          "output_type": "stream",
          "name": "stdout",
          "text": [
            "a\n",
            "b\n",
            "c\n",
            "d\n",
            "e\n",
            "f\n",
            "g\n",
            "h\n",
            "i\n",
            "j\n",
            "k\n",
            "l\n",
            "m\n",
            "n\n",
            "o\n",
            "p\n",
            "q\n",
            "r\n",
            "s\n",
            "t\n",
            "u\n",
            "v\n",
            "w\n",
            "x\n",
            "y\n",
            "z\n"
          ]
        }
      ]
    },
    {
      "cell_type": "markdown",
      "source": [
        "Yield() = Generator"
      ],
      "metadata": {
        "id": "Sff3YewnoLdk"
      }
    },
    {
      "cell_type": "code",
      "source": [
        "from traitlets.traitlets import Tuple\n",
        "import itertools\n",
        "def prime_numbers():\n",
        "  yield 2\n",
        "  prime_cache = [2] #Cache of prime numbers\n",
        "  for n in itertools.count(3,2):\n",
        "    is_Prime = True\n",
        "    for p in prime_cache:\n",
        "      if n%p == 0:\n",
        "        is_Prime = False\n",
        "        break\n",
        "  if is_Prime:\n",
        "     prime_cache.append(n)\n",
        "     yield n\n",
        "    "
      ],
      "metadata": {
        "id": "lpN4oRAkn_PR"
      },
      "execution_count": 12,
      "outputs": []
    },
    {
      "cell_type": "code",
      "source": [
        "for p in prime_numbers():\n",
        "  print(p)\n",
        "  if p > 100:\n",
        "    break"
      ],
      "metadata": {
        "colab": {
          "base_uri": "https://localhost:8080/",
          "height": 375
        },
        "id": "5KK6uOsupYXi",
        "outputId": "5f08fe7a-4dcc-41b2-9c70-ee311ede0588"
      },
      "execution_count": 13,
      "outputs": [
        {
          "output_type": "stream",
          "name": "stdout",
          "text": [
            "2\n"
          ]
        },
        {
          "output_type": "error",
          "ename": "KeyboardInterrupt",
          "evalue": "ignored",
          "traceback": [
            "\u001b[0;31m---------------------------------------------------------------------------\u001b[0m",
            "\u001b[0;31mKeyboardInterrupt\u001b[0m                         Traceback (most recent call last)",
            "\u001b[0;32m<ipython-input-13-9108d51a692e>\u001b[0m in \u001b[0;36m<module>\u001b[0;34m\u001b[0m\n\u001b[0;32m----> 1\u001b[0;31m \u001b[0;32mfor\u001b[0m \u001b[0mp\u001b[0m \u001b[0;32min\u001b[0m \u001b[0mprime_numbers\u001b[0m\u001b[0;34m(\u001b[0m\u001b[0;34m)\u001b[0m\u001b[0;34m:\u001b[0m\u001b[0;34m\u001b[0m\u001b[0;34m\u001b[0m\u001b[0m\n\u001b[0m\u001b[1;32m      2\u001b[0m   \u001b[0mprint\u001b[0m\u001b[0;34m(\u001b[0m\u001b[0mp\u001b[0m\u001b[0;34m)\u001b[0m\u001b[0;34m\u001b[0m\u001b[0;34m\u001b[0m\u001b[0m\n\u001b[1;32m      3\u001b[0m   \u001b[0;32mif\u001b[0m \u001b[0mp\u001b[0m \u001b[0;34m>\u001b[0m \u001b[0;36m100\u001b[0m\u001b[0;34m:\u001b[0m\u001b[0;34m\u001b[0m\u001b[0;34m\u001b[0m\u001b[0m\n\u001b[1;32m      4\u001b[0m     \u001b[0;32mbreak\u001b[0m\u001b[0;34m\u001b[0m\u001b[0;34m\u001b[0m\u001b[0m\n",
            "\u001b[0;32m<ipython-input-12-aa2412544951>\u001b[0m in \u001b[0;36mprime_numbers\u001b[0;34m()\u001b[0m\n\u001b[1;32m      7\u001b[0m     \u001b[0mis_Prime\u001b[0m \u001b[0;34m=\u001b[0m \u001b[0;32mTrue\u001b[0m\u001b[0;34m\u001b[0m\u001b[0;34m\u001b[0m\u001b[0m\n\u001b[1;32m      8\u001b[0m     \u001b[0;32mfor\u001b[0m \u001b[0mp\u001b[0m \u001b[0;32min\u001b[0m \u001b[0mprime_cache\u001b[0m\u001b[0;34m:\u001b[0m\u001b[0;34m\u001b[0m\u001b[0;34m\u001b[0m\u001b[0m\n\u001b[0;32m----> 9\u001b[0;31m       \u001b[0;32mif\u001b[0m \u001b[0mn\u001b[0m\u001b[0;34m%\u001b[0m\u001b[0mp\u001b[0m \u001b[0;34m==\u001b[0m \u001b[0;36m0\u001b[0m\u001b[0;34m:\u001b[0m\u001b[0;34m\u001b[0m\u001b[0;34m\u001b[0m\u001b[0m\n\u001b[0m\u001b[1;32m     10\u001b[0m         \u001b[0mis_Prime\u001b[0m \u001b[0;34m=\u001b[0m \u001b[0;32mFalse\u001b[0m\u001b[0;34m\u001b[0m\u001b[0;34m\u001b[0m\u001b[0m\n\u001b[1;32m     11\u001b[0m         \u001b[0;32mbreak\u001b[0m\u001b[0;34m\u001b[0m\u001b[0;34m\u001b[0m\u001b[0m\n",
            "\u001b[0;31mKeyboardInterrupt\u001b[0m: "
          ]
        }
      ]
    },
    {
      "cell_type": "markdown",
      "source": [
        "Generator expression"
      ],
      "metadata": {
        "id": "yW5cMl8zp7-k"
      }
    },
    {
      "cell_type": "code",
      "source": [
        "import itertools\n",
        "squares = (x ** 2 for x in itertools.count(1))\n",
        "for x in squares:\n",
        "  print(x)\n",
        "  if x > 500:\n",
        "    squares.close()\n",
        "  \n",
        "print(type(squares))"
      ],
      "metadata": {
        "colab": {
          "base_uri": "https://localhost:8080/"
        },
        "id": "nj8SijBNpjeh",
        "outputId": "153dc8e6-9fcc-453a-e7a2-d1e185410c18"
      },
      "execution_count": 16,
      "outputs": [
        {
          "output_type": "stream",
          "name": "stdout",
          "text": [
            "1\n",
            "4\n",
            "9\n",
            "16\n",
            "25\n",
            "36\n",
            "49\n",
            "64\n",
            "81\n",
            "100\n",
            "121\n",
            "144\n",
            "169\n",
            "196\n",
            "225\n",
            "256\n",
            "289\n",
            "324\n",
            "361\n",
            "400\n",
            "441\n",
            "484\n",
            "529\n",
            "<class 'generator'>\n"
          ]
        }
      ]
    },
    {
      "cell_type": "code",
      "source": [
        "print(type(squares))"
      ],
      "metadata": {
        "colab": {
          "base_uri": "https://localhost:8080/"
        },
        "id": "9QwWxdoqqPZp",
        "outputId": "f5a5dcf0-f828-41a3-80d7-fae1279dc977"
      },
      "execution_count": 17,
      "outputs": [
        {
          "output_type": "stream",
          "name": "stdout",
          "text": [
            "<class 'generator'>\n"
          ]
        }
      ]
    },
    {
      "cell_type": "code",
      "source": [
        "import sys\n",
        "print(sys.getsizeof(squares))"
      ],
      "metadata": {
        "colab": {
          "base_uri": "https://localhost:8080/"
        },
        "id": "-yviHiqwrY0p",
        "outputId": "b1fdb83e-60b5-41f2-a67f-bb1ff482f9c9"
      },
      "execution_count": 18,
      "outputs": [
        {
          "output_type": "stream",
          "name": "stdout",
          "text": [
            "128\n"
          ]
        }
      ]
    },
    {
      "cell_type": "markdown",
      "source": [
        "#List compresshension will need infinite number of bytes"
      ],
      "metadata": {
        "id": "kOS9L-Qur2XM"
      }
    },
    {
      "cell_type": "code",
      "source": [],
      "metadata": {
        "id": "PonZimVbrx92"
      },
      "execution_count": null,
      "outputs": []
    }
  ]
}