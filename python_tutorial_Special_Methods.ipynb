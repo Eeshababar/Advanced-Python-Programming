{
  "nbformat": 4,
  "nbformat_minor": 0,
  "metadata": {
    "colab": {
      "provenance": []
    },
    "kernelspec": {
      "name": "python3",
      "display_name": "Python 3"
    },
    "language_info": {
      "name": "python"
    }
  },
  "cells": [
    {
      "cell_type": "code",
      "execution_count": null,
      "metadata": {
        "id": "Wr3yLCQqj-Oq"
      },
      "outputs": [],
      "source": [
        "class Snowflake:\n",
        "  pass"
      ]
    },
    {
      "cell_type": "code",
      "source": [
        "flake = Snowflake()\n",
        "print(dir(flake))"
      ],
      "metadata": {
        "colab": {
          "base_uri": "https://localhost:8080/"
        },
        "id": "-hORqIWNkQJ1",
        "outputId": "185f6410-ac78-4146-d8e5-122733557cbe"
      },
      "execution_count": null,
      "outputs": [
        {
          "output_type": "stream",
          "name": "stdout",
          "text": [
            "['__class__', '__delattr__', '__dict__', '__dir__', '__doc__', '__eq__', '__format__', '__ge__', '__getattribute__', '__gt__', '__hash__', '__init__', '__init_subclass__', '__le__', '__lt__', '__module__', '__ne__', '__new__', '__reduce__', '__reduce_ex__', '__repr__', '__setattr__', '__sizeof__', '__str__', '__subclasshook__', '__weakref__']\n"
          ]
        }
      ]
    },
    {
      "cell_type": "markdown",
      "source": [
        "special methods start and end with double underscore"
      ],
      "metadata": {
        "id": "FXMzb4DBkeVt"
      }
    },
    {
      "cell_type": "code",
      "source": [
        "class Martian:\n",
        "    pass\n",
        "\n",
        "ml = Martian()\n",
        "print(ml.__dict__)"
      ],
      "metadata": {
        "colab": {
          "base_uri": "https://localhost:8080/"
        },
        "id": "fOZuG8BJkZ_u",
        "outputId": "30fb4b69-281c-4a0e-9930-ffd0cb0263da"
      },
      "execution_count": null,
      "outputs": [
        {
          "output_type": "stream",
          "name": "stdout",
          "text": [
            "{}\n"
          ]
        }
      ]
    },
    {
      "cell_type": "code",
      "source": [
        "class Martian:  \n",
        "    pass\n",
        "\n",
        "ml = Martian()\n",
        "ml.first_name = \"Eesha\"\n",
        "ml.last_name = \"Babar\"\n",
        "\n",
        "print(ml.__dict__) #stores object attribute"
      ],
      "metadata": {
        "colab": {
          "base_uri": "https://localhost:8080/"
        },
        "id": "tMSB5WRmk87b",
        "outputId": "9f0901e9-60c8-4076-f251-389fcd1d1282"
      },
      "execution_count": null,
      "outputs": [
        {
          "output_type": "stream",
          "name": "stdout",
          "text": [
            "{'first_name': 'Eesha', 'last_name': 'Babar'}\n"
          ]
        }
      ]
    },
    {
      "cell_type": "code",
      "source": [
        "class Martian:\n",
        "  \"\"\" Someone who lives on mars\"\"\"\n",
        "  def __init__(self, fn, ln):\n",
        "    self.first_name = fn\n",
        "    self.last_name = ln\n",
        "\n",
        "print(Martian.__doc__)\n",
        "     "
      ],
      "metadata": {
        "colab": {
          "base_uri": "https://localhost:8080/"
        },
        "id": "5_KStnJ-lKxM",
        "outputId": "3e404247-e409-4a1c-efbb-eac988e604d5"
      },
      "execution_count": null,
      "outputs": [
        {
          "output_type": "stream",
          "name": "stdout",
          "text": [
            " Someone who lives on mars\n"
          ]
        }
      ]
    },
    {
      "cell_type": "code",
      "source": [
        "ml = Martian('Rob', 'Schenk')\n",
        "ml.arrival_date = \"2037-9-12\"\n",
        "print(ml.__dict__)"
      ],
      "metadata": {
        "colab": {
          "base_uri": "https://localhost:8080/"
        },
        "id": "Nn28t7-Al5JV",
        "outputId": "d69caea9-5aeb-47df-97fd-a52989bfded7"
      },
      "execution_count": null,
      "outputs": [
        {
          "output_type": "stream",
          "name": "stdout",
          "text": [
            "{'first_name': 'Rob', 'last_name': 'Schenk', 'arrival_date': '2037-9-12'}\n"
          ]
        }
      ]
    },
    {
      "cell_type": "code",
      "source": [
        "class Martian:\n",
        "  \"\"\" Someone who lives on mars\"\"\"\n",
        "  def __init__(self, fn, ln):\n",
        "    self.first_name = fn\n",
        "    self.last_name = ln #because here are self twice so set attr method called twice\n",
        "\n",
        "  def __setattr__(self, name, value):\n",
        "     print(f\">>> You set {name} = {value}\")\n",
        "     self.__dict__[name] = value"
      ],
      "metadata": {
        "id": "8EkcUbgkmH_f"
      },
      "execution_count": null,
      "outputs": []
    },
    {
      "cell_type": "code",
      "source": [
        "m = Martian(\"Klaus\", \"Robin\")"
      ],
      "metadata": {
        "colab": {
          "base_uri": "https://localhost:8080/"
        },
        "id": "Bwv9Y-N-nFB8",
        "outputId": "d2373366-7329-4bd8-960b-7de03895897a"
      },
      "execution_count": null,
      "outputs": [
        {
          "output_type": "stream",
          "name": "stdout",
          "text": [
            ">>> You set first_name = Klaus\n",
            ">>> You set last_name = Robin\n"
          ]
        }
      ]
    },
    {
      "cell_type": "code",
      "source": [
        "print(m.__dict__) #not stored in dict"
      ],
      "metadata": {
        "colab": {
          "base_uri": "https://localhost:8080/"
        },
        "id": "Bk4TYzUfnPaA",
        "outputId": "ff5db86c-3000-4d0e-ad26-6bb9eb35ee2a"
      },
      "execution_count": null,
      "outputs": [
        {
          "output_type": "stream",
          "name": "stdout",
          "text": [
            "{}\n"
          ]
        }
      ]
    },
    {
      "cell_type": "code",
      "source": [
        "class Martian:\n",
        "  \"\"\" Someone who lives on mars\"\"\"\n",
        "  def __init__(self, fn, ln):\n",
        "    self.first_name = fn\n",
        "    self.last_name = ln #because here are self twice so set attr method called twice\n",
        "\n",
        "  def __setattr__(self, name, value):\n",
        "     print(f\">>> You set {name} = {value}\")\n",
        "     self.__dict__[name] = value\n",
        "     "
      ],
      "metadata": {
        "id": "HjcUw1VPnyvf"
      },
      "execution_count": null,
      "outputs": []
    },
    {
      "cell_type": "code",
      "source": [
        "m = Martian(\"Klaus\", \"Robin\")"
      ],
      "metadata": {
        "colab": {
          "base_uri": "https://localhost:8080/"
        },
        "id": "1TcVQ05poGa4",
        "outputId": "1c4d48ac-438f-4c9d-fa13-9fff1251fc39"
      },
      "execution_count": null,
      "outputs": [
        {
          "output_type": "stream",
          "name": "stdout",
          "text": [
            ">>> You set first_name = Klaus\n",
            ">>> You set last_name = Robin\n"
          ]
        }
      ]
    },
    {
      "cell_type": "code",
      "source": [
        "print(m.__dict__)"
      ],
      "metadata": {
        "colab": {
          "base_uri": "https://localhost:8080/"
        },
        "id": "704Rqp4IoIQj",
        "outputId": "ed4c696c-6391-4446-d5f5-92e0fae177ba"
      },
      "execution_count": null,
      "outputs": [
        {
          "output_type": "stream",
          "name": "stdout",
          "text": [
            "{'first_name': 'Klaus', 'last_name': 'Robin'}\n"
          ]
        }
      ]
    },
    {
      "cell_type": "code",
      "source": [
        "class Martian:\n",
        "  \"\"\" Someone who lives on mars\"\"\"\n",
        "  def __init__(self, fn, ln):\n",
        "    self.first_name = fn\n",
        "    self.last_name = ln #because here are self twice so set attr method called twice\n",
        "\n",
        "  def __setattr__(self, name, value):\n",
        "     print(f\">>> You set {name} = {value}\")\n",
        "     self.__dict__[name] = value\n",
        "    \n",
        "  def _getattr__(self,name):\n",
        "     print(f\">>> Get the '{name} attribute\")"
      ],
      "metadata": {
        "id": "R7NPbww7oKc5"
      },
      "execution_count": null,
      "outputs": []
    },
    {
      "cell_type": "code",
      "source": [
        "m = Martian(\"Klaus\", \"Robin\") #init called\n",
        "print(f\"First name = {m.first_name}\")\n",
        "print(f\"last name = {m.last_name}\")  #neither of print called getattr"
      ],
      "metadata": {
        "colab": {
          "base_uri": "https://localhost:8080/"
        },
        "id": "XblzrlQOokW5",
        "outputId": "f51afbb8-9312-4009-de40-7ace45e56ce1"
      },
      "execution_count": null,
      "outputs": [
        {
          "output_type": "stream",
          "name": "stdout",
          "text": [
            ">>> You set first_name = Klaus\n",
            ">>> You set last_name = Robin\n",
            "First name = Klaus\n",
            "last name = Robin\n"
          ]
        }
      ]
    },
    {
      "cell_type": "code",
      "source": [
        "class Martian:\n",
        "  \"\"\" Someone who lives on mars\"\"\"\n",
        "  def __init__(self, fn, ln):\n",
        "    self.first_name = fn\n",
        "    self.last_name = ln #because here are self twice so set attr method called twice\n",
        "\n",
        "  def __setattr__(self, name, value):\n",
        "     print(f\">>> You set {name} = {value}\")\n",
        "     self.__dict__[name] = value\n",
        "    \n",
        "  def __getattr__(self,name):\n",
        "     print(f\">>> Get the '{name}' attribute\")\n",
        "     if name == 'full_name':\n",
        "       return f\"{self.first_name} {self.last_name}\"\n",
        "     else:\n",
        "      raise AttributeError(f\"No attribute Named {name}\")"
      ],
      "metadata": {
        "id": "cqXNCfSdomDV"
      },
      "execution_count": null,
      "outputs": []
    },
    {
      "cell_type": "code",
      "source": [
        "m = Martian(\"Eesha\", \"babar\") #init called\n",
        "print(f\"First name = {m.first_name}\")\n",
        "print(f\"last name = {m.last_name}\")  #neither of print called getattr\n",
        "print(m.full_name) #getattr called only once"
      ],
      "metadata": {
        "colab": {
          "base_uri": "https://localhost:8080/"
        },
        "id": "x57fdBXDqOxR",
        "outputId": "4db61617-0a59-4990-d31a-fba082a52b46"
      },
      "execution_count": null,
      "outputs": [
        {
          "output_type": "stream",
          "name": "stdout",
          "text": [
            ">>> You set first_name = Eesha\n",
            ">>> You set last_name = babar\n",
            "First name = Eesha\n",
            "last name = babar\n",
            ">>> Get the 'full_name' attribute\n",
            "Eesha babar\n"
          ]
        }
      ]
    },
    {
      "cell_type": "code",
      "source": [
        "print(m.martian_name)"
      ],
      "metadata": {
        "colab": {
          "base_uri": "https://localhost:8080/",
          "height": 283
        },
        "id": "g2S5MKEaqSmH",
        "outputId": "fd2fb044-f24d-4e8b-8305-aa079fba2133"
      },
      "execution_count": null,
      "outputs": [
        {
          "output_type": "stream",
          "name": "stdout",
          "text": [
            ">>> Get the 'martian_name' attribute\n"
          ]
        },
        {
          "output_type": "error",
          "ename": "AttributeError",
          "evalue": "ignored",
          "traceback": [
            "\u001b[0;31m---------------------------------------------------------------------------\u001b[0m",
            "\u001b[0;31mAttributeError\u001b[0m                            Traceback (most recent call last)",
            "\u001b[0;32m<ipython-input-24-5c5a9f500f66>\u001b[0m in \u001b[0;36m<module>\u001b[0;34m\u001b[0m\n\u001b[0;32m----> 1\u001b[0;31m \u001b[0mprint\u001b[0m\u001b[0;34m(\u001b[0m\u001b[0mm\u001b[0m\u001b[0;34m.\u001b[0m\u001b[0mmartian_name\u001b[0m\u001b[0;34m)\u001b[0m\u001b[0;34m\u001b[0m\u001b[0;34m\u001b[0m\u001b[0m\n\u001b[0m",
            "\u001b[0;32m<ipython-input-21-8e1f065e37cd>\u001b[0m in \u001b[0;36m__getattr__\u001b[0;34m(self, name)\u001b[0m\n\u001b[1;32m     14\u001b[0m        \u001b[0;32mreturn\u001b[0m \u001b[0;34mf\"{self.first_name} {self.last_name}\"\u001b[0m\u001b[0;34m\u001b[0m\u001b[0;34m\u001b[0m\u001b[0m\n\u001b[1;32m     15\u001b[0m      \u001b[0;32melse\u001b[0m\u001b[0;34m:\u001b[0m\u001b[0;34m\u001b[0m\u001b[0;34m\u001b[0m\u001b[0m\n\u001b[0;32m---> 16\u001b[0;31m       \u001b[0;32mraise\u001b[0m \u001b[0mAttributeError\u001b[0m\u001b[0;34m(\u001b[0m\u001b[0;34mf\"No attribute Named {name}\"\u001b[0m\u001b[0;34m)\u001b[0m\u001b[0;34m\u001b[0m\u001b[0;34m\u001b[0m\u001b[0m\n\u001b[0m",
            "\u001b[0;31mAttributeError\u001b[0m: No attribute Named martian_name"
          ]
        }
      ]
    },
    {
      "cell_type": "code",
      "source": [
        "m = Martian(\"Eesha\", \"babar\") #init called\n",
        "print(f\"First name = {m.first_name}\")\n",
        "print(f\"last name = {m.last_name}\")  #neither of print called getattr\n",
        "print(m.__dict__) #getattr called only once #full_name never stored"
      ],
      "metadata": {
        "colab": {
          "base_uri": "https://localhost:8080/"
        },
        "id": "UE_hRs9Nrmar",
        "outputId": "891e47c7-c34a-441b-e67d-994f94534e4b"
      },
      "execution_count": null,
      "outputs": [
        {
          "output_type": "stream",
          "name": "stdout",
          "text": [
            ">>> You set first_name = Eesha\n",
            ">>> You set last_name = babar\n",
            "First name = Eesha\n",
            "last name = babar\n",
            "{'first_name': 'Eesha', 'last_name': 'babar'}\n"
          ]
        }
      ]
    },
    {
      "cell_type": "code",
      "source": [
        "class Martian:\n",
        "  \"\"\" Someone who lives on mars\"\"\"\n",
        "  def __init__(self, fn, ln):\n",
        "    self.first_name = fn\n",
        "    self.last_name = ln #because here are self twice so set attr method called twice\n",
        "\n",
        "  def __setattr__(self, name, value):\n",
        "     self.__dict__[name] = value\n",
        "    \n",
        " "
      ],
      "metadata": {
        "id": "hG16XnUQryZr"
      },
      "execution_count": null,
      "outputs": []
    },
    {
      "cell_type": "code",
      "source": [
        "ml = Martian(\"Ayan\", \"Mosa\")\n",
        "print(ml)\n",
        "print(ml.__str__())"
      ],
      "metadata": {
        "colab": {
          "base_uri": "https://localhost:8080/"
        },
        "id": "ZfYMG0casEF1",
        "outputId": "8321e8c9-dd99-4c8a-b5d9-d857a1ebf5c2"
      },
      "execution_count": null,
      "outputs": [
        {
          "output_type": "stream",
          "name": "stdout",
          "text": [
            "<__main__.Martian object at 0x7f374363f590>\n",
            "<__main__.Martian object at 0x7f374363f590>\n"
          ]
        }
      ]
    },
    {
      "cell_type": "markdown",
      "source": [
        "Each object in python is assigned a unique ID"
      ],
      "metadata": {
        "id": "DBlauS_qsbqU"
      }
    },
    {
      "cell_type": "code",
      "source": [
        "print(id(ml)) #address and id, different for each other"
      ],
      "metadata": {
        "colab": {
          "base_uri": "https://localhost:8080/"
        },
        "id": "Akp6ehH8sLuI",
        "outputId": "47785d3f-3820-4007-de81-fbc349deb0fc"
      },
      "execution_count": null,
      "outputs": [
        {
          "output_type": "stream",
          "name": "stdout",
          "text": [
            "139875330553232\n"
          ]
        }
      ]
    },
    {
      "cell_type": "code",
      "source": [
        "class Martian:\n",
        "  \"\"\" Someone who lives on mars\"\"\"\n",
        "  def __init__(self, fn, ln):\n",
        "    self.first_name = fn\n",
        "    self.last_name = ln #because here are self twice so set attr method called twice\n",
        "\n",
        "  def __setattr__(self, name, value):\n",
        "     self.__dict__[name] = value\n",
        "\n",
        "  def __str__(self):\n",
        "    return f\"{self.first_name} {self.last_name}\"\n",
        "  "
      ],
      "metadata": {
        "id": "DyGjgA4Usil_"
      },
      "execution_count": null,
      "outputs": []
    },
    {
      "cell_type": "code",
      "source": [
        "m = Martian(\"Rod\", \"Marley\")\n",
        "print(m)"
      ],
      "metadata": {
        "colab": {
          "base_uri": "https://localhost:8080/"
        },
        "id": "fvxGsGZstBWn",
        "outputId": "8d427c00-c446-4cc1-adc1-f06441228196"
      },
      "execution_count": null,
      "outputs": [
        {
          "output_type": "stream",
          "name": "stdout",
          "text": [
            "Rod Marley\n"
          ]
        }
      ]
    },
    {
      "cell_type": "markdown",
      "source": [
        "Binshift, arthimatic, comparing"
      ],
      "metadata": {
        "id": "8X-9Uqr0tTNq"
      }
    },
    {
      "cell_type": "code",
      "source": [
        "class Martian:\n",
        "  \"\"\" Someone who lives on mars\"\"\"\n",
        "  def __init__(self, fn, ln):\n",
        "    self.first_name = fn\n",
        "    self.last_name = ln #because here are self twice so set attr method called twice\n",
        "\n",
        "  def __setattr__(self, name, value):\n",
        "     self.__dict__[name] = value\n",
        "\n",
        "  def __str__(self):\n",
        "    return f\"{self.first_name} {self.last_name}\"\n",
        "  \n",
        "  def __lt__(self,other):\n",
        "      print(f\">>> Comparing {self} with {other}\")\n",
        "      if self.last_name != other.last_name:\n",
        "        return (self.last_name < other.last_name)\n",
        "      else :\n",
        "       return (self.last_name < other.last_name) #test if one name is greater than other"
      ],
      "metadata": {
        "id": "L2UwtDcItLsE"
      },
      "execution_count": null,
      "outputs": []
    },
    {
      "cell_type": "code",
      "source": [
        "m1 = Martian(\"Arshman\", \"Mujeeb\")\n",
        "m2 = Martian(\"Mosa\", \"Ayan\")\n",
        "m3 = Martian(\"Essa\", \"Abyan\")\n",
        "m4 = Martian(\"Zain\", \"ulAbideen\")\n",
        "m5 = Martian(\"Wali\", \"Ahmad\")\n"
      ],
      "metadata": {
        "id": "vdMpdEF5uYyN"
      },
      "execution_count": null,
      "outputs": []
    },
    {
      "cell_type": "code",
      "source": [
        "martians = [m1, m2, m3, m4, m5]\n",
        "\n",
        "martians.sort()"
      ],
      "metadata": {
        "colab": {
          "base_uri": "https://localhost:8080/"
        },
        "id": "jwuP7yMUt-xv",
        "outputId": "f2f0ddf2-d7d8-44ea-9135-ebb7129afa78"
      },
      "execution_count": null,
      "outputs": [
        {
          "output_type": "stream",
          "name": "stdout",
          "text": [
            ">>> Comparing Mosa Ayan with Arshman Mujeeb\n",
            ">>> Comparing Essa Abyan with Mosa Ayan\n",
            ">>> Comparing Zain ulAbideen with Essa Abyan\n",
            ">>> Comparing Zain ulAbideen with Mosa Ayan\n",
            ">>> Comparing Zain ulAbideen with Arshman Mujeeb\n",
            ">>> Comparing Wali Ahmad with Arshman Mujeeb\n",
            ">>> Comparing Wali Ahmad with Mosa Ayan\n",
            ">>> Comparing Wali Ahmad with Essa Abyan\n"
          ]
        }
      ]
    },
    {
      "cell_type": "code",
      "source": [
        "for m in martians:\n",
        "  print(m)"
      ],
      "metadata": {
        "colab": {
          "base_uri": "https://localhost:8080/"
        },
        "id": "It7mXojvuPqE",
        "outputId": "d274a48f-a38e-40f2-ee08-b12b6ee98ad6"
      },
      "execution_count": null,
      "outputs": [
        {
          "output_type": "stream",
          "name": "stdout",
          "text": [
            "Essa Abyan\n",
            "Wali Ahmad\n",
            "Mosa Ayan\n",
            "Arshman Mujeeb\n",
            "Zain ulAbideen\n"
          ]
        }
      ]
    },
    {
      "cell_type": "code",
      "source": [],
      "metadata": {
        "id": "PHAWSWfdu-Br"
      },
      "execution_count": null,
      "outputs": []
    }
  ]
}