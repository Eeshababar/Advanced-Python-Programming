{
  "nbformat": 4,
  "nbformat_minor": 0,
  "metadata": {
    "colab": {
      "name": "Random_walk+Montecarlo Simulation.ipynb",
      "provenance": []
    },
    "kernelspec": {
      "name": "python3",
      "display_name": "Python 3"
    },
    "language_info": {
      "name": "python"
    }
  },
  "cells": [
    {
      "cell_type": "code",
      "execution_count": null,
      "metadata": {
        "id": "pqljTT4aBSX_",
        "colab": {
          "base_uri": "https://localhost:8080/"
        },
        "outputId": "a94191f7-a887-4aa1-ff66-c4c29c68352f"
      },
      "outputs": [
        {
          "output_type": "stream",
          "name": "stdout",
          "text": [
            "(-2, 0) Distance from home =  2\n",
            "(0, 4) Distance from home =  4\n",
            "(2, 0) Distance from home =  2\n",
            "(-1, -1) Distance from home =  2\n",
            "(2, 0) Distance from home =  2\n",
            "(0, -2) Distance from home =  2\n",
            "(0, 0) Distance from home =  0\n",
            "(2, -2) Distance from home =  0\n",
            "(-1, 3) Distance from home =  2\n",
            "(-2, 4) Distance from home =  2\n",
            "(2, 2) Distance from home =  4\n",
            "(1, 1) Distance from home =  2\n",
            "(3, -1) Distance from home =  2\n",
            "(1, 3) Distance from home =  4\n",
            "(1, -5) Distance from home =  4\n",
            "(2, 0) Distance from home =  2\n",
            "(-2, 2) Distance from home =  0\n",
            "(1, 3) Distance from home =  4\n",
            "(1, -5) Distance from home =  4\n",
            "(1, 3) Distance from home =  4\n",
            "(2, 0) Distance from home =  2\n",
            "(-3, 1) Distance from home =  2\n",
            "(-1, -1) Distance from home =  2\n",
            "(0, -2) Distance from home =  2\n",
            "(0, 0) Distance from home =  0\n"
          ]
        }
      ],
      "source": [
        "import random\n",
        "def random_walk(n):\n",
        "  \"\"\" Return coordinates of random walk\"\"\"\n",
        "  x = 0\n",
        "  y = 0\n",
        "  for i in range(n):\n",
        "   step = random.choice(['N' , 'S', 'E', 'W'])\n",
        "   if step == 'N':\n",
        "    y = y+1\n",
        "   elif step == 'S':\n",
        "    y = y-1\n",
        "   elif step == 'E':\n",
        "    x = x+1\n",
        "   else:\n",
        "    x = x-1\n",
        "  return(x,y)\n",
        "\n",
        "for i in range(25):\n",
        "  walk = random_walk(10)\n",
        "  print(walk, \"Distance from home = \", abs(walk[0]+ walk[-1])) #sign is direction not distance"
      ]
    },
    {
      "cell_type": "code",
      "source": [
        "import random\n",
        "def random_walk2(n):\n",
        "  \"\"\" Return coordinates of random walk\"\"\"\n",
        "  x,y = 0,0\n",
        "  for i in range(n): #dx = difference in x #dy = difference in y\n",
        "   (dx,dy) = random.choice([(0,1), (0,-1), (1,0), (-1,0)]) #N, S, E, W\n",
        "   x  += dx\n",
        "   y  += dy\n",
        "  return(x,y) \n",
        "\n",
        "for i in range(25):\n",
        "  walk = random_walk(10)\n",
        "  print(walk, \"Distance from home = \", abs(walk[0]+ walk[-1])) #sign is direction not distance"
      ],
      "metadata": {
        "colab": {
          "base_uri": "https://localhost:8080/"
        },
        "id": "bxgx_ekkLP50",
        "outputId": "3b9a063d-2553-467b-acde-3484d724242f"
      },
      "execution_count": null,
      "outputs": [
        {
          "output_type": "stream",
          "name": "stdout",
          "text": [
            "(-3, -1) Distance from home =  4\n",
            "(1, 1) Distance from home =  2\n",
            "(1, 1) Distance from home =  2\n",
            "(-2, 0) Distance from home =  2\n",
            "(1, 5) Distance from home =  6\n",
            "(2, 0) Distance from home =  2\n",
            "(1, 1) Distance from home =  2\n",
            "(-1, 1) Distance from home =  0\n",
            "(5, -1) Distance from home =  4\n",
            "(1, -1) Distance from home =  0\n",
            "(1, 1) Distance from home =  2\n",
            "(-5, 1) Distance from home =  4\n",
            "(-1, 1) Distance from home =  0\n",
            "(3, -1) Distance from home =  2\n",
            "(-3, -1) Distance from home =  4\n",
            "(0, -2) Distance from home =  2\n",
            "(1, -3) Distance from home =  2\n",
            "(-1, -3) Distance from home =  4\n",
            "(-1, -1) Distance from home =  2\n",
            "(-3, -1) Distance from home =  4\n",
            "(0, 0) Distance from home =  0\n",
            "(0, -2) Distance from home =  2\n",
            "(0, 0) Distance from home =  0\n",
            "(-2, 4) Distance from home =  2\n",
            "(-3, 3) Distance from home =  0\n"
          ]
        }
      ]
    },
    {
      "cell_type": "markdown",
      "source": [
        "What is the longest random walk you can take so that you are on average 4 blocks or fewer from home\n"
      ],
      "metadata": {
        "id": "f8Pa4kwSOMne"
      }
    },
    {
      "cell_type": "markdown",
      "source": [
        "#Montecarlo Method"
      ],
      "metadata": {
        "id": "eHdfyf-OOW5m"
      }
    },
    {
      "cell_type": "code",
      "source": [
        "number_of_walks = 10000\n",
        "for walk_length in range(1,31): #Blacks 1 to 30\n",
        "  no_transport = 0\n",
        "  for i in range(number_of_walks):\n",
        "    (x,y) = random_walk2(walk_length)\n",
        "    distance = abs(x) + abs(y)\n",
        "    if distance <= 4:\n",
        "      no_transport += 1\n",
        "  no_transport_pecentage = float(no_transport)/number_of_walks\n",
        "  print(\"Walk_size = \", walk_length, \"percentage of no transport = \", 100* no_transport_pecentage)"
      ],
      "metadata": {
        "colab": {
          "base_uri": "https://localhost:8080/"
        },
        "id": "qsurBtdoM9YL",
        "outputId": "61e4346f-443c-45f1-c5ac-fad1f8dfade0"
      },
      "execution_count": null,
      "outputs": [
        {
          "output_type": "stream",
          "name": "stdout",
          "text": [
            "Walk_size =  1 percentage of no transport =  100.0\n",
            "Walk_size =  2 percentage of no transport =  100.0\n",
            "Walk_size =  3 percentage of no transport =  100.0\n",
            "Walk_size =  4 percentage of no transport =  100.0\n",
            "Walk_size =  5 percentage of no transport =  87.85\n",
            "Walk_size =  6 percentage of no transport =  93.7\n",
            "Walk_size =  7 percentage of no transport =  77.32\n",
            "Walk_size =  8 percentage of no transport =  86.5\n",
            "Walk_size =  9 percentage of no transport =  67.31\n",
            "Walk_size =  10 percentage of no transport =  79.59\n",
            "Walk_size =  11 percentage of no transport =  58.93000000000001\n",
            "Walk_size =  12 percentage of no transport =  73.37\n",
            "Walk_size =  13 percentage of no transport =  53.169999999999995\n",
            "Walk_size =  14 percentage of no transport =  67.25999999999999\n",
            "Walk_size =  15 percentage of no transport =  47.97\n",
            "Walk_size =  16 percentage of no transport =  62.62\n",
            "Walk_size =  17 percentage of no transport =  45.35\n",
            "Walk_size =  18 percentage of no transport =  58.41\n",
            "Walk_size =  19 percentage of no transport =  41.22\n",
            "Walk_size =  20 percentage of no transport =  53.269999999999996\n",
            "Walk_size =  21 percentage of no transport =  37.7\n",
            "Walk_size =  22 percentage of no transport =  51.870000000000005\n",
            "Walk_size =  23 percentage of no transport =  36.29\n",
            "Walk_size =  24 percentage of no transport =  48.07\n",
            "Walk_size =  25 percentage of no transport =  33.69\n",
            "Walk_size =  26 percentage of no transport =  45.42\n",
            "Walk_size =  27 percentage of no transport =  31.05\n",
            "Walk_size =  28 percentage of no transport =  43.44\n",
            "Walk_size =  29 percentage of no transport =  29.18\n",
            "Walk_size =  30 percentage of no transport =  40.77\n"
          ]
        }
      ]
    },
    {
      "cell_type": "markdown",
      "source": [
        "#22 blocks distance"
      ],
      "metadata": {
        "id": "R9j2zvksQJJu"
      }
    },
    {
      "cell_type": "code",
      "source": [
        "number_of_walks = 20000\n",
        "for walk_length in range(1,31): #Blacks 1 to 30\n",
        "  no_transport = 0\n",
        "  for i in range(number_of_walks):\n",
        "    (x,y) = random_walk2(walk_length)\n",
        "    distance = abs(x) + abs(y)\n",
        "    if distance <= 4:\n",
        "      no_transport += 1\n",
        "  no_transport_pecentage = float(no_transport)/number_of_walks\n",
        "  print(\"Walk_size = \", walk_length, \"percentage of no transport = \", 100* no_transport_pecentage)"
      ],
      "metadata": {
        "colab": {
          "base_uri": "https://localhost:8080/"
        },
        "id": "FRXXSm2XOzx2",
        "outputId": "72ffbe76-5ffa-4306-d554-2eaec4aae428"
      },
      "execution_count": null,
      "outputs": [
        {
          "output_type": "stream",
          "name": "stdout",
          "text": [
            "Walk_size =  1 percentage of no transport =  100.0\n",
            "Walk_size =  2 percentage of no transport =  100.0\n",
            "Walk_size =  3 percentage of no transport =  100.0\n",
            "Walk_size =  4 percentage of no transport =  100.0\n",
            "Walk_size =  5 percentage of no transport =  87.91499999999999\n",
            "Walk_size =  6 percentage of no transport =  93.795\n",
            "Walk_size =  7 percentage of no transport =  76.36\n",
            "Walk_size =  8 percentage of no transport =  86.715\n",
            "Walk_size =  9 percentage of no transport =  67.09\n",
            "Walk_size =  10 percentage of no transport =  79.235\n",
            "Walk_size =  11 percentage of no transport =  60.12\n",
            "Walk_size =  12 percentage of no transport =  72.61\n",
            "Walk_size =  13 percentage of no transport =  53.93\n",
            "Walk_size =  14 percentage of no transport =  67.47999999999999\n",
            "Walk_size =  15 percentage of no transport =  49.220000000000006\n",
            "Walk_size =  16 percentage of no transport =  62.51\n",
            "Walk_size =  17 percentage of no transport =  44.690000000000005\n",
            "Walk_size =  18 percentage of no transport =  57.745000000000005\n",
            "Walk_size =  19 percentage of no transport =  41.199999999999996\n",
            "Walk_size =  20 percentage of no transport =  54.30500000000001\n",
            "Walk_size =  21 percentage of no transport =  37.769999999999996\n",
            "Walk_size =  22 percentage of no transport =  51.61\n",
            "Walk_size =  23 percentage of no transport =  35.644999999999996\n",
            "Walk_size =  24 percentage of no transport =  47.885\n",
            "Walk_size =  25 percentage of no transport =  33.050000000000004\n",
            "Walk_size =  26 percentage of no transport =  45.225\n",
            "Walk_size =  27 percentage of no transport =  30.755\n",
            "Walk_size =  28 percentage of no transport =  42.21\n",
            "Walk_size =  29 percentage of no transport =  29.709999999999997\n",
            "Walk_size =  30 percentage of no transport =  40.38\n"
          ]
        }
      ]
    },
    {
      "cell_type": "markdown",
      "source": [
        "#Even walks lead to less probability of transport than odd walks"
      ],
      "metadata": {
        "id": "zN_qfhpFQUU7"
      }
    },
    {
      "cell_type": "markdown",
      "source": [
        "#Examples of the Monte Carlo simulation\n",
        "To determine the probability of your opponent's move in chess.\n",
        "To calculate the probability of going over budget.\n",
        "To determine the probability of snow in winter.\n",
        "To determine the possibility of winning at blackjack."
      ],
      "metadata": {
        "id": "KT7xZH3GQz5S"
      }
    },
    {
      "cell_type": "code",
      "source": [
        ""
      ],
      "metadata": {
        "id": "PL5NhZ30QQ6j"
      },
      "execution_count": null,
      "outputs": []
    }
  ]
}