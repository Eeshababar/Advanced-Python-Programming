{
  "nbformat": 4,
  "nbformat_minor": 0,
  "metadata": {
    "colab": {
      "provenance": []
    },
    "kernelspec": {
      "name": "python3",
      "display_name": "Python 3"
    },
    "language_info": {
      "name": "python"
    }
  },
  "cells": [
    {
      "cell_type": "markdown",
      "source": [
        "XML stands for extensible markup language. XML (Both machines and humans can understand that) A markup language is a set of codes, or tags, that describes the text in a digital document. The most famous markup language is hypertext markup language (HTML), which is used to format Web pages."
      ],
      "metadata": {
        "id": "oaw0qyAeylc1"
      }
    },
    {
      "cell_type": "code",
      "execution_count": null,
      "metadata": {
        "id": "7t8amKxOxtjh"
      },
      "outputs": [],
      "source": [
        "import xml.etree.ElementTree as ET"
      ]
    },
    {
      "cell_type": "code",
      "source": [
        "dir(ET)"
      ],
      "metadata": {
        "colab": {
          "base_uri": "https://localhost:8080/"
        },
        "id": "c4Z94ksoy76_",
        "outputId": "3572cbe6-dcd5-4e6a-f577-478acb7a0cfd"
      },
      "execution_count": null,
      "outputs": [
        {
          "output_type": "execute_result",
          "data": {
            "text/plain": [
              "['Comment',\n",
              " 'Element',\n",
              " 'ElementPath',\n",
              " 'ElementTree',\n",
              " 'HTML_EMPTY',\n",
              " 'PI',\n",
              " 'ParseError',\n",
              " 'ProcessingInstruction',\n",
              " 'QName',\n",
              " 'SubElement',\n",
              " 'TreeBuilder',\n",
              " 'VERSION',\n",
              " 'XML',\n",
              " 'XMLID',\n",
              " 'XMLParser',\n",
              " 'XMLPullParser',\n",
              " '_Element_Py',\n",
              " '_ListDataStream',\n",
              " '__all__',\n",
              " '__builtins__',\n",
              " '__cached__',\n",
              " '__doc__',\n",
              " '__file__',\n",
              " '__loader__',\n",
              " '__name__',\n",
              " '__package__',\n",
              " '__spec__',\n",
              " '_escape_attrib',\n",
              " '_escape_attrib_html',\n",
              " '_escape_cdata',\n",
              " '_get_writer',\n",
              " '_namespace_map',\n",
              " '_namespaces',\n",
              " '_raise_serialization_error',\n",
              " '_sentinel',\n",
              " '_serialize',\n",
              " '_serialize_html',\n",
              " '_serialize_text',\n",
              " '_serialize_xml',\n",
              " 'collections',\n",
              " 'contextlib',\n",
              " 'dump',\n",
              " 'fromstring',\n",
              " 'fromstringlist',\n",
              " 'io',\n",
              " 'iselement',\n",
              " 'iterparse',\n",
              " 'parse',\n",
              " 're',\n",
              " 'register_namespace',\n",
              " 'sys',\n",
              " 'tostring',\n",
              " 'tostringlist',\n",
              " 'warnings']"
            ]
          },
          "metadata": {},
          "execution_count": 2
        }
      ]
    },
    {
      "cell_type": "markdown",
      "source": [
        "inspect module is build for inspecting python code"
      ],
      "metadata": {
        "id": "T9w_7nosEnTD"
      }
    },
    {
      "cell_type": "code",
      "source": [
        "from inspect import getmembers, isclass, isfunction\n",
        "\n",
        "#Display classes in ET module\n",
        "\n",
        "for (name,member) in getmembers(ET,isclass):\n",
        "   if not name.startswith(\"_\"): #which class name does not start with _\n",
        "     print(name)"
      ],
      "metadata": {
        "colab": {
          "base_uri": "https://localhost:8080/"
        },
        "id": "ntpjAEtszITB",
        "outputId": "b2815927-a8fe-4af4-a50e-c9af9f9ab22f"
      },
      "execution_count": null,
      "outputs": [
        {
          "output_type": "stream",
          "name": "stdout",
          "text": [
            "Element\n",
            "ElementTree\n",
            "ParseError\n",
            "QName\n",
            "TreeBuilder\n",
            "XMLParser\n",
            "XMLPullParser\n"
          ]
        }
      ]
    },
    {
      "cell_type": "markdown",
      "source": [
        "XML = Tree of elements"
      ],
      "metadata": {
        "id": "DXcdiY6Qz479"
      }
    },
    {
      "cell_type": "code",
      "source": [
        "#Display function in ET module\n",
        "\n",
        "for (name,member) in getmembers(ET, isfunction):\n",
        "   if not name.startswith(\"_\"): \n",
        "     print(name)"
      ],
      "metadata": {
        "colab": {
          "base_uri": "https://localhost:8080/"
        },
        "id": "hYoEOixAzxVV",
        "outputId": "f22c7cea-1df4-43ea-97ca-f72c62e0c980"
      },
      "execution_count": null,
      "outputs": [
        {
          "output_type": "stream",
          "name": "stdout",
          "text": [
            "Comment\n",
            "PI\n",
            "ProcessingInstruction\n",
            "XML\n",
            "XMLID\n",
            "dump\n",
            "fromstring\n",
            "fromstringlist\n",
            "iselement\n",
            "iterparse\n",
            "parse\n",
            "register_namespace\n",
            "tostring\n",
            "tostringlist\n"
          ]
        }
      ]
    },
    {
      "cell_type": "markdown",
      "source": [
        "fromstringlist, tostring, parse\n",
        "\n",
        "1) Tostring convert between strings and elements\n",
        "2) parse gives element tree object\n",
        "\n",
        "Elememets has tags"
      ],
      "metadata": {
        "id": "d1x983LW0VoG"
      }
    },
    {
      "cell_type": "code",
      "source": [
        "import xml.etree.ElementTree as ET\n",
        "tree = ET.parse(\"/content/sample_CustomersOrders.xml\")"
      ],
      "metadata": {
        "id": "si9T21dy0L_V"
      },
      "execution_count": null,
      "outputs": []
    },
    {
      "cell_type": "code",
      "source": [
        "root = tree.getroot()\n",
        "print(ET.tostring(root))"
      ],
      "metadata": {
        "colab": {
          "base_uri": "https://localhost:8080/"
        },
        "id": "4hkRnYPXFwGk",
        "outputId": "c25bf585-cdeb-4cd7-d04c-bb059063ff9c"
      },
      "execution_count": null,
      "outputs": [
        {
          "output_type": "stream",
          "name": "stdout",
          "text": [
            "b'<Root>\\n  <Customers>\\n    <Customer CustomerID=\"GREAL\">\\n      <CompanyName>Great Lakes Food Market</CompanyName>\\n      <ContactName>Howard Snyder</ContactName>\\n      <ContactTitle>Marketing Manager</ContactTitle>\\n      <Phone>(503) 555-7555</Phone>\\n      <FullAddress>\\n        <Address>2732 Baker Blvd.</Address>\\n        <City>Eugene</City>\\n        <Region>OR</Region>\\n        <PostalCode>97403</PostalCode>\\n        <Country>USA</Country>\\n      </FullAddress>\\n    </Customer>\\n    <Customer CustomerID=\"HUNGC\">\\n      <CompanyName>Hungry Coyote Import Store</CompanyName>\\n      <ContactName>Yoshi Latimer</ContactName>\\n      <ContactTitle>Sales Representative</ContactTitle>\\n      <Phone>(503) 555-6874</Phone>\\n      <Fax>(503) 555-2376</Fax>\\n      <FullAddress>\\n        <Address>City Center Plaza 516 Main St.</Address>\\n        <City>Elgin</City>\\n        <Region>OR</Region>\\n        <PostalCode>97827</PostalCode>\\n        <Country>USA</Country>\\n      </FullAddress>\\n    </Customer>\\n    <Customer CustomerID=\"LAZYK\">\\n      <CompanyName>Lazy K Kountry Store</CompanyName>\\n      <ContactName>John Steel</ContactName>\\n      <ContactTitle>Marketing Manager</ContactTitle>\\n      <Phone>(509) 555-7969</Phone>\\n      <Fax>(509) 555-6221</Fax>\\n      <FullAddress>\\n        <Address>12 Orchestra Terrace</Address>\\n        <City>Walla Walla</City>\\n        <Region>WA</Region>\\n        <PostalCode>99362</PostalCode>\\n        <Country>USA</Country>\\n      </FullAddress>\\n    </Customer>\\n    <Customer CustomerID=\"LETSS\">\\n      <CompanyName>Let\\'s Stop N Shop</CompanyName>\\n      <ContactName>Jaime Yorres</ContactName>\\n      <ContactTitle>Owner</ContactTitle>\\n      <Phone>(415) 555-5938</Phone>\\n      <FullAddress>\\n        <Address>87 Polk St. Suite 5</Address>\\n        <City>San Francisco</City>\\n        <Region>CA</Region>\\n        <PostalCode>94117</PostalCode>\\n        <Country>USA</Country>\\n      </FullAddress>\\n    </Customer>\\n  </Customers>\\n  <Orders>\\n    <Order>\\n      <CustomerID>GREAL</CustomerID>\\n      <EmployeeID>6</EmployeeID>\\n      <OrderDate>1997-05-06T00:00:00</OrderDate>\\n      <RequiredDate>1997-05-20T00:00:00</RequiredDate>\\n      <ShipInfo ShippedDate=\"1997-05-09T00:00:00\">\\n        <ShipVia>2</ShipVia>\\n        <Freight>3.35</Freight>\\n        <ShipName>Great Lakes Food Market</ShipName>\\n        <ShipAddress>2732 Baker Blvd.</ShipAddress>\\n        <ShipCity>Eugene</ShipCity>\\n        <ShipRegion>OR</ShipRegion>\\n        <ShipPostalCode>97403</ShipPostalCode>\\n        <ShipCountry>USA</ShipCountry>\\n      </ShipInfo>\\n    </Order>\\n    <Order>\\n      <CustomerID>GREAL</CustomerID>\\n      <EmployeeID>8</EmployeeID>\\n      <OrderDate>1997-07-04T00:00:00</OrderDate>\\n      <RequiredDate>1997-08-01T00:00:00</RequiredDate>\\n      <ShipInfo ShippedDate=\"1997-07-14T00:00:00\">\\n        <ShipVia>2</ShipVia>\\n        <Freight>4.42</Freight>\\n        <ShipName>Great Lakes Food Market</ShipName>\\n        <ShipAddress>2732 Baker Blvd.</ShipAddress>\\n        <ShipCity>Eugene</ShipCity>\\n        <ShipRegion>OR</ShipRegion>\\n        <ShipPostalCode>97403</ShipPostalCode>\\n        <ShipCountry>USA</ShipCountry>\\n      </ShipInfo>\\n    </Order>\\n    <Order>\\n      <CustomerID>GREAL</CustomerID>\\n      <EmployeeID>1</EmployeeID>\\n      <OrderDate>1997-07-31T00:00:00</OrderDate>\\n      <RequiredDate>1997-08-28T00:00:00</RequiredDate>\\n      <ShipInfo ShippedDate=\"1997-08-05T00:00:00\">\\n        <ShipVia>2</ShipVia>\\n        <Freight>116.53</Freight>\\n        <ShipName>Great Lakes Food Market</ShipName>\\n        <ShipAddress>2732 Baker Blvd.</ShipAddress>\\n        <ShipCity>Eugene</ShipCity>\\n        <ShipRegion>OR</ShipRegion>\\n        <ShipPostalCode>97403</ShipPostalCode>\\n        <ShipCountry>USA</ShipCountry>\\n      </ShipInfo>\\n    </Order>\\n    <Order>\\n      <CustomerID>GREAL</CustomerID>\\n      <EmployeeID>4</EmployeeID>\\n      <OrderDate>1997-07-31T00:00:00</OrderDate>\\n      <RequiredDate>1997-08-28T00:00:00</RequiredDate>\\n      <ShipInfo ShippedDate=\"1997-08-04T00:00:00\">\\n        <ShipVia>2</ShipVia>\\n        <Freight>18.53</Freight>\\n        <ShipName>Great Lakes Food Market</ShipName>\\n        <ShipAddress>2732 Baker Blvd.</ShipAddress>\\n        <ShipCity>Eugene</ShipCity>\\n        <ShipRegion>OR</ShipRegion>\\n        <ShipPostalCode>97403</ShipPostalCode>\\n        <ShipCountry>USA</ShipCountry>\\n      </ShipInfo>\\n    </Order>\\n    <Order>\\n      <CustomerID>GREAL</CustomerID>\\n      <EmployeeID>6</EmployeeID>\\n      <OrderDate>1997-09-04T00:00:00</OrderDate>\\n      <RequiredDate>1997-10-02T00:00:00</RequiredDate>\\n      <ShipInfo ShippedDate=\"1997-09-10T00:00:00\">\\n        <ShipVia>1</ShipVia>\\n        <Freight>57.15</Freight>\\n        <ShipName>Great Lakes Food Market</ShipName>\\n        <ShipAddress>2732 Baker Blvd.</ShipAddress>\\n        <ShipCity>Eugene</ShipCity>\\n        <ShipRegion>OR</ShipRegion>\\n        <ShipPostalCode>97403</ShipPostalCode>\\n        <ShipCountry>USA</ShipCountry>\\n      </ShipInfo>\\n    </Order>\\n    <Order>\\n      <CustomerID>GREAL</CustomerID>\\n      <EmployeeID>3</EmployeeID>\\n      <OrderDate>1997-09-25T00:00:00</OrderDate>\\n      <RequiredDate>1997-10-23T00:00:00</RequiredDate>\\n      <ShipInfo ShippedDate=\"1997-09-30T00:00:00\">\\n        <ShipVia>3</ShipVia>\\n        <Freight>76.13</Freight>\\n        <ShipName>Great Lakes Food Market</ShipName>\\n        <ShipAddress>2732 Baker Blvd.</ShipAddress>\\n        <ShipCity>Eugene</ShipCity>\\n        <ShipRegion>OR</ShipRegion>\\n        <ShipPostalCode>97403</ShipPostalCode>\\n        <ShipCountry>USA</ShipCountry>\\n      </ShipInfo>\\n    </Order>\\n    <Order>\\n      <CustomerID>GREAL</CustomerID>\\n      <EmployeeID>4</EmployeeID>\\n      <OrderDate>1998-01-06T00:00:00</OrderDate>\\n      <RequiredDate>1998-02-03T00:00:00</RequiredDate>\\n      <ShipInfo ShippedDate=\"1998-02-04T00:00:00\">\\n        <ShipVia>2</ShipVia>\\n        <Freight>719.78</Freight>\\n        <ShipName>Great Lakes Food Market</ShipName>\\n        <ShipAddress>2732 Baker Blvd.</ShipAddress>\\n        <ShipCity>Eugene</ShipCity>\\n        <ShipRegion>OR</ShipRegion>\\n        <ShipPostalCode>97403</ShipPostalCode>\\n        <ShipCountry>USA</ShipCountry>\\n      </ShipInfo>\\n    </Order>\\n    <Order>\\n      <CustomerID>GREAL</CustomerID>\\n      <EmployeeID>3</EmployeeID>\\n      <OrderDate>1998-03-09T00:00:00</OrderDate>\\n      <RequiredDate>1998-04-06T00:00:00</RequiredDate>\\n      <ShipInfo ShippedDate=\"1998-03-18T00:00:00\">\\n        <ShipVia>2</ShipVia>\\n        <Freight>33.68</Freight>\\n        <ShipName>Great Lakes Food Market</ShipName>\\n        <ShipAddress>2732 Baker Blvd.</ShipAddress>\\n        <ShipCity>Eugene</ShipCity>\\n        <ShipRegion>OR</ShipRegion>\\n        <ShipPostalCode>97403</ShipPostalCode>\\n        <ShipCountry>USA</ShipCountry>\\n      </ShipInfo>\\n    </Order>\\n    <Order>\\n      <CustomerID>GREAL</CustomerID>\\n      <EmployeeID>3</EmployeeID>\\n      <OrderDate>1998-04-07T00:00:00</OrderDate>\\n      <RequiredDate>1998-05-05T00:00:00</RequiredDate>\\n      <ShipInfo ShippedDate=\"1998-04-15T00:00:00\">\\n        <ShipVia>2</ShipVia>\\n        <Freight>25.19</Freight>\\n        <ShipName>Great Lakes Food Market</ShipName>\\n        <ShipAddress>2732 Baker Blvd.</ShipAddress>\\n        <ShipCity>Eugene</ShipCity>\\n        <ShipRegion>OR</ShipRegion>\\n        <ShipPostalCode>97403</ShipPostalCode>\\n        <ShipCountry>USA</ShipCountry>\\n      </ShipInfo>\\n    </Order>\\n    <Order>\\n      <CustomerID>GREAL</CustomerID>\\n      <EmployeeID>4</EmployeeID>\\n      <OrderDate>1998-04-22T00:00:00</OrderDate>\\n      <RequiredDate>1998-05-20T00:00:00</RequiredDate>\\n      <ShipInfo>\\n        <ShipVia>3</ShipVia>\\n        <Freight>18.84</Freight>\\n        <ShipName>Great Lakes Food Market</ShipName>\\n        <ShipAddress>2732 Baker Blvd.</ShipAddress>\\n        <ShipCity>Eugene</ShipCity>\\n        <ShipRegion>OR</ShipRegion>\\n        <ShipPostalCode>97403</ShipPostalCode>\\n        <ShipCountry>USA</ShipCountry>\\n      </ShipInfo>\\n    </Order>\\n    <Order>\\n      <CustomerID>GREAL</CustomerID>\\n      <EmployeeID>4</EmployeeID>\\n      <OrderDate>1998-04-30T00:00:00</OrderDate>\\n      <RequiredDate>1998-06-11T00:00:00</RequiredDate>\\n      <ShipInfo>\\n        <ShipVia>3</ShipVia>\\n        <Freight>14.01</Freight>\\n        <ShipName>Great Lakes Food Market</ShipName>\\n        <ShipAddress>2732 Baker Blvd.</ShipAddress>\\n        <ShipCity>Eugene</ShipCity>\\n        <ShipRegion>OR</ShipRegion>\\n        <ShipPostalCode>97403</ShipPostalCode>\\n        <ShipCountry>USA</ShipCountry>\\n      </ShipInfo>\\n    </Order>\\n    <Order>\\n      <CustomerID>HUNGC</CustomerID>\\n      <EmployeeID>3</EmployeeID>\\n      <OrderDate>1996-12-06T00:00:00</OrderDate>\\n      <RequiredDate>1997-01-03T00:00:00</RequiredDate>\\n      <ShipInfo ShippedDate=\"1996-12-09T00:00:00\">\\n        <ShipVia>2</ShipVia>\\n        <Freight>20.12</Freight>\\n        <ShipName>Hungry Coyote Import Store</ShipName>\\n        <ShipAddress>City Center Plaza 516 Main St.</ShipAddress>\\n        <ShipCity>Elgin</ShipCity>\\n        <ShipRegion>OR</ShipRegion>\\n        <ShipPostalCode>97827</ShipPostalCode>\\n        <ShipCountry>USA</ShipCountry>\\n      </ShipInfo>\\n    </Order>\\n    <Order>\\n      <CustomerID>HUNGC</CustomerID>\\n      <EmployeeID>1</EmployeeID>\\n      <OrderDate>1996-12-25T00:00:00</OrderDate>\\n      <RequiredDate>1997-01-22T00:00:00</RequiredDate>\\n      <ShipInfo ShippedDate=\"1997-01-03T00:00:00\">\\n        <ShipVia>3</ShipVia>\\n        <Freight>30.34</Freight>\\n        <ShipName>Hungry Coyote Import Store</ShipName>\\n        <ShipAddress>City Center Plaza 516 Main St.</ShipAddress>\\n        <ShipCity>Elgin</ShipCity>\\n        <ShipRegion>OR</ShipRegion>\\n        <ShipPostalCode>97827</ShipPostalCode>\\n        <ShipCountry>USA</ShipCountry>\\n      </ShipInfo>\\n    </Order>\\n    <Order>\\n      <CustomerID>HUNGC</CustomerID>\\n      <EmployeeID>3</EmployeeID>\\n      <OrderDate>1997-01-15T00:00:00</OrderDate>\\n      <RequiredDate>1997-02-12T00:00:00</RequiredDate>\\n      <ShipInfo ShippedDate=\"1997-01-24T00:00:00\">\\n        <ShipVia>1</ShipVia>\\n        <Freight>0.2</Freight>\\n        <ShipName>Hungry Coyote Import Store</ShipName>\\n        <ShipAddress>City Center Plaza 516 Main St.</ShipAddress>\\n        <ShipCity>Elgin</ShipCity>\\n        <ShipRegion>OR</ShipRegion>\\n        <ShipPostalCode>97827</ShipPostalCode>\\n        <ShipCountry>USA</ShipCountry>\\n      </ShipInfo>\\n    </Order>\\n    <Order>\\n      <CustomerID>HUNGC</CustomerID>\\n      <EmployeeID>4</EmployeeID>\\n      <OrderDate>1997-07-16T00:00:00</OrderDate>\\n      <RequiredDate>1997-08-13T00:00:00</RequiredDate>\\n      <ShipInfo ShippedDate=\"1997-07-21T00:00:00\">\\n        <ShipVia>1</ShipVia>\\n        <Freight>45.13</Freight>\\n        <ShipName>Hungry Coyote Import Store</ShipName>\\n        <ShipAddress>City Center Plaza 516 Main St.</ShipAddress>\\n        <ShipCity>Elgin</ShipCity>\\n        <ShipRegion>OR</ShipRegion>\\n        <ShipPostalCode>97827</ShipPostalCode>\\n        <ShipCountry>USA</ShipCountry>\\n      </ShipInfo>\\n    </Order>\\n    <Order>\\n      <CustomerID>HUNGC</CustomerID>\\n      <EmployeeID>8</EmployeeID>\\n      <OrderDate>1997-09-08T00:00:00</OrderDate>\\n      <RequiredDate>1997-10-06T00:00:00</RequiredDate>\\n      <ShipInfo ShippedDate=\"1997-10-15T00:00:00\">\\n        <ShipVia>1</ShipVia>\\n        <Freight>111.29</Freight>\\n        <ShipName>Hungry Coyote Import Store</ShipName>\\n        <ShipAddress>City Center Plaza 516 Main St.</ShipAddress>\\n        <ShipCity>Elgin</ShipCity>\\n        <ShipRegion>OR</ShipRegion>\\n        <ShipPostalCode>97827</ShipPostalCode>\\n        <ShipCountry>USA</ShipCountry>\\n      </ShipInfo>\\n    </Order>\\n    <Order>\\n      <CustomerID>LAZYK</CustomerID>\\n      <EmployeeID>1</EmployeeID>\\n      <OrderDate>1997-03-21T00:00:00</OrderDate>\\n      <RequiredDate>1997-04-18T00:00:00</RequiredDate>\\n      <ShipInfo ShippedDate=\"1997-04-10T00:00:00\">\\n        <ShipVia>3</ShipVia>\\n        <Freight>7.48</Freight>\\n        <ShipName>Lazy K Kountry Store</ShipName>\\n        <ShipAddress>12 Orchestra Terrace</ShipAddress>\\n        <ShipCity>Walla Walla</ShipCity>\\n        <ShipRegion>WA</ShipRegion>\\n        <ShipPostalCode>99362</ShipPostalCode>\\n        <ShipCountry>USA</ShipCountry>\\n      </ShipInfo>\\n    </Order>\\n    <Order>\\n      <CustomerID>LAZYK</CustomerID>\\n      <EmployeeID>8</EmployeeID>\\n      <OrderDate>1997-05-22T00:00:00</OrderDate>\\n      <RequiredDate>1997-06-19T00:00:00</RequiredDate>\\n      <ShipInfo ShippedDate=\"1997-06-26T00:00:00\">\\n        <ShipVia>2</ShipVia>\\n        <Freight>11.92</Freight>\\n        <ShipName>Lazy K Kountry Store</ShipName>\\n        <ShipAddress>12 Orchestra Terrace</ShipAddress>\\n        <ShipCity>Walla Walla</ShipCity>\\n        <ShipRegion>WA</ShipRegion>\\n        <ShipPostalCode>99362</ShipPostalCode>\\n        <ShipCountry>USA</ShipCountry>\\n      </ShipInfo>\\n    </Order>\\n    <Order>\\n      <CustomerID>LETSS</CustomerID>\\n      <EmployeeID>1</EmployeeID>\\n      <OrderDate>1997-06-25T00:00:00</OrderDate>\\n      <RequiredDate>1997-07-23T00:00:00</RequiredDate>\\n      <ShipInfo ShippedDate=\"1997-07-04T00:00:00\">\\n        <ShipVia>2</ShipVia>\\n        <Freight>13.73</Freight>\\n        <ShipName>Let\\'s Stop N Shop</ShipName>\\n        <ShipAddress>87 Polk St. Suite 5</ShipAddress>\\n        <ShipCity>San Francisco</ShipCity>\\n        <ShipRegion>CA</ShipRegion>\\n        <ShipPostalCode>94117</ShipPostalCode>\\n        <ShipCountry>USA</ShipCountry>\\n      </ShipInfo>\\n    </Order>\\n    <Order>\\n      <CustomerID>LETSS</CustomerID>\\n      <EmployeeID>8</EmployeeID>\\n      <OrderDate>1997-10-27T00:00:00</OrderDate>\\n      <RequiredDate>1997-11-24T00:00:00</RequiredDate>\\n      <ShipInfo ShippedDate=\"1997-11-05T00:00:00\">\\n        <ShipVia>2</ShipVia>\\n        <Freight>51.44</Freight>\\n        <ShipName>Let\\'s Stop N Shop</ShipName>\\n        <ShipAddress>87 Polk St. Suite 5</ShipAddress>\\n        <ShipCity>San Francisco</ShipCity>\\n        <ShipRegion>CA</ShipRegion>\\n        <ShipPostalCode>94117</ShipPostalCode>\\n        <ShipCountry>USA</ShipCountry>\\n      </ShipInfo>\\n    </Order>\\n    <Order>\\n      <CustomerID>LETSS</CustomerID>\\n      <EmployeeID>6</EmployeeID>\\n      <OrderDate>1997-11-10T00:00:00</OrderDate>\\n      <RequiredDate>1997-12-08T00:00:00</RequiredDate>\\n      <ShipInfo ShippedDate=\"1997-11-21T00:00:00\">\\n        <ShipVia>2</ShipVia>\\n        <Freight>45.97</Freight>\\n        <ShipName>Let\\'s Stop N Shop</ShipName>\\n        <ShipAddress>87 Polk St. Suite 5</ShipAddress>\\n        <ShipCity>San Francisco</ShipCity>\\n        <ShipRegion>CA</ShipRegion>\\n        <ShipPostalCode>94117</ShipPostalCode>\\n        <ShipCountry>USA</ShipCountry>\\n      </ShipInfo>\\n    </Order>\\n    <Order>\\n      <CustomerID>LETSS</CustomerID>\\n      <EmployeeID>4</EmployeeID>\\n      <OrderDate>1998-02-12T00:00:00</OrderDate>\\n      <RequiredDate>1998-03-12T00:00:00</RequiredDate>\\n      <ShipInfo ShippedDate=\"1998-02-13T00:00:00\">\\n        <ShipVia>2</ShipVia>\\n        <Freight>90.97</Freight>\\n        <ShipName>Let\\'s Stop N Shop</ShipName>\\n        <ShipAddress>87 Polk St. Suite 5</ShipAddress>\\n        <ShipCity>San Francisco</ShipCity>\\n        <ShipRegion>CA</ShipRegion>\\n        <ShipPostalCode>94117</ShipPostalCode>\\n        <ShipCountry>USA</ShipCountry>\\n      </ShipInfo>\\n    </Order>\\n  </Orders>\\n</Root>'\n"
          ]
        }
      ]
    },
    {
      "cell_type": "markdown",
      "source": [
        "Result is bytesize"
      ],
      "metadata": {
        "id": "aIqZxUg5GLl0"
      }
    },
    {
      "cell_type": "code",
      "source": [
        "coin = root.get(\"Customer\")\n",
        "print(\"Crypto name = {val}\".format(val = coin))"
      ],
      "metadata": {
        "colab": {
          "base_uri": "https://localhost:8080/"
        },
        "id": "IvT3BI1jF8LQ",
        "outputId": "f6a77770-a88d-4e67-8a41-6925c268fea9"
      },
      "execution_count": null,
      "outputs": [
        {
          "output_type": "stream",
          "name": "stdout",
          "text": [
            "Crypto name = None\n"
          ]
        }
      ]
    },
    {
      "cell_type": "code",
      "source": [
        "root.set(\"launched\", \"2010200000\")\n",
        "print(root.attrib)"
      ],
      "metadata": {
        "colab": {
          "base_uri": "https://localhost:8080/"
        },
        "id": "FPlLJciRGx1N",
        "outputId": "7d009226-ecdf-47f6-ebc2-360f83fe48bf"
      },
      "execution_count": null,
      "outputs": [
        {
          "output_type": "stream",
          "name": "stdout",
          "text": [
            "{'launched': '2010200000'}\n"
          ]
        }
      ]
    },
    {
      "cell_type": "code",
      "source": [
        "tree.write(\"/content/sample_CustomersOrders.xml\")"
      ],
      "metadata": {
        "id": "UbE0IWNnHBaH"
      },
      "execution_count": null,
      "outputs": []
    },
    {
      "cell_type": "code",
      "source": [
        "coin = root.get(\"CustomerID\")\n",
        "print(\"Crypto name = {val}\".format(val = coin))"
      ],
      "metadata": {
        "colab": {
          "base_uri": "https://localhost:8080/"
        },
        "id": "hVWLdlSqHQFH",
        "outputId": "42243fc6-4cdf-47c9-95fb-c29a26fdbe1c"
      },
      "execution_count": null,
      "outputs": [
        {
          "output_type": "stream",
          "name": "stdout",
          "text": [
            "Crypto name = None\n"
          ]
        }
      ]
    },
    {
      "cell_type": "markdown",
      "source": [
        "Add id to each customer"
      ],
      "metadata": {
        "id": "WabTDd2ZHja8"
      }
    },
    {
      "cell_type": "code",
      "source": [
        "id = 1\n",
        "for Customer in tree.findall('Customer'):\n",
        "  Customer.set('id', str(id))\n",
        "  id += 1\n",
        "tree.write(\"/content/sample_CustomersOrders.xml\")"
      ],
      "metadata": {
        "id": "Hw9_y0hfHTj5"
      },
      "execution_count": null,
      "outputs": []
    },
    {
      "cell_type": "markdown",
      "source": [
        "Can delete attribute too"
      ],
      "metadata": {
        "id": "ow780KgsIVJN"
      }
    },
    {
      "cell_type": "code",
      "source": [
        "\n",
        "for Customer in tree.findall('Customer'):  #delete ID entry\n",
        "  del(Customer.attrib['id'])\n",
        "tree.write(\"/content/sample_CustomersOrders.xml\")"
      ],
      "metadata": {
        "id": "_u-rHI4DIBj4"
      },
      "execution_count": null,
      "outputs": []
    },
    {
      "cell_type": "code",
      "source": [
        "import xml.etree.ElementTree as ET\n",
        "tree = ET.parse(\"/sample_CustomersOrders.xml\")\n",
        "root = tree.getroot()\n",
        "customer1 = ET.fromstring(\"<Customer> Allen Duffy </Customer>\")\n",
        "root.append(customer1)\n",
        "tree.write(\"/sample_CustomersOrders.xml\")"
      ],
      "metadata": {
        "id": "QSR4qWmyIlno"
      },
      "execution_count": null,
      "outputs": []
    },
    {
      "cell_type": "code",
      "source": [
        "customer2  = ET.Element(\"customer\")\n",
        "customer2.text = \"Karl amber\"\n",
        "root.append(customer2)\n",
        "tree.write(\"/content/sample_CustomersOrders.xml\")\n"
      ],
      "metadata": {
        "id": "412czWoVuFE2"
      },
      "execution_count": null,
      "outputs": []
    },
    {
      "cell_type": "markdown",
      "source": [
        "Add id attribute"
      ],
      "metadata": {
        "id": "fZHVigwPu2Ii"
      }
    },
    {
      "cell_type": "code",
      "source": [
        "import xml.etree.ElementTree as ET\n",
        "tree = ET.parse(\"/sample_CustomersOrders.xml\")\n",
        "root = tree.getroot()\n",
        "investor = root.find(\".//investor[@id ='4']\")\n",
        "print(investor.text) "
      ],
      "metadata": {
        "colab": {
          "base_uri": "https://localhost:8080/",
          "height": 209
        },
        "id": "b2F9Kphiurrc",
        "outputId": "273eef94-93ce-4978-f923-f3bc2bbf27bf"
      },
      "execution_count": null,
      "outputs": [
        {
          "output_type": "error",
          "ename": "AttributeError",
          "evalue": "ignored",
          "traceback": [
            "\u001b[0;31m---------------------------------------------------------------------------\u001b[0m",
            "\u001b[0;31mAttributeError\u001b[0m                            Traceback (most recent call last)",
            "\u001b[0;32m<ipython-input-8-5ef3dea45a89>\u001b[0m in \u001b[0;36m<module>\u001b[0;34m\u001b[0m\n\u001b[1;32m      3\u001b[0m \u001b[0mroot\u001b[0m \u001b[0;34m=\u001b[0m \u001b[0mtree\u001b[0m\u001b[0;34m.\u001b[0m\u001b[0mgetroot\u001b[0m\u001b[0;34m(\u001b[0m\u001b[0;34m)\u001b[0m\u001b[0;34m\u001b[0m\u001b[0;34m\u001b[0m\u001b[0m\n\u001b[1;32m      4\u001b[0m \u001b[0minvestor\u001b[0m \u001b[0;34m=\u001b[0m \u001b[0mroot\u001b[0m\u001b[0;34m.\u001b[0m\u001b[0mfind\u001b[0m\u001b[0;34m(\u001b[0m\u001b[0;34m\".//investor[@id ='4']\"\u001b[0m\u001b[0;34m)\u001b[0m\u001b[0;34m\u001b[0m\u001b[0;34m\u001b[0m\u001b[0m\n\u001b[0;32m----> 5\u001b[0;31m \u001b[0mprint\u001b[0m\u001b[0;34m(\u001b[0m\u001b[0minvestor\u001b[0m\u001b[0;34m.\u001b[0m\u001b[0mtext\u001b[0m\u001b[0;34m)\u001b[0m\u001b[0;34m\u001b[0m\u001b[0;34m\u001b[0m\u001b[0m\n\u001b[0m",
            "\u001b[0;31mAttributeError\u001b[0m: 'NoneType' object has no attribute 'text'"
          ]
        }
      ]
    },
    {
      "cell_type": "code",
      "source": [],
      "metadata": {
        "id": "cPbK1-__vT7R"
      },
      "execution_count": null,
      "outputs": []
    }
  ]
}