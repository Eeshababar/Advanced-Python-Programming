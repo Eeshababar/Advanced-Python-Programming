{
  "nbformat": 4,
  "nbformat_minor": 0,
  "metadata": {
    "colab": {
      "provenance": []
    },
    "kernelspec": {
      "name": "python3",
      "display_name": "Python 3"
    },
    "language_info": {
      "name": "python"
    }
  },
  "cells": [
    {
      "cell_type": "markdown",
      "source": [
        "For-loops in Python do a lot of work for you.  By learning HOW iteration works, you will be able to add iteration to your own classes and create custom iterable objects.  Python also gives you an \"itertools\" module which contains a lot of convenience functions to save you time and streamline your code."
      ],
      "metadata": {
        "id": "tSZ4MzJJwBV6"
      }
    },
    {
      "cell_type": "markdown",
      "source": [
        "for x in something:\n",
        "something is iteratable"
      ],
      "metadata": {
        "id": "YEM06at1wJZq"
      }
    },
    {
      "cell_type": "code",
      "execution_count": null,
      "metadata": {
        "colab": {
          "base_uri": "https://localhost:8080/"
        },
        "id": "vlf_B79Qvrh4",
        "outputId": "47895340-f179-4544-ad73-bcefa81d4925"
      },
      "outputs": [
        {
          "output_type": "stream",
          "name": "stdout",
          "text": [
            "1\n",
            "2\n",
            "3\n",
            "4\n",
            "4\n",
            "5\n"
          ]
        }
      ],
      "source": [
        "list = [1,2,3,4,4,5]\n",
        "for x in list:\n",
        "  print(x)"
      ]
    },
    {
      "cell_type": "markdown",
      "source": [
        "Sequence = Iterable + Ordered\n",
        "Common sequences = lists, tuples, strings and bytes\n"
      ],
      "metadata": {
        "id": "HcRUlNpdwbAT"
      }
    },
    {
      "cell_type": "code",
      "source": [
        "for element in (\"josh\", \"Hosh\", \"Rosy\"):\n",
        "  print(element)\n"
      ],
      "metadata": {
        "colab": {
          "base_uri": "https://localhost:8080/"
        },
        "id": "GOOAsBJjwTWS",
        "outputId": "ae8899c2-b397-4d78-d97c-81b2af52adae"
      },
      "execution_count": null,
      "outputs": [
        {
          "output_type": "stream",
          "name": "stdout",
          "text": [
            "josh\n",
            "Hosh\n",
            "Rosy\n"
          ]
        }
      ]
    },
    {
      "cell_type": "code",
      "source": [
        "for letter in 'Scoratica':\n",
        "  print(letter)"
      ],
      "metadata": {
        "colab": {
          "base_uri": "https://localhost:8080/"
        },
        "id": "TKgCJvpfw5fd",
        "outputId": "68997afd-6e5e-4615-aeba-5f8fe9985034"
      },
      "execution_count": null,
      "outputs": [
        {
          "output_type": "stream",
          "name": "stdout",
          "text": [
            "S\n",
            "c\n",
            "o\n",
            "r\n",
            "a\n",
            "t\n",
            "i\n",
            "c\n",
            "a\n"
          ]
        }
      ]
    },
    {
      "cell_type": "code",
      "source": [
        "for byte in b'Binary': #byte values are ascii \n",
        "  print(byte)"
      ],
      "metadata": {
        "colab": {
          "base_uri": "https://localhost:8080/"
        },
        "id": "kXnqCv5yw_9I",
        "outputId": "f85508a7-462f-4a7f-9e15-3fbfbc9ad69d"
      },
      "execution_count": null,
      "outputs": [
        {
          "output_type": "stream",
          "name": "stdout",
          "text": [
            "66\n",
            "105\n",
            "110\n",
            "97\n",
            "114\n",
            "121\n"
          ]
        }
      ]
    },
    {
      "cell_type": "code",
      "source": [
        "for digit in 27890192:\n",
        "  print(digit)      #int is not iteratble"
      ],
      "metadata": {
        "colab": {
          "base_uri": "https://localhost:8080/",
          "height": 190
        },
        "id": "sd5EMKxOxHhp",
        "outputId": "60ae6a90-70d1-4230-9362-bb65abe27aaa"
      },
      "execution_count": null,
      "outputs": [
        {
          "output_type": "error",
          "ename": "TypeError",
          "evalue": "ignored",
          "traceback": [
            "\u001b[0;31m---------------------------------------------------------------------------\u001b[0m",
            "\u001b[0;31mTypeError\u001b[0m                                 Traceback (most recent call last)",
            "\u001b[0;32m<ipython-input-5-feb0a5986f8c>\u001b[0m in \u001b[0;36m<module>\u001b[0;34m\u001b[0m\n\u001b[0;32m----> 1\u001b[0;31m \u001b[0;32mfor\u001b[0m \u001b[0mdigit\u001b[0m \u001b[0;32min\u001b[0m \u001b[0;36m27890192\u001b[0m\u001b[0;34m:\u001b[0m\u001b[0;34m\u001b[0m\u001b[0;34m\u001b[0m\u001b[0m\n\u001b[0m\u001b[1;32m      2\u001b[0m   \u001b[0mprint\u001b[0m\u001b[0;34m(\u001b[0m\u001b[0mdigit\u001b[0m\u001b[0;34m)\u001b[0m\u001b[0;34m\u001b[0m\u001b[0;34m\u001b[0m\u001b[0m\n",
            "\u001b[0;31mTypeError\u001b[0m: 'int' object is not iterable"
          ]
        }
      ]
    },
    {
      "cell_type": "code",
      "source": [
        "c = 27890192\n",
        "digits = [int(d) for d in str(c)]\n",
        "for digit in digits:\n",
        "  print(digit)"
      ],
      "metadata": {
        "colab": {
          "base_uri": "https://localhost:8080/"
        },
        "id": "2PSuvglWxS6H",
        "outputId": "ccba5804-e991-44f3-8d1b-ddcc09f5a64a"
      },
      "execution_count": null,
      "outputs": [
        {
          "output_type": "stream",
          "name": "stdout",
          "text": [
            "2\n",
            "7\n",
            "8\n",
            "9\n",
            "0\n",
            "1\n",
            "9\n",
            "2\n"
          ]
        }
      ]
    },
    {
      "cell_type": "markdown",
      "source": [
        "What makes an object itertable"
      ],
      "metadata": {
        "id": "h8SsrERdxtqS"
      }
    },
    {
      "cell_type": "markdown",
      "source": [
        "Collections.abc"
      ],
      "metadata": {
        "id": "R1f36v-Rx1GS"
      }
    },
    {
      "cell_type": "code",
      "source": [
        "usernames = (\"lolo\", \"ben\", \"natig\")\n",
        "looper1 = usernames.__iter__()\n",
        "print(type(looper1))"
      ],
      "metadata": {
        "colab": {
          "base_uri": "https://localhost:8080/"
        },
        "id": "R2sqinwexqts",
        "outputId": "46038b17-e211-4ea8-806c-503183b0cb4a"
      },
      "execution_count": null,
      "outputs": [
        {
          "output_type": "stream",
          "name": "stdout",
          "text": [
            "<class 'tuple_iterator'>\n"
          ]
        }
      ]
    },
    {
      "cell_type": "code",
      "source": [
        "looper1.__next__()"
      ],
      "metadata": {
        "colab": {
          "base_uri": "https://localhost:8080/",
          "height": 36
        },
        "id": "gg3VsaB4ySGi",
        "outputId": "2311f2df-0d53-4cc1-808a-4a8859151d93"
      },
      "execution_count": null,
      "outputs": [
        {
          "output_type": "execute_result",
          "data": {
            "text/plain": [
              "'lolo'"
            ],
            "application/vnd.google.colaboratory.intrinsic+json": {
              "type": "string"
            }
          },
          "metadata": {},
          "execution_count": 8
        }
      ]
    },
    {
      "cell_type": "code",
      "source": [
        "looper1.__next__()"
      ],
      "metadata": {
        "colab": {
          "base_uri": "https://localhost:8080/",
          "height": 36
        },
        "id": "wMqN3urWyccS",
        "outputId": "ff902236-912c-4c1f-fbf7-842ca4cce25b"
      },
      "execution_count": null,
      "outputs": [
        {
          "output_type": "execute_result",
          "data": {
            "text/plain": [
              "'ben'"
            ],
            "application/vnd.google.colaboratory.intrinsic+json": {
              "type": "string"
            }
          },
          "metadata": {},
          "execution_count": 9
        }
      ]
    },
    {
      "cell_type": "code",
      "source": [
        "looper1.__next__()"
      ],
      "metadata": {
        "colab": {
          "base_uri": "https://localhost:8080/",
          "height": 36
        },
        "id": "c2JoakHjyeE3",
        "outputId": "63b1edd8-2972-46d8-e1ae-134ae6f62657"
      },
      "execution_count": null,
      "outputs": [
        {
          "output_type": "execute_result",
          "data": {
            "text/plain": [
              "'natig'"
            ],
            "application/vnd.google.colaboratory.intrinsic+json": {
              "type": "string"
            }
          },
          "metadata": {},
          "execution_count": 10
        }
      ]
    },
    {
      "cell_type": "code",
      "source": [
        "looper1.__next__()"
      ],
      "metadata": {
        "colab": {
          "base_uri": "https://localhost:8080/",
          "height": 172
        },
        "id": "_aNQFHvoyfKr",
        "outputId": "06c65b4d-cf45-4161-8b2c-c2a50b382cc7"
      },
      "execution_count": null,
      "outputs": [
        {
          "output_type": "error",
          "ename": "StopIteration",
          "evalue": "ignored",
          "traceback": [
            "\u001b[0;31m---------------------------------------------------------------------------\u001b[0m",
            "\u001b[0;31mStopIteration\u001b[0m                             Traceback (most recent call last)",
            "\u001b[0;32m<ipython-input-11-27baa47aadbd>\u001b[0m in \u001b[0;36m<module>\u001b[0;34m\u001b[0m\n\u001b[0;32m----> 1\u001b[0;31m \u001b[0mlooper1\u001b[0m\u001b[0;34m.\u001b[0m\u001b[0m__next__\u001b[0m\u001b[0;34m(\u001b[0m\u001b[0;34m)\u001b[0m\u001b[0;34m\u001b[0m\u001b[0;34m\u001b[0m\u001b[0m\n\u001b[0m",
            "\u001b[0;31mStopIteration\u001b[0m: "
          ]
        }
      ]
    },
    {
      "cell_type": "code",
      "source": [
        "looper2 = iter(usernames)"
      ],
      "metadata": {
        "id": "Gl3VE_SJyhsU"
      },
      "execution_count": null,
      "outputs": []
    },
    {
      "cell_type": "code",
      "source": [
        "next(looper2)"
      ],
      "metadata": {
        "colab": {
          "base_uri": "https://localhost:8080/",
          "height": 36
        },
        "id": "9ky56tw1yrKo",
        "outputId": "e64ec01e-7db1-48ef-ad69-51b3034518f5"
      },
      "execution_count": null,
      "outputs": [
        {
          "output_type": "execute_result",
          "data": {
            "text/plain": [
              "'lolo'"
            ],
            "application/vnd.google.colaboratory.intrinsic+json": {
              "type": "string"
            }
          },
          "metadata": {},
          "execution_count": 14
        }
      ]
    },
    {
      "cell_type": "code",
      "source": [
        "next(looper2)"
      ],
      "metadata": {
        "colab": {
          "base_uri": "https://localhost:8080/",
          "height": 36
        },
        "id": "wqRyqBCDyx41",
        "outputId": "c902ef68-5791-4462-f5c7-81a3158cd6e3"
      },
      "execution_count": null,
      "outputs": [
        {
          "output_type": "execute_result",
          "data": {
            "text/plain": [
              "'ben'"
            ],
            "application/vnd.google.colaboratory.intrinsic+json": {
              "type": "string"
            }
          },
          "metadata": {},
          "execution_count": 15
        }
      ]
    },
    {
      "cell_type": "code",
      "source": [
        "next(looper2)"
      ],
      "metadata": {
        "colab": {
          "base_uri": "https://localhost:8080/",
          "height": 36
        },
        "id": "QhWaG-URyz4G",
        "outputId": "9665661d-e7d0-403b-e4ed-5fb1409e8a57"
      },
      "execution_count": null,
      "outputs": [
        {
          "output_type": "execute_result",
          "data": {
            "text/plain": [
              "'natig'"
            ],
            "application/vnd.google.colaboratory.intrinsic+json": {
              "type": "string"
            }
          },
          "metadata": {},
          "execution_count": 16
        }
      ]
    },
    {
      "cell_type": "code",
      "source": [
        "user = [\"lolo\", \"ben\", \"natig\"]"
      ],
      "metadata": {
        "id": "0TRZrgRty1nq"
      },
      "execution_count": null,
      "outputs": []
    },
    {
      "cell_type": "markdown",
      "source": [
        "#Mechanics of iteration"
      ],
      "metadata": {
        "id": "XTv3R2v8ffy8"
      }
    },
    {
      "cell_type": "code",
      "source": [
        "looper = iter(user)\n",
        "while True:\n",
        "    try:\n",
        "        user = next(looper)\n",
        "        print(user)\n",
        "    except StopIteration: \n",
        "        break\n"
      ],
      "metadata": {
        "colab": {
          "base_uri": "https://localhost:8080/"
        },
        "id": "rrB3puzqzAxC",
        "outputId": "e8943e3a-83a0-4c21-a5da-330f53619b1b"
      },
      "execution_count": null,
      "outputs": [
        {
          "output_type": "stream",
          "name": "stdout",
          "text": [
            "lolo\n",
            "ben\n",
            "natig\n"
          ]
        }
      ]
    },
    {
      "cell_type": "code",
      "source": [
        "class Portfolio:\n",
        "  def __init___(self):\n",
        "    self.holdings = {}\n",
        "  def buy(self, ticker, shares):\n",
        "    self.holdings[ticker] = self.holdings.get(ticker,0) + shares\n",
        "  def sell(self,ticker,shares):\n",
        "    self.holdings[ticker] = self.holdings.get(ticker,0) - shares\n",
        "  def __iter__(self):\n",
        "    return iter(self.holdings.items()) \n",
        "\n"
      ],
      "metadata": {
        "id": "cr44CHAOzY6-"
      },
      "execution_count": null,
      "outputs": []
    },
    {
      "cell_type": "markdown",
      "source": [
        "#Itertools\n",
        "1)infinite iterators\n",
        "2)Preprocessing\n",
        "3)Combinations and Permutation"
      ],
      "metadata": {
        "id": "xbI_jCpRh7_Q"
      }
    },
    {
      "cell_type": "code",
      "source": [
        "import itertools\n",
        "ranks = list(range(2,11)) + ['J', 'Q', 'K', 'A']"
      ],
      "metadata": {
        "id": "HBrU9BHfhdXD"
      },
      "execution_count": null,
      "outputs": []
    },
    {
      "cell_type": "code",
      "source": [
        "print(ranks)"
      ],
      "metadata": {
        "colab": {
          "base_uri": "https://localhost:8080/"
        },
        "id": "I4ViziEaieAz",
        "outputId": "63039610-0371-40f8-ec56-f55792b28e25"
      },
      "execution_count": null,
      "outputs": [
        {
          "output_type": "stream",
          "name": "stdout",
          "text": [
            "[2, 3, 4, 5, 6, 7, 8, 9, 10, 'J', 'Q', 'K', 'A']\n"
          ]
        }
      ]
    },
    {
      "cell_type": "code",
      "source": [
        "ranks = [str(rank) for rank in ranks]\n",
        "suits = ['Hears', 'Clubs', 'Diamonds', 'Spades']\n",
        "deck = [card for card  in itertools.product(ranks,suits)]\n",
        "for (index,card) in enumerate(deck):\n",
        "  print(1+index, card)"
      ],
      "metadata": {
        "colab": {
          "base_uri": "https://localhost:8080/"
        },
        "id": "GAPD15D1ifua",
        "outputId": "da554e1e-4fad-4f11-d9bd-c1bfd76db9d5"
      },
      "execution_count": null,
      "outputs": [
        {
          "output_type": "stream",
          "name": "stdout",
          "text": [
            "1 ('2', 'Hears')\n",
            "2 ('2', 'Clubs')\n",
            "3 ('2', 'Diamonds')\n",
            "4 ('2', 'Spades')\n",
            "5 ('3', 'Hears')\n",
            "6 ('3', 'Clubs')\n",
            "7 ('3', 'Diamonds')\n",
            "8 ('3', 'Spades')\n",
            "9 ('4', 'Hears')\n",
            "10 ('4', 'Clubs')\n",
            "11 ('4', 'Diamonds')\n",
            "12 ('4', 'Spades')\n",
            "13 ('5', 'Hears')\n",
            "14 ('5', 'Clubs')\n",
            "15 ('5', 'Diamonds')\n",
            "16 ('5', 'Spades')\n",
            "17 ('6', 'Hears')\n",
            "18 ('6', 'Clubs')\n",
            "19 ('6', 'Diamonds')\n",
            "20 ('6', 'Spades')\n",
            "21 ('7', 'Hears')\n",
            "22 ('7', 'Clubs')\n",
            "23 ('7', 'Diamonds')\n",
            "24 ('7', 'Spades')\n",
            "25 ('8', 'Hears')\n",
            "26 ('8', 'Clubs')\n",
            "27 ('8', 'Diamonds')\n",
            "28 ('8', 'Spades')\n",
            "29 ('9', 'Hears')\n",
            "30 ('9', 'Clubs')\n",
            "31 ('9', 'Diamonds')\n",
            "32 ('9', 'Spades')\n",
            "33 ('10', 'Hears')\n",
            "34 ('10', 'Clubs')\n",
            "35 ('10', 'Diamonds')\n",
            "36 ('10', 'Spades')\n",
            "37 ('J', 'Hears')\n",
            "38 ('J', 'Clubs')\n",
            "39 ('J', 'Diamonds')\n",
            "40 ('J', 'Spades')\n",
            "41 ('Q', 'Hears')\n",
            "42 ('Q', 'Clubs')\n",
            "43 ('Q', 'Diamonds')\n",
            "44 ('Q', 'Spades')\n",
            "45 ('K', 'Hears')\n",
            "46 ('K', 'Clubs')\n",
            "47 ('K', 'Diamonds')\n",
            "48 ('K', 'Spades')\n",
            "49 ('A', 'Hears')\n",
            "50 ('A', 'Clubs')\n",
            "51 ('A', 'Diamonds')\n",
            "52 ('A', 'Spades')\n"
          ]
        }
      ]
    },
    {
      "cell_type": "code",
      "source": [
        "hands = [hand for hand in itertools.combinations(deck,5)]\n",
        "print(f\"The number of 5 cards pocker hands is {len(hands)}.\")"
      ],
      "metadata": {
        "colab": {
          "base_uri": "https://localhost:8080/"
        },
        "id": "NVE-P3BljFeZ",
        "outputId": "079d8ee1-5bb3-4eca-84d3-f39157c243ba"
      },
      "execution_count": null,
      "outputs": [
        {
          "output_type": "stream",
          "name": "stdout",
          "text": [
            "The number of 5 cards pocker hands is 2598960.\n"
          ]
        }
      ]
    },
    {
      "cell_type": "code",
      "source": [],
      "metadata": {
        "id": "-9CdW4pNjtZ9"
      },
      "execution_count": null,
      "outputs": []
    }
  ]
}