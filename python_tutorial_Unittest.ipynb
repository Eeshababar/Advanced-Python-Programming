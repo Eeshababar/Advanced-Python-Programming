{
  "nbformat": 4,
  "nbformat_minor": 0,
  "metadata": {
    "colab": {
      "provenance": []
    },
    "kernelspec": {
      "name": "python3",
      "display_name": "Python 3"
    },
    "language_info": {
      "name": "python"
    }
  },
  "cells": [
    {
      "cell_type": "code",
      "execution_count": 2,
      "metadata": {
        "id": "6FjsE3pys2oi"
      },
      "outputs": [],
      "source": [
        "from math import pi\n",
        "def area_of_circle(r):\n",
        "  return pi*(r**2)"
      ]
    },
    {
      "cell_type": "code",
      "source": [
        "r = [1,2,-3,0,2+5j,True]\n",
        "message = \"The area of cicle with radius r = {radius} is {area}\"\n",
        "for r in r:\n",
        "  A = area_of_circle(r)\n",
        "  print(message.format(radius = r, area = A))"
      ],
      "metadata": {
        "colab": {
          "base_uri": "https://localhost:8080/"
        },
        "id": "tpDcDFl6tksh",
        "outputId": "28ddac36-76a3-483b-8f29-25d6cbd2bdaf"
      },
      "execution_count": 3,
      "outputs": [
        {
          "output_type": "stream",
          "name": "stdout",
          "text": [
            "The area of cicle with radius r = 1 is 3.141592653589793\n",
            "The area of cicle with radius r = 2 is 12.566370614359172\n",
            "The area of cicle with radius r = -3 is 28.274333882308138\n",
            "The area of cicle with radius r = 0 is 0.0\n",
            "The area of cicle with radius r = (2+5j) is (-65.97344572538566+62.83185307179586j)\n",
            "The area of cicle with radius r = True is 3.141592653589793\n"
          ]
        }
      ]
    },
    {
      "cell_type": "markdown",
      "source": [
        "/circles_test.py (all test grouped together), /test_circle.py(all test separate)"
      ],
      "metadata": {
        "id": "JlzgHMXaulR_"
      }
    },
    {
      "cell_type": "code",
      "source": [
        "import unittest\n",
        "from math import pi\n"
      ],
      "metadata": {
        "id": "rC0L55oJuOMJ"
      },
      "execution_count": 4,
      "outputs": []
    },
    {
      "cell_type": "code",
      "source": [
        "class TestCircleArea(unittest.TestCase):\n",
        "  def test_area(self):\n",
        "    \"\"\" Test if formula gives right value for r > 0 \"\"\"\n",
        "    self.assertAlmostEqual(area_of_circle(1) , pi)\n",
        "    self.assertAlmostEqual(area_of_circle(0) , 0)\n",
        "    self.assertAlmostEqual(area_of_circle(2.1) , pi*2.1*2) #correct if equal upto 7 decimal places\n"
      ],
      "metadata": {
        "id": "TXow9KZIzbL_"
      },
      "execution_count": 7,
      "outputs": []
    },
    {
      "cell_type": "code",
      "source": [
        "#python -m unittest test_cirles"
      ],
      "metadata": {
        "id": "ArF2RRam09kD"
      },
      "execution_count": null,
      "outputs": []
    },
    {
      "cell_type": "code",
      "source": [
        "class TestCircleArea(unittest.TestCase):\n",
        "  def test_area(self):\n",
        "    \"\"\" Test if formula gives right value for r > 0 \"\"\"\n",
        "    self.assertAlmostEqual(area_of_circle(1) , pi)\n",
        "    self.assertAlmostEqual(area_of_circle(0) , 0)\n",
        "    self.assertAlmostEqual(area_of_circle(2.1) , pi*2.1*2) #correct if equal upto 7 decimal places\n",
        "  def test_values(self):\n",
        "    #Make sure errors are rasied when necessary\n",
        "    self.assertRaises(ValueError ,  area_of_circle, -2)"
      ],
      "metadata": {
        "id": "Oappnue11taC"
      },
      "execution_count": 8,
      "outputs": []
    },
    {
      "cell_type": "markdown",
      "source": [
        "F for fail, fail, number of failures"
      ],
      "metadata": {
        "id": "pF95YpF62aga"
      }
    },
    {
      "cell_type": "code",
      "source": [
        "from math import pi\n",
        "def area_of_circle(r):\n",
        "  if (r < 0):\n",
        "    raise ValueError(\"The radius cannot be negative\")\n",
        "  return pi*(r**2)"
      ],
      "metadata": {
        "id": "EqEynHaW2U5X"
      },
      "execution_count": 9,
      "outputs": []
    },
    {
      "cell_type": "markdown",
      "source": [
        "Assert methods"
      ],
      "metadata": {
        "id": "fCqUzqKY2z8T"
      }
    },
    {
      "cell_type": "code",
      "source": [
        "import unittest\n",
        "help(unittest.TestCase.assertSetEqual)"
      ],
      "metadata": {
        "colab": {
          "base_uri": "https://localhost:8080/"
        },
        "id": "i_HBJXE72umS",
        "outputId": "fe8e7928-e1f4-4bcd-f5a6-6eb2318218c3"
      },
      "execution_count": 10,
      "outputs": [
        {
          "output_type": "stream",
          "name": "stdout",
          "text": [
            "Help on function assertSetEqual in module unittest.case:\n",
            "\n",
            "assertSetEqual(self, set1, set2, msg=None)\n",
            "    A set-specific equality assertion.\n",
            "    \n",
            "    Args:\n",
            "        set1: The first set to compare.\n",
            "        set2: The second set to compare.\n",
            "        msg: Optional message to use on failure instead of a list of\n",
            "                differences.\n",
            "    \n",
            "    assertSetEqual uses ducktyping to support different types of sets, and\n",
            "    is optimized for sets specifically (parameters must support a\n",
            "    difference method).\n",
            "\n"
          ]
        }
      ]
    },
    {
      "cell_type": "code",
      "source": [
        "class TestCircleArea(unittest.TestCase):\n",
        "  def test_area(self):\n",
        "    \"\"\" Test if formula gives right value for r > 0 \"\"\"\n",
        "    self.assertAlmostEqual(area_of_circle(1) , pi)\n",
        "    self.assertAlmostEqual(area_of_circle(0) , 0)\n",
        "    self.assertAlmostEqual(area_of_circle(2.1) , pi*2.1*2) #correct if equal upto 7 decimal places\n",
        "  def test_values(self):\n",
        "    #Make sure errors are rasied when necessary\n",
        "    self.assertRaises(ValueError ,  area_of_circle, -2)\n",
        "  def test_type(self):\n",
        "    self.assertRaises(ValueError ,  area_of_circle, 3+5j)\n",
        "    self.assertRaises(ValueError ,  area_of_circle, True)\n",
        "    self.assertRaises(ValueError ,  area_of_circle, \"radius\")"
      ],
      "metadata": {
        "id": "Qziu7nPz3GtH"
      },
      "execution_count": 11,
      "outputs": []
    },
    {
      "cell_type": "code",
      "source": [
        "from math import pi\n",
        "def area_of_circle(r):\n",
        "  if type(r) not in [int,float]:\n",
        "    raise ValueError(\"The radius must be non-negative real number\")\n",
        "  if (r < 0):\n",
        "    raise ValueError(\"The radius cannot be negative\")\n",
        "  return pi*(r**2)"
      ],
      "metadata": {
        "id": "nuAqpwuR3hxD"
      },
      "execution_count": 12,
      "outputs": []
    },
    {
      "cell_type": "code",
      "source": [],
      "metadata": {
        "id": "Hv3MJymh38Vk"
      },
      "execution_count": null,
      "outputs": []
    }
  ]
}